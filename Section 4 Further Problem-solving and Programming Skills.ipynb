{
 "cells": [
  {
   "cell_type": "markdown",
   "metadata": {},
   "source": [
    "# 4.3: Further programming\n",
    "\n",
    "## 4.3.1 Programming paradigms\n",
    "There are several **paradigms** (styles) of programming, of which one or more may be adopted in a project depending on the requirements and the platform(s) used. Often, a **programming language** would be tied to a particular paradigm. For example, [Python](https://www.python.org/) is an object-oriented programming language, [LabVIEW](http://labview.com) (language: G) is a data-flow language, and [C++](https://isocpp.org/) supports multiple paradigms.\n",
    "\n",
    "### 1: Low-level programming\n",
    "This is used to program instructions that the CPU can execute directly, for example using **assembly programming**. This has already been covered in papers 1 and 3.\n",
    "\n",
    "### 2: Imperative programming\n",
    "This involves writing about _how_ a program accomplished something in a rather detailed manner. This is probably what you have been doing upto now.\n",
    "\n",
    "### 3: Object-oriented programming\n",
    "The program consists **objects** that can have **methods** (actions/functions/procedures) and **properties** (attributes). This is implemented using the concept of a `class`.\n",
    "\n",
    "### 4: Declarative programming\n",
    "Programs are written without paying much attention to the details of their execution. This is often used to specify *facts* and *rules* in order to solve a problem."
   ]
  },
  {
   "cell_type": "markdown",
   "metadata": {},
   "source": [
    "## 4.3.3: Exception handling\n",
    "The importance of **error handling** or **exception handling** cannot be overstated. Every programmer eventually runs into code that **throws** an error. It is crucial that the program should be able **handle** the error and continue execution; if not, it must have a way to report it to the user without simply crashing.\n",
    "\n",
    "In Python 3, the `try:` keyword is used to attempt execution of a block of code that might throw an error. We then execute the next block(s) of code depending on whether or not an error occurred. Anything after the `else:` keyword is executed only if no errors occur. One or more `except:` statements can be specified so that different code can execute depending upon the exact exception **raised**. Here is a concise summary:\n",
    "```python\n",
    "try:\n",
    "    ### code to attempt\n",
    "\n",
    "except errorTypeOne:\n",
    "    ### code to execute if errorTypeOne occurred\n",
    "\n",
    "except errorTypeTwo:\n",
    "    ### code to execute if errorTypeTwo occurred\n",
    "\n",
    "... # various errors\n",
    "\n",
    "except:\n",
    "    ### code to execute if an exception occurred\n",
    "      # but it was not explicitly handled above\n",
    "\n",
    "else:\n",
    "    # code to execute if no error occurred\n",
    "\n",
    "finally:\n",
    "    # code to execute regardless of errors\n",
    "```\n",
    "\n",
    "A list of common built-in exceptions can be found [here](https://docs.python.org/3/library/exceptions.html), from Python's official website."
   ]
  },
  {
   "cell_type": "code",
   "execution_count": null,
   "metadata": {},
   "outputs": [],
   "source": [
    "### Attempt a division problem\n",
    "try:\n",
    "    dividend = float(input(\"Enter a dividend: \"))\n",
    "    divisor = float(input(\"Enter a divisor: \"))\n",
    "    quotient = dividend / divisor\n",
    "\n",
    "### Handle [any] error that comes up (such as divide-by-zero)\n",
    "except:\n",
    "    print (\"You entered an invalid value.\")\n",
    "\n",
    "### Output results if operation was successful\n",
    "else:\n",
    "    print (dividend, \"/\", divisor, \"=\", quotient)\n",
    "\n",
    "### Execute this regardless of program\n",
    "finally:\n",
    "    print (\"This division program has completed executing.\")"
   ]
  },
  {
   "cell_type": "code",
   "execution_count": null,
   "metadata": {},
   "outputs": [],
   "source": [
    "### Attempt a division problem\n",
    "try:\n",
    "    dividend = float(input(\"Enter a dividend: \"))\n",
    "    divisor = float(input(\"Enter a divisor: \"))\n",
    "    quotient = dividend / divisor\n",
    "\n",
    "### Handle error wherein the entered value cannot be converted to a number by the float() function\n",
    "except ValueError:\n",
    "    print (\"One of the values you entered is not a number, so it cannot be used for division.\")\n",
    "\n",
    "### Handle error wherein a zero was entered for the divisor, which is mathematically not defined (aka impossible)\n",
    "except ZeroDivisionError:\n",
    "    print (\"You tried dividing by 0, which is mathematically not possible.\")\n",
    "\n",
    "### Handle other generic error\n",
    "except:\n",
    "    print (\"Congratulations! You made an error the author of this notebook could not think of!\")\n",
    "\n",
    "### Output results if operation was successful\n",
    "else:\n",
    "    print (dividend, \"/\", divisor, \"=\", quotient)\n",
    "\n",
    "### Execute this regardless of program\n",
    "finally:\n",
    "    print (\"This division program has completed executing.\")"
   ]
  },
  {
   "cell_type": "markdown",
   "metadata": {},
   "source": [
    "## 4.1.4: Recursion\n",
    "Recursion occurs when a procedure or function is defined in terms of itself, and calls itself repeatedly. It is one of the most elegant tools in a programmer's arsenal. Recursion is useful when an action has to performed on something, and then repeated on a subsection of the same thing. Searching for an element in a binary tree is a good example, and this will come up later in this notebook. We define recursive functions by using base case(s) and general case(s). The **general case** is the recursive element that calls itself repeatedly; the **base case** is a pre-defined condition that is not recursive. The general case recursively calls itself, until the base case is reached.\n",
    "\n",
    "It is useful to know that many operations that are performed recursively can be done just as well with a loop.\n",
    "\n",
    "### 1: The general structure of recursion\n",
    "\n",
    "```\n",
    "PROCEDURE RecursiveSubroutine (Parameter : DATATYPE)\n",
    "    \n",
    "    IF baseCase(Parameter) = TRUE\n",
    "\n",
    "      THEN\n",
    "        RETURN SomeFunction(Parameter)\n",
    "    \n",
    "      ELSE\n",
    "        CALL RecursiveSubroutine(SomeOtherFunction(Parameter))\n",
    "    \n",
    "    ENDIF\n",
    "\n",
    "    RETURN Parameter\n",
    "\n",
    "ENDPROCEDURE\n",
    "```"
   ]
  },
  {
   "cell_type": "markdown",
   "metadata": {},
   "source": [
    "### 2: Example of calculating factorials\n",
    "A commonly used mathematical function, called a **factorial**, is an example of recursion. The factorial (denoted as $x!$) of any positive integer $x$, is the product of every integer between $x$ and $1$ inclusive. For example, $5! = 5 \\times 4 \\times 3 \\times 2 \\times 1$ so $5! = 120$.\n",
    "\n",
    "Here, we define the general case as $x! = x \\times (x - 1)!$ and the base case as $0! = 1$."
   ]
  },
  {
   "cell_type": "code",
   "execution_count": null,
   "metadata": {
    "tags": []
   },
   "outputs": [],
   "source": [
    "def factorial(x):\n",
    "\n",
    "    if x == 0:\n",
    "        answer = 1\n",
    "    \n",
    "    else:\n",
    "        answer = x * factorial(x - 1)\n",
    "    \n",
    "    return answer\n",
    "\n",
    "print(\"0! =\", factorial(0))\n",
    "print(\"5! =\", factorial(5))"
   ]
  },
  {
   "cell_type": "code",
   "execution_count": null,
   "metadata": {},
   "outputs": [],
   "source": [
    "### Demonstrate the same code using a loop\n",
    "def factorial(x):\n",
    "    answer = 1\n",
    "    \n",
    "    for counter in range(x, 1, -1):\n",
    "        answer = answer * counter\n",
    "    \n",
    "    return answer\n",
    "    \n",
    "print(\"0! =\", factorial(0))\n",
    "print(\"5! =\", factorial(5))"
   ]
  },
  {
   "cell_type": "markdown",
   "metadata": {},
   "source": [
    "## 4.1.1: Abstraction\n",
    "\n",
    "### Classes: objects, properties and methods\n",
    "A class can be thought of as a template, that allows a programmer to define several **objects** with the same (or similar) **properties** and **methods** without rewriting the definition each time. This is analogous to using a pre-defined keyword (such as `int` for `INTEGER`) to define multiples identifiers with same data type. Indeed, it can be useful to think of a data type as a class - each identifier, then, is an **instance** of the `int` class. Consider defining a class `human`: this would have properties `name`, `height`, `mother_tounge`, `favoutite_book` and `sex`; it could have methods `sleep()`, `eat(food_name)`, `study()`, `exercise()` and `readBook(book_name)`. Each method can be executed, and each property behaves as a variable. If a programmer had to define identifiers for a hundred different humans, they needn't declare each property individually each time - instead, they can use an instance of the class `human` by declaring an identifier for each person, and all instances automatically **inherit** all the properties and methods defined in the base class.\n",
    "\n",
    "Each element is accessed using a dot, with the syntax:\n",
    "```python\n",
    "identifier = class.property\n",
    "class.procedure_method()\n",
    "class.procedure_method(arguments)\n",
    "identifier = class.function_method()\n",
    "identifier = class.function_method(arguments)\n",
    "```"
   ]
  },
  {
   "cell_type": "code",
   "execution_count": null,
   "metadata": {},
   "outputs": [],
   "source": [
    "### Define a class for animals\n",
    "class animal():\n",
    "    \n",
    "    ### define properties for the class\n",
    "    name = \"\"\n",
    "    height = 0      # in metres :D\n",
    "    sex = \"\"\n",
    "\n",
    "    ### define the methods - this requires the use of a keyword self\n",
    "    def sleep(self):\n",
    "        print (self.name, \"is sleeping now.\")\n",
    "            # a property of a class can be accessed using\n",
    "            # the self keyword\n",
    "    \n",
    "    def eat(self, food_name):\n",
    "        print(self.name, \"is eating\", food_name, \"now.\")\n",
    "\n",
    "### Set an instance of the class\n",
    "elephant = animal()\n",
    "elephant.name = \"Dumbo\"     # each property can be accessed individually (written to here)\n",
    "elephant.height = 3\n",
    "elephant.sex = \"male\"\n",
    "print(elephant.name, \"is\", elephant.height, \"metres tall.\")             # (read from here)\n",
    "elephant.eat(\"papaya\")\n",
    "elephant.sleep()\n",
    "\n",
    "### Set another instance of the class\n",
    "cow = animal()\n",
    "cow.name = \"Moo\"     # each property can be accessed individually\n",
    "cow.height = 1.8\n",
    "cow.sex = \"female\"\n",
    "cow.sleep()\n",
    "cow.eat(\"grass\")"
   ]
  },
  {
   "cell_type": "markdown",
   "metadata": {},
   "source": [
    "Setting the properties this way is a rather lengthy process. Most programming languages allow a **constructor** to be defined, which lets a value to be passed into the declaration of the class itself, as a parameter. This involves the `__init__()` construct.\n",
    "\n",
    "It is usual to use two identifiers with the same name (but in different **scopes**) when using a constructor. Consider a constructor into which a name and an age are passed as parameters: this would also have the word `self` to indicate that it is part of a class and must be able to access its methods and properties.\n",
    "```python\n",
    "class animal():\n",
    "    name = \"\"\n",
    "    age = 0\n",
    "\n",
    "    def __init__ (self, name, age):\n",
    "        self.name = name\n",
    "        self.age = age\n",
    "\n",
    "cow = animal(\"Moo\", 10)\n",
    "```\n",
    "Consider the statement `self.name = name`: it must be kept in mind that this is a valid assignment operation and the identifiers on either side of the equals sign are distinct. The identifier `self.name` is a property of the class `animal` - this is what other methods defined within `animal`, and indeed any other function from an instance of the class (such as `cow.age`), would access. The identifier `name`, is simply an argument passed into the constructor - no method or routine outside the definition of the `__init()__` can access it."
   ]
  },
  {
   "cell_type": "code",
   "execution_count": null,
   "metadata": {},
   "outputs": [],
   "source": [
    "### Define a class for animals\n",
    "class animal():\n",
    "    ### define properties for the class\n",
    "    name = \"\"\n",
    "    height = 0\n",
    "    sex = \"\"\n",
    "\n",
    "    ### define the constructor\n",
    "    def __init__(self, name, height, sex):\n",
    "        self.name = name        # don't confuse the identical names!\n",
    "        self.height = height\n",
    "        self.sex = sex\n",
    "\n",
    "    ### define the other methods - this requires the use of a keyword self\n",
    "    def sleep(self):\n",
    "        print (self.name, \"is sleeping now.\")\n",
    "            # a property of a class can be accessed using\n",
    "            # the self keyword\n",
    "    \n",
    "    def eat(self, food_name):\n",
    "        print(self.name, \"is eating\", food_name, \"now.\")\n",
    "\n",
    "### Set an instance of the class\n",
    "elephant = animal(\"Dumbo\", 3, \"male\")   # the initialization is much shorter indeed\n",
    "print(elephant.name, \"is\", elephant.height, \"metres tall.\")\n",
    "elephant.eat(\"papaya\")\n",
    "elephant.sleep()\n",
    "\n",
    "### Set another instance of the class\n",
    "cow = animal(\"Moo\", 1.8, \"female\")\n",
    "cow.sleep()\n",
    "cow.eat(\"grass\")"
   ]
  },
  {
   "cell_type": "code",
   "execution_count": null,
   "metadata": {},
   "outputs": [],
   "source": [
    "### Define a class for books\n",
    "class book():\n",
    "    ISBN = \"\"\n",
    "    title = \"\"\n",
    "    author = \"\"\n",
    "\n",
    "    # initialize\n",
    "    def __init__ (self, ISBN, title, author):\n",
    "        self.ISBN = ISBN\n",
    "        self.title = title\n",
    "        self.author = author\n",
    "        self.validateISBN()     # notice how the function is called as a method\n",
    "        \n",
    "    # define a validation routine, using ISBN 13\n",
    "    # https://isbn-information.com/the-13-digit-isbn.html\n",
    "    def validateISBN(self):\n",
    "        valid = False\n",
    "\n",
    "        while not valid:\n",
    "\n",
    "            valid = (len(self.ISBN) == 13)\n",
    "\n",
    "            if valid:\n",
    "                checkDigit = 0\n",
    "                multiplyDigits = [1, 3]\n",
    "                currentDigit = False\n",
    "\n",
    "                for digit in self.ISBN[0:12]:\n",
    "                    checkDigit += int(digit) * multiplyDigits[currentDigit]\n",
    "                    currentDigit = not currentDigit\n",
    "\n",
    "                checkDigit %= 10\n",
    "\n",
    "                if checkDigit != 0:\n",
    "                    checkDigit = 10 - checkDigit\n",
    "                \n",
    "                valid = (int(self.ISBN[12]) == checkDigit)\n",
    "\n",
    "            if not valid:\n",
    "                self.ISBN = input(\"The ISBN for \" + self.title + \" is incorrect. Please re-enter: \")\n",
    "            \n",
    "engineering = book(\"9789056995010\", \"The Art of Doing Science and Engineering\", \"Richard Hamming\")\n",
    "intelligence = book(\"9781493402697\", \"Mechanical Intelligence\", \"Alan Turing\")  # the actual ISBN is 9781493302697"
   ]
  },
  {
   "cell_type": "markdown",
   "metadata": {},
   "source": [
    "### Inheritance\n",
    "Classes can also inherit from other classes, which turns out to be extremely useful. Continuing with the example of the class `human`, consider creating classes for other animals - a class `dog` for example. The class `dog` would have some methods and properties that are the same as for the class `human`: the methods `sleep()` and `eat(food_name)` and properties `name`, `height` and `sex`. Properties and methods about books, studying and languages would be of little use for a dog. However, a dog may also have additional properties `is_pet` and `favourite_bone`, and methods `scratchEar()` and `bark()`. It is clear that `dog` and `human` cannot be defined identically but it would also be wasteful to repeatedly define the common elements. A programmer could define both classes efficiently but still maintain the flexibility if they first define a **parent** class `animal` with the common elements, and then define `dog` and `human` as **child** classes.\n"
   ]
  },
  {
   "cell_type": "code",
   "execution_count": null,
   "metadata": {},
   "outputs": [],
   "source": [
    "### Define a class for humans thats inherits from the animals class\n",
    "class human(animal):    # the parent class is specified in parenthesis\n",
    "\n",
    "    mother_tongue = \"\"\n",
    "    favourite_book = \"\"\n",
    "\n",
    "    def __init__(self, name, height, sex, mother_tongue, favourite_book):   # notice how all parameters are passed\n",
    "        animal.__init__(self, name, height, sex)  # set the inherited properties\n",
    "        self.mother_tongue = mother_tongue\n",
    "        self.favourite_book = favourite_book\n",
    "    \n",
    "    ### define the other methods - these apply only to humans\n",
    "    def study(self):\n",
    "        print (self.name, \"is studying right now.\")\n",
    "    \n",
    "    def exercise(self):\n",
    "        print (self.name, \"is exercising.\")\n",
    "    \n",
    "    def readBook(self, book_name):\n",
    "        print (self.name, \"is reading\", ('\\\"' + book_name + '\\\"'), \"now\" + (\" and it is his favoutite book.\" if book_name == self.favourite_book else \".\"))\n",
    "\n",
    "### Set an instance of the class\n",
    "mark = human(\"Mark\", 1.8, \"male\", \"English\", \"The Art of Doing Science and Engineering, Richard Hamming\")\n",
    "mark.eat(\"cake\")    # access method from parent\n",
    "mark.sleep()\n",
    "mark.readBook(\"Humble Pi, Matt Parker\")     # access method from child\n",
    "mark.readBook(\"The Art of Doing Science and Engineering, Richard Hamming\")\n",
    "print (mark.name, \"speaks\", mark.mother_tongue, \"at home.\")     # access properties from both classes"
   ]
  },
  {
   "cell_type": "markdown",
   "metadata": {},
   "source": [
    "### Polymorphism\n",
    "Operators and subroutines can behave in different ways, depending on different condition. You have already met two examples of this at AS Level P2, but might not have explicitly noticed. This feature (an operator/procedure can choose a behaviour depending on the oprands/arguments it is provided) is called **overloading** and the example below demonstrates **operator overloading**.\n",
    "\n",
    "#### The `+` operator\n",
    "\n",
    "```python\n",
    "a = 1\n",
    "b = 2\n",
    "addedValue = a + b + 4\n",
    "print (addedValue)\n",
    "# In this case, the plus sign (+) is used to add together numeric values.\n",
    "```\n",
    "\n",
    "```python\n",
    "concatenatedString = \"Hello\" + ' ' + \"World\" + '!'\n",
    "print (concatenatedString)\n",
    "# In this case, the plus sign (+) is used to concatenate two strings.\n",
    "```\n",
    "\n",
    "Try to recall/research about what the other **polymorphic** operator was.\n",
    "\n",
    "\n",
    "It is possible to define methods to do this, and demonstrate inheritance at the same time. Consider writing a program about school buses. All of them would require methods to take in fuel and get the amount of it remaining, so it might be a good idea to define those in the parent class and then let child classes inherit them. However, different busses might use different types of fuel (such as diesel, petrol or natural gas) and might require different methods - this would lead to different identifiers and make the program difficult to use. A programmer can use the efficiency benefits of inheritance, but still use **same identifiers** for buses with different systems using the concept of polymorphism.\n",
    "\n",
    "The table below summarises the classes that would be produced this way.\n",
    "\n",
    "| Class | Parent class | Child classes | Methods | Properties |\n",
    "| :- | :- | :- | :- | :- |\n",
    "| `bus` | | `dieselBased` <br> `petrolBased` <br> `CNGBased` | `accelerate()` <br> `decelerate()` | `route` <br> `driverCode` |\n",
    "| `dieselBased` | `bus` | | `getFuelLevel()` <br> `refuel()` | `fuelLevel` |\n",
    "| `petrolBased` | `bus` | | `getFuelLevel()` <br> `refuel()` | `fuelLevel` |\n",
    "| `CNGBased` | `bus` | | `getFuelLevel()` <br> `refuel()` | `fuelLevel` |"
   ]
  },
  {
   "cell_type": "code",
   "execution_count": null,
   "metadata": {},
   "outputs": [],
   "source": [
    "### Define the parent bus class\n",
    "class bus():\n",
    "\n",
    "    def __init__ (self, route, driverCode):\n",
    "        self.route = route\n",
    "        self.driverCode = driverCode\n",
    "        self.velocity = 0\n",
    "    \n",
    "    def accelerate(self, acceleration, time):\n",
    "        self.velocity += acceleration * time\n",
    "        \n",
    "        if self.velocity > 60:      # speed limits!\n",
    "            self.velocity = 60\n",
    "\n",
    "        self.fuelLevel -= 0.05 * self.velocity * time\n",
    "\n",
    "    def decelerate(self, deceleration, time):\n",
    "        self.velocity -= deceleration * time\n",
    "        \n",
    "        if self.velocity < 0:\n",
    "            self.velocity = 0\n",
    "\n",
    "        self.fuelLevel -= 0.05 * self.velocity * time"
   ]
  },
  {
   "cell_type": "code",
   "execution_count": null,
   "metadata": {},
   "outputs": [],
   "source": [
    "### Define the child bus classes\n",
    "class dieselBased (bus):\n",
    "\n",
    "    def __init__ (self, route, driverCode, fuelLevel):\n",
    "        bus.__init__ (self, route, driverCode)\n",
    "        self.fuelLevel = fuelLevel\n",
    "\n",
    "    def getFuelLevel (self):\n",
    "        print (\"There are\", self.fuelLevel, \"litres of diesel left.\")\n",
    "    \n",
    "    def refuel (self, value):\n",
    "        self.fuelLevel += value\n",
    "        print (\"There are now\", self.fuelLevel, \"litres of diesel in the tank of.\")\n",
    "\n",
    "\n",
    "class petrolBased (bus):\n",
    "\n",
    "    def __init__ (self, route, driverCode, fuelLevel):\n",
    "        bus.__init__ (self, route, driverCode)\n",
    "        self.fuelLevel = fuelLevel\n",
    "\n",
    "    def getFuelLevel (self):\n",
    "        print (\"There are\", self.fuelLevel, \"litres of petrol left.\")\n",
    "    \n",
    "    def refuel (self, value):\n",
    "        self.fuelLevel += value\n",
    "        print (\"There are now\", self.fuelLevel, \"litres of petrol in the tank.\")\n",
    "\n",
    "\n",
    "class CNGBased (bus):\n",
    "\n",
    "    def __init__ (self, route, driverCode, fuelLevel):\n",
    "        bus.__init__ (self, route, driverCode)\n",
    "        self.fuelLevel = fuelLevel\n",
    "\n",
    "    def getFuelLevel (self):\n",
    "        print (\"There are\", self.fuelLevel, \"litres of CNG left.\")\n",
    "    \n",
    "    def refuel (self, value):\n",
    "        self.fuelLevel += value\n",
    "        print (\"There are now\", self.fuelLevel, \"litres of CNG in the tank.\")"
   ]
  },
  {
   "cell_type": "code",
   "execution_count": null,
   "metadata": {},
   "outputs": [],
   "source": [
    "### Demonstrate the classes\n",
    "busAA002 = dieselBased(\"AA\", \"AA001\", 0)\n",
    "busAA002.refuel(10)\n",
    "busAA002.accelerate(3, 2)\n",
    "\n",
    "busAA003 = petrolBased(\"AA\", \"AA003\", 0)\n",
    "busAA003.refuel(20)\n",
    "busAA003.accelerate(3, 5)\n",
    "\n",
    "print (busAA002.driverCode, \"is driving at\", busAA002.velocity, \"kmph.\", end = ' ')\n",
    "busAA002.getFuelLevel()\n",
    "print (busAA003.driverCode, \"is driving at\", busAA003.velocity, \"kmph.\", end= ' ')\n",
    "busAA003.getFuelLevel()"
   ]
  },
  {
   "cell_type": "markdown",
   "metadata": {},
   "source": [
    "# 4.1: Computational thinking and problem-solving\n",
    "\n",
    "## 4.1.3: Abstract Data Types (ADTs)\n",
    "An ADT is a collection of data and a set of operations on that data.\n",
    "\n",
    "ADTs come in two flavours:\n",
    "\n",
    "* **Composite:** these are ADTs defined using other built-in data types. For example, queues are built using arrays of some atomic datatype, and records store information as various other datatypes.\n",
    "\n",
    "* **Non-composite:** these are defined _from scratch_, without relying on any other data types. For example, **enumerated (enum)** is a data type on its own.\n",
    "\n",
    "Many of the ADTs we will explore below (stack, queue, linked list) are built from arrays and seem to be different ways of storing items with an index, but it is worth noting that they have vastly different applications. Stacks are used to maintain program control, and you can see a **call stack** (this is internally the backbone of recursion) whenever you run a program in the debugging mode of an IDE. Queues are often used to \"place events on hold\", such as in a printer's buffer. A linked list is often used internally to implement other data structures (such as arrays); here, rather ironically, linked lists will be implmented using arrays."
   ]
  },
  {
   "cell_type": "markdown",
   "metadata": {},
   "source": [
    "### 1: Stacks\n",
    "A stack is a list containing several items, operation on the **last in, first out (LIFO)** principle. Items can be **pushed** (added) onto the stack, and **popped** (removed) from the stack. It has a **pointer** that helps keep track of the current element."
   ]
  },
  {
   "cell_type": "code",
   "execution_count": null,
   "metadata": {},
   "outputs": [],
   "source": [
    "numberOfElements = 10\n",
    "\n",
    "stack = [None for index in range (numberOfElements)]\n",
    "basePointer = 0\n",
    "topPointer = -1\n",
    "stackFull = 10"
   ]
  },
  {
   "cell_type": "markdown",
   "metadata": {},
   "source": [
    "### 2: Queue\n",
    "A queue is a list containing several items operating on the **first in, first out (FIFO)** principle. Items can be **enqueued** (added) to the queue and **dequeued** (removed) from the queue. It has a **pointer** that helps keep track of the current element."
   ]
  },
  {
   "cell_type": "code",
   "execution_count": null,
   "metadata": {},
   "outputs": [],
   "source": [
    "numberOfElements = 10\n",
    "\n",
    "queue = [None for index in range(numberOfElements)]\n",
    "frontPointer = 0\n",
    "rearPointer = -1\n",
    "queueFull = 10\n",
    "queueLength = 0"
   ]
  },
  {
   "cell_type": "markdown",
   "metadata": {},
   "source": [
    "### 3: Linked List\n",
    "A linked list is a list containing several items in which every item in the list points to the next item in the list. In a linked list, a new item is always added to the start of the list."
   ]
  },
  {
   "cell_type": "code",
   "execution_count": null,
   "metadata": {},
   "outputs": [],
   "source": [
    "numberOfElements = 10\n",
    "myLinkedList = [0 for index in range(numberOfElements + 1)]\n",
    "myLinkedListPointers = [index for index in range(numberOfElements + 1)]\n",
    "startPointer = -1\n",
    "heapStartPointer = 0\n",
    "nullPointer = -1"
   ]
  },
  {
   "cell_type": "markdown",
   "metadata": {},
   "source": [
    "### 4: Records\n",
    "It could be useful to think of this ADT with databases in mind: as a record holds data about a particular entry in a table for an entity, the ADT record holds data about a particular entry."
   ]
  },
  {
   "cell_type": "code",
   "execution_count": null,
   "metadata": {},
   "outputs": [],
   "source": [
    "### Define a record for students as a class\n",
    "class student():\n",
    "    name = \"\"\n",
    "    no_of_subjects = 0\n",
    "    sex = \"\"\n",
    "\n",
    "### Declare instances\n",
    "alex = student()\n",
    "alex.name = \"Alex\"\n",
    "alex.no_of_subjects = 2\n",
    "alex.sex = \"male\"\n",
    "\n",
    "kat = student()\n",
    "kat.name = \"Katherine\"\n",
    "kat.no_of_subjects = 4\n",
    "kat.sex = \"female\""
   ]
  },
  {
   "cell_type": "markdown",
   "metadata": {},
   "source": [
    "### 5: Binary trees\n",
    "A binary tree can also be implemented as a class. The best way to understand one is probably to visualize it, and the following image from [Wikimedia Commons](https://commons.wikimedia.org/wiki/File:Binary_tree.png) shows a binary tree. Each circle is a **node** and this is the part that is an identifier and can store an element of data. Some nodes also have nodes under them, and these are called **branches**. In the diagram below, the <b><span style=\"color:blue\">blue</span></b> nodes branch off from the <b><span style=\"color:red\">red</span></b> nodes, and themselves branch further. The <b><span style=\"color:green\">green</span></b> nodes do not branch further, and are called **leaves**.\n",
    "\n",
    "<a title=\"No machine-readable author provided. Rune~commonswiki assumed (based on copyright claims)., CC BY-SA 3.0 &lt;http://creativecommons.org/licenses/by-sa/3.0/&gt;, via Wikimedia Commons\" href=\"https://commons.wikimedia.org/wiki/File:Binary_tree.png\"><img width=\"512\" alt=\"Binary tree\" src=\"https://upload.wikimedia.org/wikipedia/commons/thumb/d/df/Binary_tree.png/512px-Binary_tree.png\"></a>\n",
    "\n",
    "Since a tree always has the same structure, i.e., every node has a value and either branches or terminates as a leaf, recursion is used to perform many of the operations associated with trees."
   ]
  },
  {
   "cell_type": "code",
   "execution_count": null,
   "metadata": {},
   "outputs": [],
   "source": [
    "### Define a class for a node of the tree\n",
    "  # Unlink other data structures, it is more useful to write the related algorithms (insertion, searching et cetera) here, and not separately\n",
    "class node():\n",
    "\n",
    "    def __init__ (self, data):\n",
    "        self.left = None\n",
    "        self.right = None\n",
    "        self.data = data\n",
    "\n",
    "    def printTree(self):\n",
    "        if self.left:\n",
    "            self.left.printTree()   # recursion\n",
    "        \n",
    "        print(self.data)            # base case\n",
    "\n",
    "        if self.right:\n",
    "            self.right.printTree()  # recursion\n",
    "\n",
    "    def insertNode(self, data):\n",
    "        if self.data:\n",
    "            \n",
    "            if data < self.data:\n",
    "                if self.left is None:\n",
    "                    self.left = node(data)\n",
    "                \n",
    "                else:\n",
    "                    self.left.insertNode(data)      # recursion\n",
    "            elif data > self.data:\n",
    "                if self.right is None:\n",
    "                    self.right = node(data)\n",
    "                \n",
    "                else:\n",
    "                    self.right.insertNode(data)     # recursion\n",
    "        \n",
    "        else:\n",
    "            self.data = data                        # base case\n",
    "\n",
    "    def find(self, value):\n",
    "        if value < self.data:\n",
    "            if self.left is None:\n",
    "                return False\n",
    "            return self.left.find(value)    # recursion\n",
    "\n",
    "        elif value > self.data:    \n",
    "            if self.right is None:\n",
    "                return False\n",
    "            return self.right.find(value)   # recursion\n",
    "\n",
    "        else:                               # base case\n",
    "            return True\n",
    "            print('i')\n",
    "\n",
    "tree = node(None)\n",
    "\n",
    "for i in range(10):\n",
    "    tree.insertNode(i)\n",
    "\n",
    "print (tree.find(7))\n",
    "print (tree.find(34))\n",
    "\n",
    "tree.printTree()"
   ]
  },
  {
   "cell_type": "markdown",
   "metadata": {},
   "source": [
    "## 4.1.2 Algorithms for manipulating or reading ADTs\n",
    "Here we will look at the algorithms used to read from, or write to, ADTs. We will use `global` to access global variables within a function definition."
   ]
  },
  {
   "cell_type": "markdown",
   "metadata": {},
   "source": [
    "### 1: Push onto a stack\n",
    "To push an element onto a stack, we first check whether or not the stack is already full. If it is not full, we write the new element `item` to the position `[topPointer]`, and then increment `topPointer` by 1; else we print out an error message."
   ]
  },
  {
   "cell_type": "code",
   "execution_count": null,
   "metadata": {},
   "outputs": [],
   "source": [
    "def push(item):\n",
    "    global topPointer\n",
    "    \n",
    "    if topPointer < (stackFull - 1):\n",
    "        topPointer += 1\n",
    "        stack[topPointer] = item\n",
    "    \n",
    "    else:\n",
    "        print (\"Stack is full, cannot push\")"
   ]
  },
  {
   "cell_type": "markdown",
   "metadata": {},
   "source": [
    "### 2: Pop from a stack\n",
    "To pop an element from the from the stack, we first check whether or not the stack is already empty. If it is not empty, we access the element `item` at the position `[topPointer]`, and then decrement `topPointer` by 1; else we print out an error message."
   ]
  },
  {
   "cell_type": "code",
   "execution_count": null,
   "metadata": {},
   "outputs": [],
   "source": [
    "def pop():\n",
    "    global topPointer, basePointer\n",
    "    item = None\n",
    "\n",
    "    if topPointer == (basePointer - 1):\n",
    "        print(\"Stack is empty, cannot pop\")\n",
    "\n",
    "    else:\n",
    "        item = stack[topPointer]\n",
    "        topPointer -= 1\n",
    "    \n",
    "    return item"
   ]
  },
  {
   "cell_type": "markdown",
   "metadata": {},
   "source": [
    "### 3: Enqueue an element\n",
    "To enqueue an element `item`, we first check whether or not a queue is already full. If it is not full, we add `item` at the position `[rearPointer]` and increment `queueLength`; else we print out an error message. If `rearPointer` and the queue is not full, the `item` is stored in the first element of the array."
   ]
  },
  {
   "cell_type": "code",
   "execution_count": null,
   "metadata": {},
   "outputs": [],
   "source": [
    "def enQueue(item):\n",
    "    global queueLength, rearPointer\n",
    "\n",
    "    if queueLength < queueFull:\n",
    "\n",
    "        if rearPointer < (len(queue) - 1):\n",
    "            rearPointer += 1\n",
    "        \n",
    "        else:\n",
    "            rearPointer = 0\n",
    "        \n",
    "        queueLength += 1\n",
    "        queue[rearPointer] = item\n",
    "        \n",
    "    else:\n",
    "        print(\"Queue is full, cannot enqueue\")"
   ]
  },
  {
   "cell_type": "markdown",
   "metadata": {},
   "source": [
    "### 4: Dequeue an element\n",
    "To dequeue an element, we first check if the queue is already empty. If it is not empty, we access the element at position the `[frontPointer]` and decrement `queueLength` by 1; else we print out an error message. If `frontPointer` points to the last element, it is updated to point to the first element in the array, rather than the next element in the array."
   ]
  },
  {
   "cell_type": "code",
   "execution_count": null,
   "metadata": {},
   "outputs": [],
   "source": [
    "def deQueue():\n",
    "    global queueLength, frontPointer\n",
    "    item = None\n",
    "\n",
    "    if queueLength == 0:\n",
    "        print(\"Queue is empty, cannot dequeue\")\n",
    "    \n",
    "    else:\n",
    "        item = queue[frontPointer]\n",
    "\n",
    "        if frontPointer == (len(queue) - 1):\n",
    "            frontPointer = 0\n",
    "        \n",
    "        else:\n",
    "            frontPointer += 1\n",
    "        \n",
    "        queueLength -= 1\n",
    "    \n",
    "    return item"
   ]
  },
  {
   "cell_type": "markdown",
   "metadata": {},
   "source": [
    "### 5: Finding an item in a linked list\n",
    "To find an item `itemSearch` in a linked list, we step through every element while following the pointers. If `itemSearch` is found (i.e., `itemSearch` equals the element at `[itemPointer]`), then the search loop terminates; else it searches till it reaches `nullPointer`."
   ]
  },
  {
   "cell_type": "code",
   "execution_count": null,
   "metadata": {},
   "outputs": [],
   "source": [
    "def find(itemSearch):\n",
    "    found = False\n",
    "    itemPointer = startPointer\n",
    "\n",
    "    while (itemPointer != nullPointer) and (not found):\n",
    "\n",
    "        if myLinkedList[itemPointer] == itemSearch:\n",
    "            found = True\n",
    "        \n",
    "        else:\n",
    "            itemPointer = myLinkedListPointers[itemPointer]\n",
    "    \n",
    "    return itemPointer"
   ]
  },
  {
   "cell_type": "markdown",
   "metadata": {},
   "source": [
    "### 6: Insert an item in a linked list\n",
    "To insert `itemAdd` into a linked list, we first check whether or not the linked list is full. If it is not full, we insert `item` at the location `heapStartPointer` points to. Then make the element at previously at `startPointer` point to `item`, and make `item` and male `heapStartPointer` point to the next free location."
   ]
  },
  {
   "cell_type": "code",
   "execution_count": null,
   "metadata": {},
   "outputs": [],
   "source": [
    "def insert(itemAdd):\n",
    "    global startPointer\n",
    "\n",
    "    if heapStartPointer == nullPointer:\n",
    "        print(\"Link list full, cannot insert\")\n",
    "    \n",
    "    else:\n",
    "        tempPointer = startPointer\n",
    "        startPointer = heapStartPointer\n",
    "        heapStartPointer = myLinkedListPointers[heapStartPointer]\n",
    "        myLinkedList[startPointer] = itemAdd\n",
    "        myLinkedListPointers[startPointer] = tempPointer"
   ]
  },
  {
   "cell_type": "markdown",
   "metadata": {},
   "source": [
    "### 7: Delete an item from a linked list\n",
    "To delete an item `itemDelete` from a linked list, we first check to see if the list is empty, i.e., if `startPointer` = `nullPointer`. If it is not empty, we traverse the linked list to find the `itemDelete`. If `itemDelete` exists, we \"delete\" it and set the pointers so as to skip `itemDelete`. The `heapStartPointer` is set to point to `itemDelete`, marking it an empty element."
   ]
  },
  {
   "cell_type": "code",
   "execution_count": null,
   "metadata": {},
   "outputs": [],
   "source": [
    "def delete(itemDelete):\n",
    "    global startPointer, heapStartPointer\n",
    "\n",
    "    if startPointer == nullPointer:\n",
    "        print(\"Linked list empty\")\n",
    "    \n",
    "    else:\n",
    "        index = startPointer\n",
    "\n",
    "        while (myLinkedList[index] != itemDelete) and (index != nullPointer):\n",
    "            oldIndex = index\n",
    "            index = myLinkedListPointers[index]\n",
    "        \n",
    "        if index == nullPointer:\n",
    "            print(\"Item\", itemDelete, \"not found\")\n",
    "        \n",
    "        else:\n",
    "            myLinkedList[index] = None\n",
    "            tempPointer = myLinkedListPointers[index]\n",
    "            myLinkedListPointers[index] = heapStartPointer\n",
    "            heapStartPointer = index\n",
    "            myLinkedListPointers[oldIindex] = tempPointer"
   ]
  },
  {
   "cell_type": "markdown",
   "metadata": {},
   "source": [
    "## 4.1.2: Algorithms for sorting and searching\n",
    "Computers often have to search vast amounts of data for various purposes. It is also often critical for them to sort data (in either ascending or descinding order). A search engine such as Google provides an excellent example of both jobs, though its [actual implentation](https://www.google.com/search/howsearchworks/) is understandably much more complex. Suppose, a search query \"quickSort\" has been typed into the Google search bar: within fraction of a second, their servers must find approximately 10 (yes just ten) results out of the trillions of webpages indexed on Google search, and show them on the first page. Not only does Google search find these needles in a digital haystack spanning several continents, but it also displays the reults in a very speficic sequence. This should give you an appreciation of the importance and ubiquity searching and sorting algorithms.\n",
    "\n",
    "Here we will meet \\[simple\\] common algorithms for sorting and searching."
   ]
  },
  {
   "cell_type": "markdown",
   "metadata": {},
   "source": [
    "### 0: Generate random numbers\n",
    "We would need to generate lists of random numbers to test our code. Here is the function to do that."
   ]
  },
  {
   "cell_type": "code",
   "execution_count": null,
   "metadata": {},
   "outputs": [],
   "source": [
    "from random import randint  # Import the function to generate random integers\n",
    "\n",
    "## Subroutine to generate random list of unique integers\n",
    "def generateRandom(n):\n",
    "\n",
    "    arr = []\n",
    "\n",
    "    for i in range(n):\n",
    "        r = randint(0, 10 * n)\n",
    "\n",
    "        while r in arr:\n",
    "            r = randint(0, 10 * n)\n",
    "        \n",
    "        arr.append(r)\n",
    "    \n",
    "    return arr"
   ]
  },
  {
   "cell_type": "markdown",
   "metadata": {},
   "source": [
    "### 1: Linear search\n",
    "This is the simplest of the searching algorithms.\n",
    "The program traverses an array, going through every element until a match is found. An element `[i]` is checked in the iteration `i`. If element `[i]` matches the required `element`, the programs returns `i` and halts; else it goes to `[i + 1]` until all elements have been searched."
   ]
  },
  {
   "cell_type": "code",
   "execution_count": null,
   "metadata": {
    "tags": []
   },
   "outputs": [],
   "source": [
    "def linearSearch(listIn, element):\n",
    "    index = -1\n",
    "    \n",
    "    for i in range(len(listIn)):\n",
    "        if listIn[i] == element:\n",
    "            index = i\n",
    "            break\n",
    "    \n",
    "    return index\n",
    "\n",
    "# Test\n",
    "arr = generateRandom(10)\n",
    "x = arr[5]\n",
    "print (\"In list\", arr, \"element\", x, \"occurs at position\", linearSearch(arr, x))\n"
   ]
  },
  {
   "cell_type": "markdown",
   "metadata": {},
   "source": [
    "### 2: Bubble sort\n",
    "This is the simplest sorting algorithm. The program traverses an array, while comparing the current `[i]` element to the next element `[i + 1]`. If the element `[i + 1]` was greater than the element `[i]`, they are swapped."
   ]
  },
  {
   "cell_type": "code",
   "execution_count": null,
   "metadata": {
    "tags": []
   },
   "outputs": [],
   "source": [
    "def bubbleSort(listIn):\n",
    "    key = None\n",
    "    \n",
    "    for i in range (len(listIn)):\n",
    "\n",
    "        for j in range (len(listIn) - 1):\n",
    "\n",
    "            if listIn[j] > listIn[j + 1]:\n",
    "                key = listIn[j]\n",
    "                listIn[j] = listIn[j + 1]\n",
    "                listIn[j + 1] = key\n",
    "\n",
    "# Test\n",
    "arr = generateRandom(10)\n",
    "print(\"Unsorted array:\\t\", arr)\n",
    "bubbleSort(arr)\n",
    "print(\"Sorted array:\\t\", arr)"
   ]
  },
  {
   "cell_type": "markdown",
   "metadata": {},
   "source": [
    "### 3: Insertion sort\n",
    "This is more efficient than bubble sort as it requires far lesser passes. The program works by placing items into the correct position until they array sorted.\n",
    "\n",
    "This is a comparison sort in which the sorted array (or list) is built one entry at a time. The program starts at element `[i]`, and compares it with every element ranging from `[i - 1]` to `[0]`. If the element `[i]` is lesser than any the given current element `[j]`, it is swapped with `[j]`."
   ]
  },
  {
   "cell_type": "code",
   "execution_count": null,
   "metadata": {
    "tags": []
   },
   "outputs": [],
   "source": [
    "def insertionSort(listIn):\n",
    "    key = None\n",
    "\n",
    "    for i in range(1, len(listIn)):\n",
    "        key = listIn[i]\n",
    "        j = i - 1\n",
    "        \n",
    "        while (j >= 0 and key < listIn[j]):\n",
    "            listIn[j + 1] = listIn[j]\n",
    "            j = j - 1\n",
    "        listIn[j + 1] = key\n",
    "\n",
    "# Test\n",
    "arr = generateRandom(10)\n",
    "print(\"Unsorted array:\\t\", arr)\n",
    "insertionSort(arr)\n",
    "print(\"Sorted array:\\t\", arr)"
   ]
  },
  {
   "cell_type": "markdown",
   "metadata": {},
   "source": [
    "### 4: Binary search\n",
    "In order to use binary search, an array must be sorted. The algorithm works by dividing and sub-dividing the array into halves until the required element is found.\n",
    "\n",
    "If there are $n$ elements and the value $x$ is required, the algorithm checks whether $x = \\lfloor0.5n\\rfloor$, $x < \\lfloor0.5n\\rfloor$, or $x > \\lfloor0.5n\\rfloor$. If $x = \\lfloor0.5n\\rfloor$, the current index is returned, else the search space is halved in the required direction."
   ]
  },
  {
   "cell_type": "code",
   "execution_count": null,
   "metadata": {},
   "outputs": [],
   "source": [
    "### Binary search using recursion\n",
    "def binarySearch (listIn, lowerBound, upperBound, element):\n",
    "    if upperBound >= lowerBound:\n",
    "        middleIndex = (upperBound + lowerBound) // 2\n",
    "\n",
    "        if listIn[middleIndex] == element:\n",
    "            return middleIndex\n",
    "        \n",
    "        elif x < listIn[middleIndex]:\n",
    "            return binarySearch(listIn, lowerBound, middleIndex - 1, element)\n",
    "        \n",
    "        else:\n",
    "            return binarySearch(listIn, middleIndex + 1, upperBound, element)\n",
    "    \n",
    "    else:\n",
    "        return -1\n",
    "            \n",
    "\n",
    "# Test\n",
    "arr = generateRandom(10)\n",
    "insertionSort(arr)  # Since binary search requires an array to be sorted\n",
    "x = arr[3]\n",
    "print (\"In list\", arr, \"element\", x, \"occurs at position\", binarySearch(arr, 0, len(arr) - 1, x))"
   ]
  },
  {
   "cell_type": "code",
   "execution_count": null,
   "metadata": {
    "tags": []
   },
   "outputs": [],
   "source": [
    "### Binary search using a loop\n",
    "def binarySearch(listIn, element):\n",
    "    upperBound = len(listIn)\n",
    "    lowerBound = 0\n",
    "    found = False\n",
    "    index = -1\n",
    "\n",
    "    while (not found) and (lowerBound != upperBound):\n",
    "        index = int((upperBound + lowerBound) / 2)\n",
    "\n",
    "        found = (element == listIn[index])\n",
    "\n",
    "        if element == listIn[index]:\n",
    "            return index\n",
    "\n",
    "        if element > listIn[index]:\n",
    "            lowerBound = index + 1\n",
    "        \n",
    "        if element < listIn[index]:\n",
    "            upperBound = index\n",
    "\n",
    "    return index\n",
    "\n",
    "# Test\n",
    "arr = generateRandom(10)\n",
    "insertionSort(arr)  # Since binary search requires an array to be sorted\n",
    "x = arr[8]\n",
    "print (\"In list\", arr, \"element\", x, \"occurs at position\", binarySearch(arr, x))"
   ]
  },
  {
   "cell_type": "markdown",
   "metadata": {},
   "source": [
    "### Efficiency of sorting and searching algorithms\n",
    "The efficiency of a sorting algorithm may be roughly encapsulated by its *Big O Notation*, written as $O(f(n))$ for an algorithm where $f$ is a function of the number of elements $n$. The algorithm then takes $f(n)$ passes for $n$ elements on average.\n",
    "    \n",
    "| Algorithm | Big O |\n",
    "| :- | :-: |\n",
    "| [Bubble sort](https://en.wikipedia.org/wiki/Bubble_sort) | $$O(n^2)$$ |\n",
    "| [Insertion sort](https://en.wikipedia.org/wiki/Insertion_sort) | $$O(n^2)$$ |\n",
    "| [Quicksort](https://en.wikipedia.org/wiki/Quicksort) | $$O(n\\log n)$$ |\n",
    "| [Bogosort](https://en.wikipedia.org/wiki/Bogosort) | $$O((n+1)!)$$ |\n",
    "| [Linear search](https://en.wikipedia.org/wiki/Linear_search) | $$O(n)$$ |\n",
    "| [Binary search](https://en.wikipedia.org/wiki/Binary_search_algorithm) | $$O(\\log_2 n)$$ |\n",
    "\n",
    "It is important to keep in mind that the Big O formula of an algorithm does not descibe how well it performs. For example: bubble sort and insertion sort, from the table above, have the same formula $O(n^2)$ but insertion sort is typically faster. Rather, the function $n^2$ only indicates that the graphs of the performance of both functions (that is, number of comparisions required $O(f(n))$ against the number of elements $n$), have the same basic parabolic shape. The big O equation only tells us how well the performance of an algorithm **scales** with the number of inputs."
   ]
  }
 ],
 "metadata": {
  "kernelspec": {
   "display_name": "Python 3",
   "language": "python",
   "name": "python3"
  },
  "language_info": {
   "codemirror_mode": {
    "name": "ipython",
    "version": 3
   },
   "file_extension": ".py",
   "mimetype": "text/x-python",
   "name": "python",
   "nbconvert_exporter": "python",
   "pygments_lexer": "ipython3",
   "version": "3.8.5"
  },
  "metadata": {
   "interpreter": {
    "hash": "f4c28fa8f5722cf028809cd2948e812853f425d5427ac6e7746038839e0ae36f"
   }
  }
 },
 "nbformat": 4,
 "nbformat_minor": 4
}
