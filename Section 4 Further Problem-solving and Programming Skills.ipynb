{
 "cells": [
  {
   "cell_type": "markdown",
   "metadata": {},
   "source": [
    "# 4.1: Computational thinking and problem-solving"
   ]
  },
  {
   "cell_type": "markdown",
   "metadata": {},
   "source": [
    "## 4.1.3: Abstract Data Types (ADTs)\n",
    "An ADT is a collection of data and a set of operations on that data.\n",
    "\n",
    "ADTs can be constructed from existing datatypes such as arrays."
   ]
  },
  {
   "cell_type": "markdown",
   "metadata": {},
   "source": [
    "### 1: Stacks\n",
    "A stack is a list containing several items, operation on the **last in, first out (LIFO)** principle. Items can be **pushed** (added) onto the stack, and **popped** (removed) from the stack. It has a **pointer** that helps keep track of the current elemtent."
   ]
  },
  {
   "cell_type": "code",
   "execution_count": null,
   "metadata": {},
   "outputs": [],
   "source": [
    "numberOfElements = 10\n",
    "\n",
    "stack = [None for index in range (numberOfElements)]\n",
    "basePointer = 0\n",
    "topPointer = -1\n",
    "stackFull = 10"
   ]
  },
  {
   "cell_type": "markdown",
   "metadata": {},
   "source": [
    "### 2: Queue\n",
    "A queue is a list containing several items operating on the **first in, first out (FIFO)** principle. Items can be **enqueued** (added) to the queue and **dequeued** (removed) from the queue. It has a **pointer** that helps keep track of the current element."
   ]
  },
  {
   "cell_type": "code",
   "execution_count": null,
   "metadata": {},
   "outputs": [],
   "source": [
    "numberOfElements = 10\n",
    "\n",
    "queue = [None for index in range(numberOfElements)]\n",
    "frontPointer = 0\n",
    "rearPointer = -1\n",
    "queueFull = 10\n",
    "queueLength = 0"
   ]
  },
  {
   "cell_type": "markdown",
   "metadata": {},
   "source": [
    "### 3: Linked List\n",
    "A linked ist is a list containing several items in which every item in the list points to the next iten in the list. In a linked list, a new item is always added to the start of the list."
   ]
  },
  {
   "cell_type": "code",
   "execution_count": null,
   "metadata": {},
   "outputs": [],
   "source": [
    "numberOfElements = 10\n",
    "myLinkedList = [0 for index in range(numberOfElements + 1)]\n",
    "myLinkedListPointers = [index for index in range(numberOfElements + 1)]\n",
    "startPointer = -1\n",
    "heapStartPointer = 0\n",
    "nullPointer = -1"
   ]
  },
  {
   "cell_type": "markdown",
   "metadata": {},
   "source": [
    "## 4.1.2 Algorithms for manipulating or reading ADTs\n",
    "Here we will look at the algorithms used to read from, or write to, ADTs. We will use `global` to access global variables within a function definition."
   ]
  },
  {
   "cell_type": "markdown",
   "metadata": {},
   "source": [
    "### 1: Push onto a stack\n",
    "To push an element onto a stack, we first check whether or not the stack is already full. If it is not full, we write the new element `item` to the position `[topPointer]`, and then increment `topPointer` by 1; else we print out an error message."
   ]
  },
  {
   "cell_type": "code",
   "execution_count": null,
   "metadata": {},
   "outputs": [],
   "source": [
    "def push(item):\n",
    "    global topPointer\n",
    "    \n",
    "    if topPointer < (stackFull - 1):\n",
    "        topPointer += 1\n",
    "        stack[topPointer] = item\n",
    "    \n",
    "    else:\n",
    "        print (\"Stack is full, cannot push\")"
   ]
  },
  {
   "cell_type": "markdown",
   "metadata": {},
   "source": [
    "### 2: Pop from a stack\n",
    "To pop an element from the from the stack, we first check whether or not the stack is already empty. If it is not empty, we access the element `item` at the position `[topPointer]`, and then decrement `topPointer` by 1; else we print out an error message."
   ]
  },
  {
   "cell_type": "code",
   "execution_count": null,
   "metadata": {},
   "outputs": [],
   "source": [
    "def pop():\n",
    "    global topPointer, basePointer\n",
    "    item = None\n",
    "\n",
    "    if topPointer == (basePointer - 1):\n",
    "        print(\"Stack is empty, cannot pop\")\n",
    "\n",
    "    else:\n",
    "        item = stack[topPointer]\n",
    "        topPointer -= 1\n",
    "    \n",
    "    return item"
   ]
  },
  {
   "cell_type": "markdown",
   "metadata": {},
   "source": [
    "### 3: Enqueue an element\n",
    "To enqueue an element `item`, we first check whether or not a queue is already full. If it is not full, we add `item` at the position `[rearPointer]` and increment `queueLength`; else we print out an error message. If `rearPointer` and the queue is not full, the `item` is stored in the first element of the array."
   ]
  },
  {
   "cell_type": "code",
   "execution_count": null,
   "metadata": {},
   "outputs": [],
   "source": [
    "def enQueue(item):\n",
    "    global queueLength, rearPointer\n",
    "\n",
    "    if queueLength < queueFull:\n",
    "\n",
    "        if rearPointer < (len(queue) - 1):\n",
    "            rearPointer += 1\n",
    "        \n",
    "        else:\n",
    "            rearPointer = 0\n",
    "        \n",
    "        queueLength += 1\n",
    "        queue[rearPointer] = item\n",
    "        \n",
    "    else:\n",
    "        print(\"Queue is full, cannot enqueue\")"
   ]
  },
  {
   "source": [
    "### 4: Dequeue an element\n",
    "To dequeue an element, we first check if the queue is already empty. If it is not empty, we access the element at position the `[frontPointer]` and decrement `queueLength` by 1; else we print out an error message. If `frontPointer` points to the last element, it is updated to point to the first element in the array, rather than the next element in the array."
   ],
   "cell_type": "markdown",
   "metadata": {}
  },
  {
   "cell_type": "code",
   "execution_count": null,
   "metadata": {},
   "outputs": [],
   "source": [
    "def deQueue():\n",
    "    global queueLength, frontPointer\n",
    "    item = None\n",
    "\n",
    "    if queueLength == 0:\n",
    "        print(\"Queue is empty, cannot dequeue\")\n",
    "    \n",
    "    else:\n",
    "        item = queue[frontPointer]\n",
    "\n",
    "        if frontPointer == (len(queue) - 1):\n",
    "            frontPointer = 0\n",
    "        \n",
    "        else:\n",
    "            frontPointer += 1\n",
    "        \n",
    "        queueLength -= 1\n",
    "    \n",
    "    return item"
   ]
  },
  {
   "source": [
    "### 5: Finding an item in a linked list\n",
    "To find an item `itemSearch` in a linked list, we step through every element while following the pointers. If `itemSearch` is found (i.e., `itemSearch` equals the element at `[itemPointer]`), then the search loop terminates; else it searches till it it reaches `nullPointer`."
   ],
   "cell_type": "markdown",
   "metadata": {}
  },
  {
   "cell_type": "code",
   "execution_count": null,
   "metadata": {},
   "outputs": [],
   "source": [
    "def find(itemSearch):\n",
    "    found = False\n",
    "    itemPointer = startPointer\n",
    "\n",
    "    while (itemPointer != nullPointer) and (not found):\n",
    "\n",
    "        if myLinkedList[itemPointer] == itemSearch:\n",
    "            found = True\n",
    "        \n",
    "        else:\n",
    "            itemPointer = myLinkedListPointers[itemPointer]\n",
    "    \n",
    "    return itemPointer"
   ]
  },
  {
   "source": [
    "### 6: Insert an item in a linked list\n",
    "To insert `itemAdd` into a linked list, we first check whether or not the linked list is full. If it is not full, we insert `item` at the location `heapStartPointer` points to. Then make the element at previously at `startPointer` point to `item`, and make `item` and male `heapStartPointer` point to the next free loaction."
   ],
   "cell_type": "markdown",
   "metadata": {}
  },
  {
   "cell_type": "code",
   "execution_count": null,
   "metadata": {},
   "outputs": [],
   "source": [
    "def insert(itemAdd):\n",
    "    global startPointer\n",
    "\n",
    "    if heapStartPointer == nullPointer:\n",
    "        print(\"Link list full, cannot insert\")\n",
    "    \n",
    "    else:\n",
    "        tempPointer = startPointer\n",
    "        startPointer = heapStartPointer\n",
    "        heapStartPointer = myLinkedListPointers[heapStartPointer]\n",
    "        myLinkedList[startPointer] = itemAdd\n",
    "        myLinkedListPointers[startPointer] = tempPointer"
   ]
  },
  {
   "source": [
    "### 7: Delete an item from a linked list\n",
    "To delete an item `itemDelete` from a linked list, we first check to see if the list is empty, i.e., if `startPointer` = `nullPointer`. If it is not empty, we traverse the linked list to find the `itemDelete`. If `itemDelete` exists, we \"delete\" it and set the pointers so as to skip `itemDelete`. The `heapStartPointer` is set to point to `itemDelete`, marking it an empty element."
   ],
   "cell_type": "markdown",
   "metadata": {}
  },
  {
   "cell_type": "code",
   "execution_count": null,
   "metadata": {},
   "outputs": [],
   "source": [
    "def delete(itemDelete):\n",
    "    global startPointer, heapStartPointer\n",
    "\n",
    "    if startPointer == nullPointer:\n",
    "        print(\"Linked list empty\")\n",
    "    \n",
    "    else:\n",
    "        index = startPointer\n",
    "\n",
    "        while (myLinkedList[index] != itemDelete) and (index != nullPointer):\n",
    "            oldIndex = index\n",
    "            index = myLinkedListPointers[index]\n",
    "        \n",
    "        if index == nullPointer:\n",
    "            print(\"Item\", itemDelete, \"not found\")\n",
    "        \n",
    "        else:\n",
    "            myLinkedList[index] = None\n",
    "            tempPointer = myLinkedListPointers[index]\n",
    "            myLinkedListPointers[index] = heapStartPointer\n",
    "            heapStartPointer = index\n",
    "            myLinkedListPointers[oldIindex] = tempPointer"
   ]
  },
  {
   "cell_type": "markdown",
   "metadata": {},
   "source": [
    "## 4.1.2: Algorithms for sorting and searching\n",
    "Here we will meet common algorithms for sorting and searching."
   ]
  },
  {
   "cell_type": "markdown",
   "metadata": {},
   "source": [
    "### 0: Generate random numbers\n",
    "We would need to generate lists of random numbers to test our code. Here is the function to do that."
   ]
  },
  {
   "cell_type": "code",
   "execution_count": null,
   "metadata": {},
   "outputs": [],
   "source": [
    "from random import randint  # Import the function to generate random integers\n",
    "\n",
    "## Subroutine to generate random list of unique integers\n",
    "def generateRandom(n):\n",
    "\n",
    "    arr = []\n",
    "\n",
    "    for i in range(n):\n",
    "        r = randint(0, 10 * n)\n",
    "\n",
    "        while r in arr:\n",
    "            r = randint(0, 10 * n)\n",
    "        \n",
    "        arr.append(r)\n",
    "    \n",
    "    return arr"
   ]
  },
  {
   "cell_type": "markdown",
   "metadata": {},
   "source": [
    "### 1: Linear search\n",
    "This is the simplest of the searching algorithms.\n",
    "The program traverses an array, going through every element until a match is found. An element `[i]` is checked in the iteration `i`. If element `[i]` matches the required `element`, the programs returns `i` and halts; else it goes to `[i + 1]` until all elements have been searched."
   ]
  },
  {
   "cell_type": "code",
   "execution_count": null,
   "metadata": {
    "tags": []
   },
   "outputs": [],
   "source": [
    "def linearSearch(listIn, element):\n",
    "    index = -1\n",
    "    \n",
    "    for i in range(len(listIn)):\n",
    "        if listIn[i] == element:\n",
    "            index = i\n",
    "            break\n",
    "    \n",
    "    return index\n",
    "\n",
    "# Test\n",
    "arr = generateRandom(10)\n",
    "x = arr[5]\n",
    "print (\"In list\", arr, \"element\", x, \"occurs at position\", linearSearch(arr, x))\n"
   ]
  },
  {
   "cell_type": "markdown",
   "metadata": {},
   "source": [
    "### 2: Bubble sort\n",
    "This is the simplest sorting algorithm. The program traverses an array, while comparing the current `[i]` element to the next element `[i + 1]`. If the element `[i + 1]` was greater than the element `[i]`, they are swapped."
   ]
  },
  {
   "cell_type": "code",
   "execution_count": null,
   "metadata": {
    "tags": []
   },
   "outputs": [],
   "source": [
    "def bubbleSort(listIn):\n",
    "    key = None\n",
    "    \n",
    "    for i in range (len(listIn)):\n",
    "\n",
    "        for j in range (len(listIn) - 1):\n",
    "\n",
    "            if listIn[j] > listIn[j + 1]:\n",
    "                key = listIn[j]\n",
    "                listIn[j] = listIn[j + 1]\n",
    "                listIn[j + 1] = key\n",
    "\n",
    "# Test\n",
    "arr = generateRandom(10)\n",
    "print(\"Unsorted array:\\t\", arr)\n",
    "bubbleSort(arr)\n",
    "print(\"Sorted array:\\t\", arr)"
   ]
  },
  {
   "cell_type": "markdown",
   "metadata": {},
   "source": [
    "### 3: Insertion sort\n",
    "This is more effieient than bubble sort as it requires far lesser passes. The program works by placing items into the correct position until they array sorted.\n",
    "\n",
    "This is a comparison sort in which the sorted array (or list) is built one entry at a time. The program starts at element `[i]`, and compares it with every element ranging from `[i - 1]` to `[0]`. If the element `[i]` is lesser than any the given current element `[j]`, it is swapped with `[j]`."
   ]
  },
  {
   "cell_type": "code",
   "execution_count": null,
   "metadata": {
    "tags": []
   },
   "outputs": [],
   "source": [
    "def insertionSort(listIn):\n",
    "    key = None\n",
    "\n",
    "    for i in range(1, len(listIn)):\n",
    "        key = listIn[i]\n",
    "        j = i - 1\n",
    "        \n",
    "        while (j >= 0 and key < listIn[j]):\n",
    "            listIn[j + 1] = listIn[j]\n",
    "            j = j - 1\n",
    "        listIn[j + 1] = key\n",
    "\n",
    "# Test\n",
    "arr = generateRandom(10)\n",
    "print(\"Unsorted array:\\t\", arr)\n",
    "insertionSort(arr)\n",
    "print(\"Sorted array:\\t\", arr)"
   ]
  },
  {
   "cell_type": "markdown",
   "metadata": {},
   "source": [
    "### 4: Binary search\n",
    "In order to use binary search, an array must be sorted. The algorithm works by dividing and sub-dividing the array into halves until the required element is found.\n",
    "\n",
    "If there are `n` elements and the value `x` is required, the algorithm checks whether `x = [floor(0.5n)]`, `x < [floor(0.5n)]`, or `x > [floor(0.5n)]`. If `x = [floor(0.5n)]`, the current index is returned, else the search space is halved in the required direction."
   ]
  },
  {
   "cell_type": "code",
   "execution_count": null,
   "metadata": {
    "tags": []
   },
   "outputs": [],
   "source": [
    "def binarySearch(listIn, element):\n",
    "    upperBound = len(listIn)\n",
    "    lowerBound = 0\n",
    "    found = False\n",
    "    index = -1\n",
    "\n",
    "    while (not found) and (lowerBound != upperBound):\n",
    "        index = int((upperBound + lowerBound) / 2)\n",
    "\n",
    "        found = (element == listIn[index])\n",
    "\n",
    "        if element == listIn[index]:\n",
    "            return index\n",
    "\n",
    "        if element > listIn[index]:\n",
    "            lowerBound = index + 1\n",
    "        \n",
    "        if element < listIn[index]:\n",
    "            upperBound = index\n",
    "\n",
    "    return index\n",
    "\n",
    "# Test\n",
    "arr = generateRandom(10)\n",
    "insertionSort(arr)  # Since binary search requires an array to be sorted\n",
    "x = arr[8]\n",
    "print (\"In list\", arr, \"element\", x, \"occurs at position\", binarySearch(arr, x))"
   ]
  },
  {
   "cell_type": "markdown",
   "metadata": {},
   "source": [
    "### Efficiency of sorting and searching algoritms\n",
    "The efficiency of a sorting algorithm may be roughly encapsulated by its *Big O Notation*, written as `O(f(n))` for an algorithm where `f` is a function of the number of elements `n`. The algorithm then takes `f(n)` passes for `n` elements on average.\n",
    "\n",
    "| Algorithm | Big O |\n",
    "| :--- | :--- |\n",
    "| Linear search | O(n) |\n",
    "| Bubble sort | O(n<sup>2</sup>) |\n",
    "| Insertion sort | O(n<sup>2</sup>) |\n",
    "| Binary search | O(log<sub>2</sub>(n)) |"
   ]
  },
  {
   "source": [
    "## 4.1.4: Recursion\n",
    "Recursion ocurrs when a procedure or function is defined in terms of itself, and calls itself repeatedly, calling a subroutine within itself. It is one of the most elegant tools in a programmer's arsenal. We define recursive funtions by using base case(s) and general case(s). The **general case** is the recursive element that calls itself repeatedly; the **base case** is a pre-defined condition that is not recursive. The general case recursively calls itself, until the base case is reached."
   ],
   "cell_type": "markdown",
   "metadata": {}
  },
  {
   "source": [
    "### 1: The general stucture of recursion\n",
    "\n",
    "```\n",
    "PROCEDURE RecursiveSubroutine (Parameter : DATATYPE)\n",
    "    \n",
    "    IF baseCase(Parameter) = TRUE\n",
    "\n",
    "      THEN\n",
    "        RETURN SomeFunction(Parameter)\n",
    "    \n",
    "      ELSE\n",
    "        CALL RecursiveSubroutine(SomeOtherFunction(Parameter))\n",
    "    \n",
    "    ENDIF\n",
    "\n",
    "    RETURN Parameter\n",
    "\n",
    "ENDPROCEDURE\n",
    "```"
   ],
   "cell_type": "markdown",
   "metadata": {}
  },
  {
   "source": [
    "### 2: Example of calculating factorials\n",
    "A commonly used mathematical function, called a factorial, is an example of recusion. The factorial (denoted `x!`) of any positive integer `x`, is the product of every integer between `x` and 0. For example, `5! = 5 * 4 * 3 * 2 * 1` so `5! = 120`.\n",
    "\n",
    "Here, we define the general case as `x! = x * (x - 1)!` and the base case as `0! = 1`."
   ],
   "cell_type": "markdown",
   "metadata": {}
  },
  {
   "cell_type": "code",
   "execution_count": null,
   "metadata": {
    "tags": []
   },
   "outputs": [],
   "source": [
    "def factorial(x):\n",
    "\n",
    "    if x == 0:\n",
    "        answer = 1\n",
    "    \n",
    "    else:\n",
    "        answer = x * factorial(x - 1)\n",
    "    \n",
    "    return answer\n",
    "\n",
    "print(\"0! =\", factorial(0))\n",
    "print(\"5! =\", factorial(5))"
   ]
  }
 ],
 "metadata": {
  "kernelspec": {
   "display_name": "Python 3",
   "language": "python",
   "name": "python3"
  },
  "language_info": {
   "codemirror_mode": {
    "name": "ipython",
    "version": 3
   },
   "file_extension": ".py",
   "mimetype": "text/x-python",
   "name": "python",
   "nbconvert_exporter": "python",
   "pygments_lexer": "ipython3",
   "version": "3.8.5-final"
  }
 },
 "nbformat": 4,
 "nbformat_minor": 4
}