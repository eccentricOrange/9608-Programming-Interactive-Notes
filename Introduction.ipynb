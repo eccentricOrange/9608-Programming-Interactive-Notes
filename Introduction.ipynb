{
 "cells": [
  {
   "cell_type": "markdown",
   "id": "fd357b84",
   "metadata": {
    "tags": [
     "Meta"
    ]
   },
   "source": [
    "# Introduction\n",
    "This is a course/reference for CAIE Computer Science Problem-solving and Programming, meant to help you understand the content alongside the textbooks. I try to cover most of the syllabus directly related to Python programming, trying to provide an alternate explanation where possible. I also talk about some parts (like expressions, and the `range()` function) which are sometimes not well explained by textbooks.\n",
    "\n",
    "This reference is interactive—you can try out the examples as soon as you read the explanation, without having to launch an IDE. The expetcation is that you use this and you textbooks to get an overview of the concepts, and then dig in by researching—I'll provide some links where appropriate."
   ]
  },
  {
   "cell_type": "markdown",
   "id": "082d52f2",
   "metadata": {
    "tags": [
     "Meta",
     "Jupyter"
    ]
   },
   "source": [
    "## 0: Jupyter Notebooks\n",
    "What you're reading right now, is called a [Jupyter](https://jupyter.org/index.html) Notebook. It allows me to write documentation (explanation), place graphics/diagrams, and write executable Python code in the same place. You can execute my code, edit it, or just create a new cell and experiment.\n",
    "\n",
    "\\[Over\\]Simply put, a Jupyter notebook is a file with various cells. A cell is a block of code, explanation (like this one), or a multimedia element. To execute a cell, click on it to select it, and press **Ctrl + Enter** (or **Cmd + Return**). Go ahead, and try it with the cell below—you should get a message saying you succeeded."
   ]
  },
  {
   "cell_type": "code",
   "execution_count": null,
   "id": "b4fdde7a",
   "metadata": {
    "tags": [
     "Meta",
     "Jupyter"
    ]
   },
   "outputs": [],
   "source": [
    "print(\"You successfully executed a cell. Congratulations!\")"
   ]
  },
  {
   "cell_type": "markdown",
   "id": "69e72962",
   "metadata": {
    "tags": [
     "Meta"
    ]
   },
   "source": [
    "## 1: Tags\n",
    "Each cell has one or more tags. If it's visible, you should see the words `Meta` and `Jupyter` written in two small boxes on the top-left of this cell, and you don't have to do anything. If not, click **View > Cell Toolbar > Tags**.\n",
    "\n",
    "Tags tell you which syllabuses a given cell pertains to, or otherwise describes the content. For example, this cell has two tags:\n",
    "* `Meta` This cell is not about any syllabus-specific content, and just describes something about the course.\n",
    "* `Jupyter` This cell describes how to use Jupyter or its features.\n",
    "\n",
    "Here is a full list of tags you'll encounter.\n",
    "\n",
    "| Tag | Explanation |\n",
    "|--|--|\n",
    "| `IGXXXX` | This represents a [CAIE IGCSE syllabus](https://www.cambridgeinternational.org/programmes-and-qualifications/cambridge-upper-secondary/cambridge-igcse/subjects/https://www.cambridgeinternational.org/programmes-and-qualifications/cambridge-upper-secondary/cambridge-igcse/subjects/), with syllabus code XXXX. You must understand this content. |\n",
    "| `ALYYYY` | This represents a [CAIE A Level syllabus](https://www.cambridgeinternational.org/programmes-and-qualifications/cambridge-advanced/cambridge-international-as-and-a-levels/subjects/https://www.cambridgeinternational.org/programmes-and-qualifications/cambridge-advanced/cambridge-international-as-and-a-levels/subjects/), with syllabus code YYYY. You must understand this content. |\n",
    "| `General` | This is something not explicitly mentioned by the syllabus, but is common knowledge amongst programmers. Knowing this may help you get a better grasp of the syllabus. |\n",
    "| `Extended` | Content that might be interesting or useful, but not explicitly covered by the syllabus. You should avoid using this on exams. |\n",
    "| `Used` | May appear with some `General` or `Extended` topics. You can use these in your exams. |\n",
    "| `Meta` | These are not content about programming itself, instead it may explain something about my writing style, or help getting around Jupyter. |\n",
    "| `Jupyter` | May appear with some `Meta` tags. These are about the Jupyter environment. |"
   ]
  },
  {
   "cell_type": "markdown",
   "id": "47251670-5096-4585-be28-c0df567d69c7",
   "metadata": {
    "tags": [
     "Meta",
     "Jupyter"
    ]
   },
   "source": [
    "## 2: Installation?\n",
    "If you don't want to edit and save those changes, then you don't have to install anything—you can keep coming back to this notebook in your browser using Binder.\n",
    "\n",
    "However, if you would like to experiment, create notebooks, or want more customizability, install Jupyter. I'll give you a simple method below, but visit the [official website](https://jupyter.org/install.html) for more detail about Anaconda and other methods.\n",
    "\n",
    "This method uses a command line. While you can just follow these instructions, it might be worthwhile understanding what's going on. If any of this is unfamiliar, take a look at my [advice for programming students]().\n",
    "\n",
    "1. If you don't already have it, download and install Python from the its [website](https://www.python.org/downloads/). Make sure you get version 3.3 or newer.\n",
    "2. Open up a command line.\n",
    "    * If you're on Windows, press **Windows + R** to bring up the run dialog box. Type `powershell` and hit **Enter**.\n",
    "    * If you're on MacOS, launch the application called **Terminal**.\n",
    "    * If you're on a Linux-based OS, I suppose you know what to do.\n",
    "3. Type in `pip3 install notebook` (try `pip install notebook` if that didn't work) and press **Enter**. If you're asked whether you want to continue, type `y` for 'yes' and press **Enter**. Wait for the installation to complete.\n",
    "\n",
    "To launch Jupyter, open a command line, and go to the folder you want to save your files in. Type in `jupyter notebook` and press enter."
   ]
  },
  {
   "cell_type": "markdown",
   "id": "ac09995c-19d6-4e33-b3ec-794f1896986b",
   "metadata": {
    "tags": [
     "Meta",
     "Jupyter"
    ]
   },
   "source": [
    "## 3: Learn more\n",
    "Now that you've had a basic introduction to Jupyter, we can jump into the lesson.\n",
    "\n",
    "If you're interested in learning more, I'll leave links to some sources below:\n",
    "* [Anaconda](https://docs.anaconda.com/anaconda/)\n",
    "* [Jupyter demo and more detailed overview](https://mybinder.org/v2/gh/ipython/ipython-in-depth/master?filepath=binder/Index.ipynb)\n",
    "* [Guide to using Jupyter](https://www.dataquest.io/blog/jupyter-notebook-tutorial/)\n",
    "* [Installing Jupyter Notebook and more](https://jupyter.org/install.html)"
   ]
  }
 ],
 "metadata": {
  "celltoolbar": "Tags",
  "kernelspec": {
   "display_name": "Python 3",
   "language": "python",
   "name": "python3"
  },
  "language_info": {
   "codemirror_mode": {
    "name": "ipython",
    "version": 3
   },
   "file_extension": ".py",
   "mimetype": "text/x-python",
   "name": "python",
   "nbconvert_exporter": "python",
   "pygments_lexer": "ipython3",
   "version": "3.8.8"
  }
 },
 "nbformat": 4,
 "nbformat_minor": 5
}
