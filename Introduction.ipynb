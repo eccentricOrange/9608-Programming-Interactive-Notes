{
 "cells": [
  {
   "cell_type": "markdown",
   "id": "fd357b84",
   "metadata": {
    "tags": [
     "Meta"
    ]
   },
   "source": [
    "# Introduction\n",
    "This is a course/reference for CAIE Computer Science Problem-solving and Programming, meant to help you understand the content alongside the textbooks. I try to cover most of the syllabus directly related to Python programming, trying to provide an alternate explanation where possible. I also talk about some parts (like expressions, and the `range()` function) which are sometimes not well explained by textbooks.\n",
    "\n",
    "This reference is interactive—you can try out the examples as soon as you read the explanation, without having to launch an IDE. The expetcation is that you use this and you textbooks to get an overview of the concepts, and then dig in by researching—I'll provide some links where appropriate."
   ]
  },
  {
   "cell_type": "markdown",
   "id": "082d52f2",
   "metadata": {
    "tags": [
     "Meta",
     "Jupyter"
    ]
   },
   "source": [
    "## 0: Jupyter Notebooks\n",
    "What you're reading right now, is called a [Jupyter](https://jupyter.org/index.html) Notebook. It allows me to write documentation (explanation), place graphics/diagrams, and write executable Python code in the same place. You can execute my code, edit it, or just create a new cell and experiment.\n",
    "\n",
    "Simply put, a Jupyter notebook is a file with various cells. A cell is a block of code, explanation (like this one), or a multimedia element. To execute a cell, click on it to select it, and press **Ctrl + Enter** (or **Cmd + Return**). Go ahead, and try it with the cell below—you should get a message saying you succeeded."
   ]
  },
  {
   "cell_type": "code",
   "execution_count": null,
   "id": "b4fdde7a",
   "metadata": {
    "scrolled": false,
    "tags": [
     "Meta",
     "Jupyter"
    ]
   },
   "outputs": [],
   "source": [
    "print(\"If you're reading this in plain English (without any programming syntax), then you successfully executed a cell. Congratulations!\")"
   ]
  },
  {
   "cell_type": "markdown",
   "id": "69e72962",
   "metadata": {
    "tags": [
     "Meta",
     "Jupyter"
    ]
   },
   "source": [
    "## 1: Tags\n",
    "Each cell has one or more tags. If it's visible, you should see the words `Meta` and `Jupyter` written in two small boxes on the top-left of this cell, and you don't have to do anything. If not, click **View > Cell Toolbar > Tags**.\n",
    "\n",
    "Tags tell you which syllabuses a given cell pertains to, or otherwise describes the content. For example, this cell has two tags:\n",
    "* **Meta:** This cell is not about any syllabus-specific content, and just describes something about the course.\n",
    "* **Jupyter:** This cell describes how to use Jupyter or its features.\n",
    "\n",
    "Here is a full list of tags you'll encounter.\n",
    "\n",
    "| Tag | Explanation |\n",
    "|--|--|"
   ]
  }
 ],
 "metadata": {
  "celltoolbar": "Tags",
  "kernelspec": {
   "display_name": "Python 3",
   "language": "python",
   "name": "python3"
  },
  "language_info": {
   "codemirror_mode": {
    "name": "ipython",
    "version": 3
   },
   "file_extension": ".py",
   "mimetype": "text/x-python",
   "name": "python",
   "nbconvert_exporter": "python",
   "pygments_lexer": "ipython3",
   "version": "3.8.5"
  }
 },
 "nbformat": 4,
 "nbformat_minor": 5
}
