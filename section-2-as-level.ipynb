{
 "cells": [
  {
   "cell_type": "markdown",
   "metadata": {},
   "source": [
    "# Introduction\n",
    "Welcome to this course on Programming and Problem-solving. It exists mainly because my own A Level Computer Science textbook turned out to be rather boring. I'm not sure I can solve that problem for most people, but I'll give it a shot.\n",
    "\n",
    "Presumably, we learn software programming to ~~learn about problem-solving, develop logical reason skills, and develop a professionally useful skillset~~ get a computer to do whatever the heck we want it to. If a computer science course can't acheive that, I'm out; and so should you be (including this Notebook, but in that case, please tell how I can improve it).\n",
    "\n",
    "Having said so, there are genuinely interesting things to do here: mysteries to solve, an oppurtunity for you to use your creativity, and be expressive about your styles and preferences. I hope that you can walk away from this (and your books and teachers and classes) with some curiousity towards and, hopefully, a little love and curiousity towards this new set of tools.\n",
    "\n",
    "Before I dive further into actual content, I have got some housekeeping to do."
   ]
  },
  {
   "cell_type": "markdown",
   "metadata": {},
   "source": [
    "## Reading someone else's code is the worst thing in the world\n",
    "This is a running joke among programmers, but it has a grain of truth. When you write something, you have a certain viewpoint on it that makes it all obvious to you. But not to a stranger. To some extent, by having standards and conventions, we alleviate this problem. However, I still find it weirdly difficult to read a piece of code than to write one—the same is true of mathematical proofs and the like.\n",
    "\n",
    "To help you there, I'll do my best to group code into small chunks and provide high-level comments that summarise stuff, but I'll need some intellectual investment from your side too (not a lot, though)."
   ]
  },
  {
   "cell_type": "markdown",
   "metadata": {},
   "source": [
    "## Logic?\n",
    "A lot of people think that computer science, science, and math are subjects where you need to use a lot of logic.\n",
    "\n",
    "Upon [looking that up on Google](https://www.google.com/search?q=what+is+logic), I found the following:\n",
    "> 1. reasoning conducted or assessed according to strict principles of validity.\n",
    "> 2. a system or set of principles underlying the arrangements of elements in a computer or electronic device so as to perform a specified task.\n",
    "\n",
    "As far as I can tell, the first definition is good for [logic puzzles](https://youtube.com/playlist?list=PLJicmE8fK0EiFRt1Hm5a_7SJFaikIFW30) and detective-work. We'll be doing a fair bit of that.\n",
    "\n",
    "The second one though...really gets me excited. It really captures the essence of programming (introductory programming anyway). What we're going to do is essentially learn about some of these \"set\\[s\\] of principles\", so that you can \"perform a specified task.\""
   ]
  },
  {
   "cell_type": "markdown",
   "metadata": {},
   "source": [
    "## Yes, logic\n",
    "What about general people, though? What do we usually mean by saying \"something is logical\"? Well, one thing we might agree on is that stuff follows from other, well-established, stuff.\n",
    "\n",
    "Think about the following statements:\n",
    "\n",
    "1. You should eat healthy meals.\n",
    "2. Balanced meals are healthy.\n",
    "\n",
    "So, **logically:**\n",
    "\n",
    "3. You should eat balanced meals.\n",
    "\n",
    "It's an obvious conclusion, right?"
   ]
  },
  {
   "cell_type": "markdown",
   "metadata": {},
   "source": [
    "## Getting a computer to do logical work"
   ]
  }
 ],
 "metadata": {
  "celltoolbar": "Tags",
  "interpreter": {
   "hash": "25d6524ab9e6f0de3d3b5e26bdde56efe3537879988301c2ae48b46264444a64"
  },
  "kernelspec": {
   "display_name": "Python 3 (ipykernel)",
   "language": "python",
   "name": "python3"
  },
  "language_info": {
   "codemirror_mode": {
    "name": "ipython",
    "version": 3
   },
   "file_extension": ".py",
   "mimetype": "text/x-python",
   "name": "python",
   "nbconvert_exporter": "python",
   "pygments_lexer": "ipython3",
   "version": "3.10.2"
  }
 },
 "nbformat": 4,
 "nbformat_minor": 2
}
