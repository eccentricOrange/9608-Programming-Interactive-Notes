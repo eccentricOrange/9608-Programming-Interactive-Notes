{
 "cells": [
  {
   "cell_type": "markdown",
   "metadata": {},
   "source": [
    "# Introduction\n",
    "Welcome to this course on Programming and Problem-solving. It exists mainly because my own A Level Computer Science textbook turned out to be rather boring. I'm not sure I can solve that problem for most people, but I'll give it a shot.\n",
    "\n",
    "Presumably, we learn software programming to ~~learn about problem-solving, develop logical reason skills, and develop a professionally useful skillset~~ get a computer to do whatever the heck we want it to. If a computer science course can't acheive that, I'm out; and so should you be (including this Notebook, but in that case, please tell how I can improve it).\n",
    "\n",
    "Having said so, there are genuinely interesting things to do here: mysteries to solve, an oppurtunity for you to use your creativity, and be expressive about your styles and preferences. I hope that you can walk away from this (and your books and teachers and classes) with some curiousity towards and, hopefully, a little love and curiousity towards this new set of tools.\n",
    "\n",
    "Before I dive further into actual content, I have got some housekeeping to do."
   ]
  },
  {
   "cell_type": "markdown",
   "metadata": {},
   "source": [
    "## Reading someone else's code is the worst thing in the world\n",
    "This is a running joke among programmers, but it has a grain of truth. When you write something, you have a certain viewpoint on it that makes it all obvious to you. But not to a stranger. To some extent, by having standards and conventions, we alleviate this problem. However, I still find it weirdly difficult to read a piece of code than to write one—the same is true of mathematical proofs and the like.\n",
    "\n",
    "To help you there, I'll do my best to group code into small chunks and provide high-level comments that summarise stuff, but I'll need some intellectual investment from your side too (not a lot, though)."
   ]
  },
  {
   "cell_type": "markdown",
   "metadata": {},
   "source": [
    "## Logic?\n",
    "A lot of people think that computer science, science, and math are subjects where you need to use a lot of logic.\n",
    "\n",
    "Upon [looking that up on Google](https://www.google.com/search?q=what+is+logic), I found the following:\n",
    "> 1. reasoning conducted or assessed according to strict principles of validity.\n",
    "> 2. a system or set of principles underlying the arrangements of elements in a computer or electronic device so as to perform a specified task.\n",
    "\n",
    "As far as I can tell, the first definition is good for [logic puzzles](https://youtube.com/playlist?list=PLJicmE8fK0EiFRt1Hm5a_7SJFaikIFW30) and detective-work. We'll be doing a fair bit of that.\n",
    "\n",
    "The second one though...really gets me excited. It really captures the essence of programming (introductory programming anyway). What we're going to do is essentially learn about some of these \"set\\[s\\] of principles\", so that you can \"perform a specified task.\""
   ]
  },
  {
   "cell_type": "markdown",
   "metadata": {},
   "source": [
    "## Yes, logic\n",
    "What about general people, though? What do we usually mean by saying \"something is logical\"? Well, one thing we might agree on is that stuff follows from other, well-established, stuff.\n",
    "\n",
    "Think about the following statements:\n",
    "\n",
    "1. You should eat healthy meals.\n",
    "2. Balanced meals are healthy.\n",
    "\n",
    "So, **logically:**\n",
    "\n",
    "3. You should eat balanced meals.\n",
    "\n",
    "It's an obvious conclusion, right?"
   ]
  },
  {
   "cell_type": "markdown",
   "metadata": {},
   "source": [
    "## Getting a computer to do logical work\n",
    "Let's see if our computer agrees with our logic. I'll tell it these two statements and then ask it for a conclusion.\n",
    "\n",
    "The cell below is called a \"code\" cell. Whatever you (or I) type in there will be \"told\" to the computer. The way you do that is you select the cell (just click on it once), and press **Ctrl** + **Enter** (or **Cmd** + **Return**).\n",
    "\n",
    "So go ahead and run it! See whether our computer agrees. If it does, this could be your first program!"
   ]
  },
  {
   "cell_type": "code",
   "execution_count": null,
   "metadata": {},
   "outputs": [],
   "source": [
    "1. I should eat healthy meals.\n",
    "2. Balanced meals are healthy.\n",
    "\n",
    "So, should I eat balanced meals?"
   ]
  },
  {
   "cell_type": "markdown",
   "metadata": {},
   "source": [
    "## :(\n",
    "That was a weird output! We didn't get an answer, instead the computer said something like this:\n",
    "\n",
    "> ```py\n",
    "> SyntaxError: invalid syntax\n",
    "> ```\n",
    "\n",
    "What's syntax? [Acccording to Google](https://www.google.com/search?q=what+is+syntax),\n",
    "> 1. the arrangement of words and phrases to create well-formed sentences in a language.\n",
    "> 2. the structure of statements in a computer language.\n",
    "\n",
    "So it's ironic that the computer forgot to put a space in between `SyntaxError` and then complained about syntax and strucutre. Or did it forget?"
   ]
  },
  {
   "cell_type": "markdown",
   "metadata": {},
   "source": [
    "## Low-level languages\n",
    "Well, it turns out, you and I understand the syntax of English (and/or French, Hindi, Russian, whatever else you know). A computer doesn't.\n",
    "\n",
    "What it understand probably looks a little like this:\n",
    "```hex\n",
    "55\n",
    "48 89 E5\n",
    "B8 00 00 00 00\n",
    "5D\n",
    "C3\n",
    "66 2E 0F 1F 84 00 00 00 00 00\n",
    "0F 1F 44 00 00\n",
    "```\n",
    "\n",
    "Okay, that's wayyy too cryptic! But this how people coded back in the day. This is [machine code](https://simple.wikipedia.org/wiki/Machine_code), and it's expressed here in a number system called [hexademical](https://simple.wikipedia.org/wiki/Hexadecimal) (the Base16 thing, with 0–9 and A–F). This stuff can get really really complex. Not only do you have to know what a particular hexadecimal value means, but you also need a thorough understanding of computer memory and architecture. Only some very experienced engineers ever use hexadecimal.\n",
    "\n",
    "As computers improved over the years though, we realised we could alleviate some stress off of humans.\n",
    "\n",
    "So we made this:\n",
    "```x86\n",
    "main:\n",
    "        push    rbp\n",
    "        mov     rbp, rsp\n",
    "        mov     eax, 0\n",
    "        pop     rbp\n",
    "        ret\n",
    "```\n",
    "\n",
    "It's still cryptic. But it's arguably a better cryptic. In general, this is called [assembly language](https://simple.wikipedia.org/wiki/Assembly_language). When the CPU on a computer does something, it follows these instructions. In particular, this is in a \"flavour\" called `x86_64`. This means that it'll run on an Intel 32-bit or 64-bit CPU. This is still pretty darn complex. Assembly language is sometimes used in places with very tight constraints (on things like me memory and CPU time).\n",
    "\n",
    "I claimed that it's a better cryptic. Why? Well, we see some English-ish words, like `main`, `push`, `pop` etc. So, we might be able to guess what this block does. Do you want to take a shot at it?"
   ]
  },
  {
   "cell_type": "markdown",
   "metadata": {},
   "source": [
    "## High-level languages\n",
    "Once again, as computers got better, we realised that we could offload more of the **translation** work to computers. Between 1979, [Bjarne Stroustrup created the language C++](https://www.youtube.com/watch?v=MNeX4EGtR5Y). Our program from the previous cell would look a little like this in C++:\n",
    "\n",
    "```c++\n",
    "int main() {\n",
    "    2 == 3;\n",
    "}\n",
    "```\n",
    "\n",
    "You can probably tell now that it's doing *something* with the numbers 2 and 3, and that's inside *something* called `main`. For now, don't worry about what `int` means, the weird assortment of brackets, or the fact that I've written an equals sign twice (`==`). I *will* tell you that this is doing a **logical operation**, but more on that later.\n",
    "\n",
    "Machine code and assembly are classified as [low-level languages](https://www.bbc.co.uk/bitesize/guides/z4cck2p/revision/2), while languages like C++ are [high-level langauges](https://www.bbc.co.uk/bitesize/guides/z4cck2p/revision/1). In general, the \"lower level\" you go, the closer you are to working with \"bare metal\" (doing physics without abstractions like languages), and the \"higer level\" you go, you're closer to human-readable languages.\n",
    "\n",
    "Today, many popular \"higher\" level languages exist, like Java, JavaScript, C# etc. We'll use one called Python. In Python, our program from above would look like this:\n",
    "\n",
    "```python\n",
    "2 == 3\n",
    "```\n",
    "\n",
    "Neat, isn't it? No funky brackets or semicolons, and no weird words like `int` and `main`.\n",
    "\n",
    "In fact, remember our previous \"program\" that gave us a `SyntaxError` without a space? Well, over there, the computer was expecting a program written in Python, not English. Our one-line program with 2 and 3 is a valid Python program. So I'll make it a Python cell below, and you can execute it! (remember **Ctrl** + **Enter** or **Cmd** + **Return**?)"
   ]
  },
  {
   "cell_type": "code",
   "execution_count": null,
   "metadata": {},
   "outputs": [],
   "source": [
    "2 == 3"
   ]
  }
 ],
 "metadata": {
  "celltoolbar": "Tags",
  "interpreter": {
   "hash": "25d6524ab9e6f0de3d3b5e26bdde56efe3537879988301c2ae48b46264444a64"
  },
  "kernelspec": {
   "display_name": "Python 3 (ipykernel)",
   "language": "python",
   "name": "python3"
  },
  "language_info": {
   "codemirror_mode": {
    "name": "ipython",
    "version": 3
   },
   "file_extension": ".py",
   "mimetype": "text/x-python",
   "name": "python",
   "nbconvert_exporter": "python",
   "pygments_lexer": "ipython3",
   "version": "3.10.2"
  }
 },
 "nbformat": 4,
 "nbformat_minor": 2
}
