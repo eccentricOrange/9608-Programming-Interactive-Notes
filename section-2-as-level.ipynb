{
 "cells": [
  {
   "cell_type": "markdown",
   "metadata": {
    "tags": [
     "Meta",
     "No-requirement"
    ]
   },
   "source": [
    "# 0: Introduction\n",
    "Welcome to this course on Programming and Problem-solving! It exists mainly because my own A Level Computer Science textbook turned out to be rather boring. I'm not sure I can solve that problem for most people since I'm a boring guy, but I'll give it a shot.\n",
    "\n",
    "Presumably, we learn software programming to ~~learn about problem-solving, develop logical reason skills, and develop a professionally useful skill-set~~ get a computer to do whatever the heck we want it to. If a computer science course can't achieve that, I'm out; and so should you be if it doesn't meet *your* goals (that applies to this Notebook too, but in that case, please tell how I can improve it).\n",
    "\n",
    "Having said so, there are genuinely interesting things to do here: mysteries to solve, an opportunity for you to use your creativity, and be expressive about your styles and preferences. I hope that you can walk away from this (and your books and teachers and classes) with some curiosity towards and, hopefully, a little love and appreciation about this new set of tools."
   ]
  },
  {
   "cell_type": "markdown",
   "metadata": {
    "tags": [
     "Meta",
     "No-requirement"
    ]
   },
   "source": [
    "## First, some housekeeping!\n",
    "\n",
    "#### Reading someone else's code is the worst thing in the world\n",
    "This is a running joke among programmers, but it has a grain of truth. When you write something, you have a certain viewpoint on it that makes it all obvious to you. But not to a stranger. To some extent, by having standards and conventions, we alleviate this problem. However, I still find it weirdly difficult to read a piece of code than to write one—the same is true of mathematical proofs and the like.\n",
    "\n",
    "To help you there, I'll do my best to group code into small chunks and provide high-level comments that summarise stuff, but I'll need some intellectual investment from your side too (not a lot, though).\n",
    "\n",
    "#### I'm probably throwing more at you than you need to know\n",
    "I'm not going to shy away from diving to the details of topics as they come along. Some of these details can be really useful in the process of writing code, especially if you decide to do something of your own outside the exam structure. Many of them are just nuances rather than additional topics, which can be invaluable when tracking down a bug (mistake/fault). But you might never be asked to discuss (about 30% of?) these ideas directly, so feel forget the specifics later down the line.\n",
    "\n",
    "#### Attitude and other \"getting started\" advice\n",
    "As it turns out, the folks who manage the [r/learnprogramming](https://www.reddit.com/r/learnprogramming/) subreddit have done a better job than I can do. So take a look at their [FAQ \\(Getting Started\\)](https://www.reddit.com/r/learnprogramming/wiki/faq#wiki_getting_started). If you're feeling up for it, go ahead and read the next few questions too.\n",
    "\n",
    "#### Jupyter\n",
    "The rest of whatever follows in this Notebook is actual content. Oh did I mention [Jupyter Notebooks](https://jupyter.org/) before? They're the environment we're in right now, and it lets me write stuff in English alongside stuff in programming languages. For the most part you don't have to worry about that, and I'll direct you verbosely through anything you need to do. But if you are interested in playing around more with it, I've made another Notebook about Notebooks, which will also direct you to their official resources.\n",
    "\n",
    "&nbsp;\n",
    "\n",
    "Onto the good stuff!"
   ]
  },
  {
   "cell_type": "markdown",
   "metadata": {
    "tags": [
     "No-requirement"
    ]
   },
   "source": [
    "## Logic?\n",
    "A lot of people think that computer science, science, and math are subjects where you need to use a lot of logic.\n",
    "\n",
    "Upon [looking that up on Google](https://www.google.com/search?q=what+is+logic), I found the following:\n",
    "> 1. reasoning conducted or assessed according to strict principles of validity.\n",
    "> 2. a system or set of principles underlying the arrangements of elements in a computer or electronic device so as to perform a specified task.\n",
    "\n",
    "As far as I can tell, the first definition is good for [logic puzzles](https://youtube.com/playlist?list=PLJicmE8fK0EiFRt1Hm5a_7SJFaikIFW30) and detective-work. We'll be doing a fair bit of that.\n",
    "\n",
    "The second one though...really gets me excited. It really captures the essence of programming (introductory programming anyway). What we're going to do is essentially learn about some of these \"set\\[s\\] of principles\", so that you can \"perform a specified task.\""
   ]
  },
  {
   "cell_type": "markdown",
   "metadata": {
    "tags": [
     "Implicit-requirement"
    ]
   },
   "source": [
    "## Yes, logic\n",
    "What about general people, though? What do we usually mean by saying \"something is logical\"? Well, one thing we might agree on is that stuff follows from other, well-established, stuff.\n",
    "\n",
    "Think about the following statements:\n",
    "\n",
    "1. You should eat healthy meals.\n",
    "2. Balanced meals are healthy.\n",
    "\n",
    "So, **logically:**\n",
    "\n",
    "3. You should eat balanced meals.\n",
    "\n",
    "It's an obvious conclusion, right? Statement 3 logically follows from statements 1 and 2."
   ]
  },
  {
   "cell_type": "markdown",
   "metadata": {
    "tags": [
     "Implicit-requirement"
    ]
   },
   "source": [
    "## Getting a computer to do logical work\n",
    "Let's see if our computer agrees with our logic. I'll tell it these two statements and then ask it for a conclusion.\n",
    "\n",
    "The cell below is called a \"code\" cell. Whatever you (or I) type in there will be \"told\" to the computer. The way you do that is you select the cell (just click on it once), and press **Ctrl** + **Enter** (or **Cmd** + **Return**).\n",
    "\n",
    "So go ahead and run it! See whether our computer agrees. If it does, this could be your first program! (I mean, I wrote it...but you are still interacting with it!!)"
   ]
  },
  {
   "cell_type": "code",
   "execution_count": null,
   "metadata": {
    "tags": [
     "Implicit-requirement"
    ]
   },
   "outputs": [],
   "source": [
    "1. I should eat healthy meals.\n",
    "2. Balanced meals are healthy.\n",
    "\n",
    "So, should I eat balanced meals?"
   ]
  },
  {
   "cell_type": "markdown",
   "metadata": {
    "tags": [
     "Implicit-requirement"
    ]
   },
   "source": [
    "## :(\n",
    "That was a weird output! We didn't get an answer, instead the computer said something like this:\n",
    "\n",
    "> ```py\n",
    "> Input In [1]\n",
    ">     1. I should eat healthy meals.\n",
    ">        ^\n",
    "> SyntaxError: invalid syntax\n",
    "> ```\n",
    "\n",
    "What's syntax? [Acccording to Google](https://www.google.com/search?q=what+is+syntax),\n",
    "> 1. the arrangement of words and phrases to create well-formed sentences in a language.\n",
    "> 2. the structure of statements in a computer language.\n",
    "\n",
    "So it's ironic that the computer forgot to put a space in between `SyntaxError` and then complained about syntax and strucutre.\n",
    "\n",
    "&nbsp;\n",
    "\n",
    "&nbsp;\n",
    "\n",
    "Or *did it* really forget?"
   ]
  },
  {
   "cell_type": "markdown",
   "metadata": {},
   "source": [
    "## Low-level languages\n",
    "Well, it turns out, you and I understand English (and/or French, Hindi, Russian, whatever else you know). A computer doesn't.\n",
    "\n",
    "What it understand probably looks a little like this:\n",
    "```hex\n",
    "55\n",
    "48 89 E5\n",
    "B8 00 00 00 00\n",
    "5D\n",
    "C3\n",
    "66 2E 0F 1F 84 00 00 00 00 00\n",
    "0F 1F 44 00 00\n",
    "```\n",
    "\n",
    "Okay, that's wayyy too cryptic for us! But this how people coded back in the day. This is [machine code](https://simple.wikipedia.org/wiki/Machine_code), and it's expressed here in a number system called [hexademical](https://simple.wikipedia.org/wiki/Hexadecimal) (the Base16 thing, with 0–9 and A–F). This stuff can get really really complex. Not only do you have to know what a particular hexadecimal value means, but you also need a thorough understanding of computer memory and architecture. Today, only some very experienced engineers ever use hexadecimal.\n",
    "\n",
    "As computers improved over the years though, we realised we could alleviate some stress off of humans.\n",
    "\n",
    "So we made this:\n",
    "```x86\n",
    "main:\n",
    "        push    rbp\n",
    "        mov     rbp, rsp\n",
    "        mov     eax, 0\n",
    "        pop     rbp\n",
    "        ret\n",
    "```\n",
    "\n",
    "It's still cryptic. But it's arguably a better cryptic. In general, this is called [assembly language](https://simple.wikipedia.org/wiki/Assembly_language). When the CPU on a computer does something, it follows these instructions. In particular, this is in a \"flavour\" called `x86_64`. This means that it'll run on an Intel 32-bit (x86) or 64-bit (x64) CPU. The resons 32 bits correspond to the number 86 but 64-bit is 64 itself are [pure history and convention](https://stackoverflow.com/a/29974471/10907280), so deal with it. This is still pretty darn complex. Assembly language is sometimes used in places with very tight constraints (on things like me memory and CPU time).\n",
    "\n",
    "I claimed that it's a better cryptic. Why? Well, we see some English-ish words, like `main`, `push`, `pop` etc. So, we might be able to guess what this block does. Do you want to take a shot at it?\n",
    "\n",
    "*\\[For CAIE exams, you don't need to know about different kinds of assembly, like x86_64 or AMD_64, but you do need a general understanding of assembly and some commands, as given by the syllabus document].*"
   ]
  },
  {
   "cell_type": "markdown",
   "metadata": {},
   "source": [
    "## High-level languages\n",
    "Once again, as computers got better, we realised that we could offload more of the **translation** work to computers. Between 1979, Bjarne Stroustrup created the language [C++](https://www.youtube.com/watch?v=MNeX4EGtR5Y). Our program from the previous cell would look a little like this in C++:\n",
    "\n",
    "```c++\n",
    "int main() {\n",
    "    2 == 3;\n",
    "}\n",
    "```\n",
    "\n",
    "You can probably tell now that it's doing *something* with the numbers 2 and 3, and that's inside *something* called `main`. For now, don't worry about what `int` means, the weird assortment of brackets, or the fact that I've written an equals sign twice (`==`). I *will* tell you that this is doing a **logical operation**, but more on that later.\n",
    "\n",
    "Machine code and assembly are classified as [low-level languages](https://www.bbc.co.uk/bitesize/guides/z4cck2p/revision/2), while languages like C++ are [high-level langauges](https://www.bbc.co.uk/bitesize/guides/z4cck2p/revision/1). In general, the \"lower level\" you go, the closer you are to working with \"bare metal\" (doing physics without abstractions like languages), and the \"higer level\" you go, you're closer to human-readable languages.\n",
    "\n",
    "Today, many popular \"higher\" level languages exist, like Java, JavaScript, C# etc. We'll use one called [Python](https://www.youtube.com/watch?v=x7X9w_GIm1s). It's rather interesting name comes from a comedy show. [From the language's official website](https://docs.python.org/3/faq/general.html#why-is-it-called-python):\n",
    "\n",
    "> When he began implementing Python, Guido van Rossum was also reading the published scripts from “Monty Python’s Flying Circus”, a BBC comedy series from the 1970s. Van Rossum thought he needed a name that was short, unique, and slightly mysterious, so he decided to call the language Python.\n",
    "\n",
    "In Python, our program from above would look like this:\n",
    "\n",
    "```python\n",
    "2 == 3\n",
    "```\n",
    "\n",
    "Neat, isn't it? No funky brackets or semicolons, and no weird words like `int` and `main`.\n",
    "\n",
    "In fact, remember our previous \"program\" that gave us a `SyntaxError` without a space? Well, over there, the computer was expecting a program written in Python, not English. Our one-line program with 2 and 3 is a valid Python program. So I'll make it a Python cell below, and you can execute it! (remember **Ctrl** + **Enter** or **Cmd** + **Return**?)"
   ]
  },
  {
   "cell_type": "code",
   "execution_count": null,
   "metadata": {},
   "outputs": [],
   "source": [
    "2 == 3"
   ]
  },
  {
   "cell_type": "markdown",
   "metadata": {},
   "source": [
    "## Analysing the output\n",
    "If all worked okay, you should have seen a new line appear with a single word: `False`\n",
    "\n",
    "Congratulations then, on running your first program! By the way, you can edit that code and try something else on your own too. To do so, click the cell and press **Enter** (or **Return**) once. Once you're done with your edits, run it the way you ran it last time.\n",
    "\n",
    "Can you finally figure out what the program does? It is a **comparision** between 2 and 3. We're essentially asking the question \"is 2 equal to 3?\" and the equality operator `==` represents this comparision. 2 is obviously not equal to 3, and it tells us as much by saying `False`. As for why they're two equals signs...we'll discuss a little later.\n",
    "\n",
    "This is an example of a **logical operator**. Just so that you can convince yourself that this is indeed checking for equality, go ahead and replace the `3` above with a `2`, and then run it again (or just run the one below, with different but identical values)."
   ]
  },
  {
   "cell_type": "code",
   "execution_count": null,
   "metadata": {},
   "outputs": [],
   "source": [
    "1023 == 1023"
   ]
  },
  {
   "cell_type": "markdown",
   "metadata": {},
   "source": [
    "## When would this not work?\n",
    "What do you think would have happened if you ran C++ equivalent instead? Well, I can't do that here for you since this notebook supports only one language at a time (and we're going to use Python). I can, of course, show you code in other languages, but can't run it here. I'll upload all the programs from this notebook into a separate folder with instructions on how to run them.\n",
    "\n",
    "But for the following code, I can just tell you the output.\n",
    "\n",
    "```c++\n",
    "int main() {\n",
    "    2 == 3;\n",
    "}\n",
    "```\n",
    "\n",
    "You'd see nothing. No `False`, no `SyntaxError`—nothing. Why is that, when we saw an output for Python?"
   ]
  },
  {
   "cell_type": "markdown",
   "metadata": {},
   "source": [
    "## Ways to translate a language\n",
    "Part of it has to do with how Python and C++ are \"translated\" into machine code.\n",
    "\n",
    "Code written in Python is usually **interpreted**. This means that the computer looks at a line of code, converts it to machine code, and immedeatly runs it. It looks at the next line after that. In essence, that allows Python to be run in a [Read–eval–print loop (REPL)](https://www.digitalocean.com/community/tutorials/what-is-repl) environment. What does that mean? You can give the computer one instruction at a time (read), let it run (evaluate), see its output (print), and then give the next one (loop)—an \"interactive\" environment.\n",
    "\n",
    "Code written in C++ is usually **compiled**. In this case, the computer would convert the entirety of the program into machine code at once, and give it to you. Such a compiled program is called an **executable** (denoted by `.exe` on Windows). There usually no REPL environments for such languages.\n",
    "\n",
    "The \"cells\" in this Notebook behave like mini, slightly weird, REPL environments. So when we asked it to execute the statement `2 == 3`, the computer ran it and came up with a statement `False`. We describe this using the following terminology: `2 == 3` **returned** `False`. When a piece of code does something, and hands you a value, that action is called returning. We didn't tell the computer what to do with this returned `False` value (such as remembering it for the future), so it went with its default behaviour and just handed it back to us on the screen.\n",
    "\n",
    "Okay, truth be told, there's more to returning than passing values around, and the above description very incomplete, but it's a good rule of thumb for getting code to actually do something, and I promise to resolve this lie before long.\n",
    "\n",
    "You can [read more about different types of translators here](https://www.bbc.co.uk/bitesize/guides/z4cck2p/revision/3)."
   ]
  },
  {
   "cell_type": "markdown",
   "metadata": {
    "tags": [
     "Meta",
     "No-requirement"
    ]
   },
   "source": [
    "### SIDENOTE: Justification for discussing both Python and C++\n",
    "So far, I've mostly been talking about code in two high-level languages. You may wonder why, given that your syllabus requires only one of them (likely Python).\n",
    "\n",
    "I actually have several reasons:\n",
    "* **C++ is lower level than Python.** There is no magic in C++ (or its predecessor C). If you want something done, you'll have to do it yourself. I'm borrowing this idea from [Harvard University's CS50x course](https://cs50.harvard.edu/x/), which is taught primarily in C. I think you might have a better handle on programming in general (which *will* help with exams) if you see the gory details of C++. Having said that, you don't *need* to remember it at all—just make sure you get the concept, then you can stick to Python.\n",
    "* **Programming is supposed to be a transferable skill.** The syllabus expects you to understand and appreciate different \"paradigms\" (in paper 4). I think this idea will be refined if you are exposed to different languages—it would allow you to focus on the bigger picture and appreciate the general takeaways. Besides, [recent research suggests that we learn the best when exposed to various perspectives](https://www.youtube.com/watch?v=rhgwIhB58PA).\n",
    "* **Pseudocode appears to follow syntax closer to C++.** On one hand, yes, CAIE Pseudocode is more like Python in that it it does away with the verbose brackets and semicolons. But many of its concepts (for instance: types of loops, file handling, variable declaration etc) seem to resemble C++ more closely, as you'll discover later.\n",
    "\n",
    "So, please forgive me for adding another language for you to deal with."
   ]
  },
  {
   "cell_type": "markdown",
   "metadata": {
    "tags": [
     "Meta"
    ]
   },
   "source": [
    "# 1: Introducing the print statement\n",
    "Now we're done with the majority of things I would consider background or context, and even looked at some ideas that are required by the syllabus. Most of whatever follows will be \"concrete\" content, and you ~~can~~ should immediately try to implement it on your own."
   ]
  },
  {
   "cell_type": "markdown",
   "metadata": {},
   "source": [
    "## So how do we tell a computer to \"output\" something?\n",
    "Many tutorials start by adressing this topic, and the [convention](https://stackoverflow.com/questions/602237/where-does-hello-world-come-from) is to output the message \"Hello, World!\" or some variation thereof. But we already have our comparision of 2 and 3, so let's try and output that.\n",
    "\n",
    "If we attempt to output the result of `2 == 3`, our programs change like so:\n",
    "\n",
    "#### Python\n",
    "\n",
    "```python\n",
    "print(2 == 3)\n",
    "```\n",
    "\n",
    "#### C++\n",
    "```c++\n",
    "#include <iostream>\n",
    "\n",
    "int main() {\n",
    "    printf(\"%i\", 2 == 3);\n",
    "}\n",
    "```\n",
    "\n",
    "&nbsp;\n",
    "\n",
    "You can run the Python program below and see its output. For the C++ program, I'll just tell you what the output was:\n",
    "\n",
    "```\n",
    "0\n",
    "```"
   ]
  },
  {
   "cell_type": "code",
   "execution_count": null,
   "metadata": {},
   "outputs": [],
   "source": [
    "print(2 == 3)"
   ]
  },
  {
   "cell_type": "markdown",
   "metadata": {
    "tags": [
     "No-requirement"
    ]
   },
   "source": [
    "## Differences\n",
    "Okay, so that changed our code drastically—especially in C++. In particular:\n",
    "* There is now a new line `#include <iostream>`.\n",
    "* A word called `printf` has entered the chat.\n",
    "* `\"%i\"` is now a thing, whatever that means.\n",
    "* There is some stuff in parenthesis `()` and separated by a comma.\n",
    "\n",
    "In Python, we observe only two changes:\n",
    "* The `2 == 3` is now inside parenthesis.\n",
    "* It is preceeded by a word `print`.\n",
    "\n",
    "## Similarities\n",
    "* The word `print` appears in both cases, though it has an `f` in C++.\n",
    "* `2 == 3` goes inside parenthesis `()` in both cases."
   ]
  },
  {
   "cell_type": "markdown",
   "metadata": {},
   "source": [
    "## So, what are we printing out?\n",
    "You didn't see anything on your printer upon running this, right? Turns out, it's called \"print\" (instead of something like \"output\") for historic reasons. Before we could use monitors and screens, computers would literally print on a piece of paper.\n",
    "\n",
    "The term `print` is something called a **function.** A function is like a shortcut to a (usually longer) piece of code that does something for you. The people that made Python and C++ wrote some code that would show something on your screen, and called it `print` and `printf` respectively.\n",
    "\n",
    "So our `2 == 3` statement **returns** the `False` value, and it is **passed** into the `print` or `printf` functions. The function then takes that and outputs it to the screen. We'll discuss functions in more depth later, when we're writing long enough code to warrant use of functions.\n",
    "\n",
    "Adressing the extra `f` in C++: the `f` in `printf` is for \"formatting\", and it is the answer to why we have the weird `\"%i\"` in our program. But to understand it, we'll need to examing a different concept first."
   ]
  },
  {
   "cell_type": "markdown",
   "metadata": {
    "tags": [
     "No-requirement"
    ]
   },
   "source": [
    "## Differring outputs\n",
    "Did you notice that C++ and Python printed out different things (`0` and `False` respectively)?\n",
    "\n",
    "To understand that, let's also take a look at a slight different code, where we're checking identical values. I'll show you the C++ code and its corresponding output here, and you can run the Python equivalent below.\n",
    "\n",
    "#### C++ code\n",
    "\n",
    "```c++\n",
    "#include <iostream>\n",
    "\n",
    "int main() {\n",
    "    printf(\"%i\", 19 == 19);\n",
    "}\n",
    "```\n",
    "\n",
    "#### C++ output\n",
    "```\n",
    "1\n",
    "```"
   ]
  },
  {
   "cell_type": "code",
   "execution_count": null,
   "metadata": {},
   "outputs": [],
   "source": [
    "print(19 == 19)"
   ]
  },
  {
   "cell_type": "markdown",
   "metadata": {},
   "source": [
    "## What if I want to print a message?\n",
    "Remember I told you about \"Hello, World!\" earlier? What if I wanted to print a message like that instead? Here's an attempt at that in C++, using whatever we know so far.\n",
    "\n",
    "#### C++ code attempt\n",
    "\n",
    "```c++\n",
    "#include <iostream>\n",
    "\n",
    "int main() {\n",
    "    printf(\"%i\", Hello, World!);\n",
    "}\n",
    "```\n",
    "\n",
    "Huh! I could not compile that all! It gave me an error:\n",
    "```\n",
    "exp.cpp: In function ‘int main()’:\n",
    "exp.cpp:4:18: error: ‘Hello’ was not declared in this scope; did you mean ‘ftello’?\n",
    "    4 |     printf(\"%i\", Hello, World!);\n",
    "      |                  ^~~~~\n",
    "      |                  ftello\n",
    "exp.cpp:4:25: error: ‘World’ was not declared in this scope\n",
    "    4 |     printf(\"%i\", Hello, World!);\n",
    "      |                         ^~~~~\n",
    "```\n",
    "\n",
    "Our program seems reasonable. So, just to make sure it's not a weird quirk of C++, let's try it in Python too."
   ]
  },
  {
   "cell_type": "code",
   "execution_count": null,
   "metadata": {},
   "outputs": [],
   "source": [
    "print(Hello, World!)"
   ]
  },
  {
   "cell_type": "markdown",
   "metadata": {},
   "source": [
    "# 2: Data types"
   ]
  },
  {
   "cell_type": "markdown",
   "metadata": {},
   "source": [
    "## So, what went wrong?\n",
    "Well here's a summary of what happened.\n",
    "\n",
    "| Input to `print` or `printf` | C++ output | Python output |\n",
    "| -- | -- | -- |\n",
    "| `2 == 3` | `0` | `False` |\n",
    "| `19 == 19` | `1` | `True` |\n",
    "| `Hello, World!` | *[error]* | *[error]* |\n",
    "\n",
    "There are two noteworthy things here.\n",
    "1. The difference (C++ us gives a number like `1`, and Python gives us a word like `True`).\n",
    "2. Our program was unable to say \"Hello\" to the world :(\n",
    "\n",
    "Both of these can be explained using the concept of **data types**. It is already obvious to you that computers can remember data. It typically ranges from documents and text, to images and video, to games and apps.\n",
    "\n",
    "Well, in programming too, it turns out there is a special way of doing this same task. You can, of course, store stuff to **files** and retrieve it from there (think of this as typically happening on the \"long-term\" storage device, like hard drives), but you can *also* put stuff onto temporary memory (think of this as the RAM).\n",
    "\n",
    "Just like you can control the type of a file (a filename ending with `.jpg` will conventionally be an image, a filename ending with `.docx` will typically be a Word document et cetera), so can you control the type of this temporary data."
   ]
  },
  {
   "cell_type": "markdown",
   "metadata": {},
   "source": [
    "## Important data types\n",
    "There are 8 important **primitive** (i.e., they're built into the language) data types, and I'll list them below. I've also included what I'm calling a \"symbol\" for now, but we'll see its utility later.\n",
    "\n",
    "| Name of type | Python symbol | C++ Symbol | Description\n",
    "| :-- | :-- | :-- | :-- |\n",
    "| `INTEGER` | `int` | `int` | An integer (it cannot have precision after the decimal point). |\n",
    "| `REAL` | `float` | `double` or `float` | A real number (it can have precision after the decimal point). |\n",
    "| `CHAR` | *[N/A]* | `char` | A single character. |\n",
    "| `STRING` | `str` | array of `char` | A number of characters. |\n",
    "| `BOOLEAN` | `bool` | `bool` | A Boolean value, storing only `TRUE` or `FALSE`. |\n",
    "| `DATE` | `datetime.date` | *[N/A]* | A date, typically stored along with a time. |\n",
    "| `ARRAY` | `list` | *[N/A]* | A number of values of any other data type. |\n",
    "| `FILE` | file object | `FILE` | An \"object\" referring to a file. |\n",
    "\n",
    "Okay, to be honest with you:\n",
    "* Not all of these are primitives (built into) in Python and/or C++.\n",
    "* Some of them really make sense only after we examine an A Level concept called Object Oriented Programming.\n",
    "\n",
    "You can assume that they are part of valid pseudocode, though. And there are ways to implement all of them in both Python and C++."
   ]
  },
  {
   "cell_type": "markdown",
   "metadata": {
    "tags": [
     "No-requirement"
    ]
   },
   "source": [
    "## Umm, where were we again?\n",
    "Well, I had pointed out to you that Python and C++ give different outputs (`False` vs `0` for instance).\n",
    "\n",
    "It turns out that our comparison `2 == 3` returned a **Boolean value**, i.e., it can only ever be true or false. The `print` function of Python knows how to read the value and covert it into a string. For example, it reads the value `False`, and understands that it must be printed as the letters 'F', 'a', 'l', 's', and 'e'.\n",
    "\n",
    "In the case of `printf` in C++, it does not automatically know this. We have to tell it what data type want to output manually (no magic, remember?), with a **format code**. In this case, the format code was `%i`.\n",
    "\n",
    "Confused? Look at the diagrams below.\n",
    "\n",
    "![How C++ printf() works](assets/printf.png)\n",
    "\n",
    "![How Python print() works](assets/print.png)\n",
    "\n",
    "However, a Boolean format code defined for `printf` does not happen to exist. So, I told the function to convert this to an integer instead when I specified `\"%i\"`.\n",
    "\n",
    "If you know about binary, you might know that the number 0<sub>10</sub> is written as 0<sub>2</sub>, 1<sub>10</sub> is written as 1<sub>2</sub>, 2<sub>10</sub> is written as 10<sub>2</sub>, and so on. A binary 1 can be represented as a `True` and a binary 0 can be represented as a `False`.\n",
    "\n",
    "So, when we wrote `False`, it got converted to an integer `0`. Likewise, `True` got converted to an integer `1`."
   ]
  },
  {
   "cell_type": "markdown",
   "metadata": {
    "tags": [
     "No-requirement"
    ]
   },
   "source": [
    "### C++ format codes\n",
    "A C++ format code has the format `%x`, where `x` is some character. There are many format codes available, and Mircosoft has a [document with many of them explained](https://docs.microsoft.com/cpp/c-runtime-library/format-specification-syntax-printf-and-wprintf-functions#type-field-characters) if you're interested in learning more about them.\n",
    "\n",
    "However, know that this is here for your information only, and will not be examined on the syllabus."
   ]
  },
  {
   "cell_type": "markdown",
   "metadata": {},
   "source": [
    "## The trouble with \"Hello, World!\"\n",
    "Okay, so why did this not work? It turns out that computers need a way to distinguish **literals** from **tokens**.\n",
    "\n",
    "According to [Wikipedia](https://en.wikipedia.org/wiki/Literal_(computer_programming)):\n",
    "> In computer science, a literal is a notation for representing a fixed value in source code.\n",
    "\n",
    "A token can be thought of as an element of the programming laguage. It could be a function like `print`, or a symbol like `==`. In contrast, a literal is something the programmer put in there, like a string or a number.\n",
    "\n",
    "Numbers are easy to distinguish, since a tokens whose name is a number is usually not allowed. However, a special character is needed to distinguish a STRING or a CHARACTER. For example, you could have a string literal with the characters 'p', 'r', 'i', 'n', and 't' (the word \"print\").\n",
    "\n",
    "We do this using quation marks. In C++, a single CHARACTER is enclosed in single quotes (like `'a'`) and a STRING is enclosed in double quotes (like `\"Hello, World!\"`). In Python, there is no difference between the two and both use the datatype `str`. In fact, Python does not have a datatype that is equivalent to `char` in C++, and everything is a STRING (though you could always just put one character into a Python STRING)."
   ]
  },
  {
   "cell_type": "markdown",
   "metadata": {},
   "source": [
    "## Trying to print a string\n",
    "So, with our newfound knowledge of quotes and strings, let's try to print strings. As usual, I'll give you the C++ code and output, and leave you to run the Python code below.\n",
    "\n",
    "#### C++ code\n",
    "```c++\n",
    "#include <iostream>\n",
    "\n",
    "int main() {\n",
    "    printf(\"%s\", \"Hello, World!\");\n",
    "}\n",
    "```\n",
    "\n",
    "#### Output\n",
    "```\n",
    "Hello, World!\n",
    "```"
   ]
  },
  {
   "cell_type": "code",
   "execution_count": null,
   "metadata": {},
   "outputs": [],
   "source": [
    "print(\"Hello, World!\")"
   ]
  },
  {
   "cell_type": "markdown",
   "metadata": {},
   "source": [
    "## Removing redundancies\n",
    "Most programming tutorials would have you up and running with \"Hello, World!\" in matter of seconds. I dragged you all the way here before accomplishing that.\n",
    "\n",
    "However, Do you notice anything odd about our print statement in C++?\n",
    "\n",
    "Well, it appears that the format code (`%i` or `%s`) is also enclosed in double quotes. So is that also a STRING? Well, yes. `printf()` can print STRING and CHARACTER directly, but you need to provide a format code for other values. So if we shorten our program (as below), it would still run the same.\n",
    "\n",
    "```c++\n",
    "#include <iostream>\n",
    "\n",
    "int main() {\n",
    "    printf(\"Hello, World!\");\n",
    "}\n",
    "```\n",
    "\n",
    "In general, it is a bad idea to have **redundancies** in programming. Since computers are soooo good at doing things repeatedly, it's usually considered a bad sign if *you* are manually doing something repeatedly or going through unnecessary steps. That said, programmers are infamous for using workarounds and hacks all the time!"
   ]
  },
  {
   "cell_type": "markdown",
   "metadata": {},
   "source": [
    "# 3: Going back to logic\n",
    "We started our discussion by asking the computer about balanced meals and whether 2 equals 3. Let's now try to do something with that."
   ]
  },
  {
   "cell_type": "markdown",
   "metadata": {},
   "source": [
    "## Logic...so what?\n",
    "I claimed that computers are logical devices, but we didn't really go anywhere from that. Usually, we use logical reasoning to **decide** or conclude something. For example, we could use data about meals to conclude what kind of meals we should eat.\n",
    "\n",
    "Actually, we do this all the time:\n",
    "1. You might buy a carton of milk if you've run out of it at home.\n",
    "1. If one brand of pencils is cheaper than another (but they're equivalent otherwise), I'll buy the cheaper one.\n",
    "1. Cars go through an intersection while the light is green.\n",
    "1. A biologist and a physicist might breakup if there is no chemistry between them.\n",
    "1. You should see a doctor if you are unwell.\n",
    "\n",
    "Hold on! Aside from the one about pencils, most of these aren't really using much logic right? I may have to read and think a bit about it, but most of the others are just obvious.\n",
    "\n",
    "Well, let's look at [a narrower definition of a **logical operation**](https://www.computerhope.com/jargon/l/logioper.htm#:~:text=A%20logical%20operation%20is%20a,or%20more%20phrases%20of%20information.&text=In%20computing%2C%20logical%20operations%20are,operations%20are%20called%20boolean%20operations.):\n",
    "> A **logical operation** is a special symbol or word that connects two or more phrases of information.\n",
    "\n",
    "Fundamentally, this is about logic gates. For the most part, when we talk about \"logic\" in any sort of programming, it can be reduced to a (often very complicated) series of logic operations.\n",
    "\n",
    "&nbsp;\n",
    "\n",
    "Specifically, let's try framing the first of these examples as a series of steps.\n",
    "> You might buy a carton of milk if you've run out of it at home.\n",
    "\n",
    "1. Go home.\n",
    "1. Check the amount of milk in stock at the home.\n",
    "1. If the amount is insufficient,\n",
    "    * Go to a store to buy one carton.\n",
    "\n"
   ]
  }
 ],
 "metadata": {
  "celltoolbar": "Tags",
  "interpreter": {
   "hash": "25d6524ab9e6f0de3d3b5e26bdde56efe3537879988301c2ae48b46264444a64"
  },
  "kernelspec": {
   "display_name": "Python 3 (ipykernel)",
   "language": "python",
   "name": "python3"
  },
  "language_info": {
   "codemirror_mode": {
    "name": "ipython",
    "version": 3
   },
   "file_extension": ".py",
   "mimetype": "text/x-python",
   "name": "python",
   "nbconvert_exporter": "python",
   "pygments_lexer": "ipython3",
   "version": "3.10.2"
  }
 },
 "nbformat": 4,
 "nbformat_minor": 2
}
