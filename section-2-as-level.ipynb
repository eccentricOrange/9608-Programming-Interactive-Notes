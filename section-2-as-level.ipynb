{
 "cells": [
  {
   "cell_type": "markdown",
   "metadata": {},
   "source": [
    "# 0: Introduction\n",
    "Welcome to this course on Programming and Problem-solving! It exists mainly because my own A Level Computer Science textbook turned out to be rather boring. I'm not sure I can solve that problem for most people, but I'll give it a shot.\n",
    "\n",
    "Presumably, we learn software programming to ~~learn about problem-solving, develop logical reason skills, and develop a professionally useful skillset~~ get a computer to do whatever the heck we want it to. If a computer science course can't acheive that, I'm out; and so should you be if it doesn't meet *your* goals (including this Notebook, but in that case, please tell how I can improve it).\n",
    "\n",
    "Having said so, there are genuinely interesting things to do here: mysteries to solve, an oppurtunity for you to use your creativity, and be expressive about your styles and preferences. I hope that you can walk away from this (and your books and teachers and classes) with some curiousity towards and, hopefully, a little love and appreciation about this new set of tools."
   ]
  },
  {
   "cell_type": "markdown",
   "metadata": {},
   "source": [
    "## First, some housekeeping!\n",
    "\n",
    "#### Reading someone else's code is the worst thing in the world\n",
    "This is a running joke among programmers, but it has a grain of truth. When you write something, you have a certain viewpoint on it that makes it all obvious to you. But not to a stranger. To some extent, by having standards and conventions, we alleviate this problem. However, I still find it weirdly difficult to read a piece of code than to write one—the same is true of mathematical proofs and the like.\n",
    "\n",
    "To help you there, I'll do my best to group code into small chunks and provide high-level comments that summarise stuff, but I'll need some intellectual investment from your side too (not a lot, though).\n",
    "\n",
    "#### Attitude and other \"getting started\" advice\n",
    "As it turns out, the folks who manage the [r/learnprogramming](https://www.reddit.com/r/learnprogramming/) subreddit have done a better job than I can do. So take a look at their [FAQ \\(Getting Started\\)](https://www.reddit.com/r/learnprogramming/wiki/faq#wiki_getting_started). If you're feeling up for it, go ahead and read the next few questions too.\n",
    "\n",
    "The rest of whatever follows in this Notebook is actual content. Oh did I mention [Jupyter Notebooks](https://jupyter.org/) before? They're the environment we're in right now, and it lets me write stuff in English alongside stuff in programming languages. For the most part you don't have to worry about that, and I'll direct you verbosely through anything you need to do. But if you are interested in playing around more with it, I've made another Notebook about Notebooks that will also take you to their official resources.\n",
    "\n",
    "&nbsp;\n",
    "\n",
    "Onto the good stuff!"
   ]
  },
  {
   "cell_type": "markdown",
   "metadata": {},
   "source": [
    "## Logic?\n",
    "A lot of people think that computer science, science, and math are subjects where you need to use a lot of logic.\n",
    "\n",
    "Upon [looking that up on Google](https://www.google.com/search?q=what+is+logic), I found the following:\n",
    "> 1. reasoning conducted or assessed according to strict principles of validity.\n",
    "> 2. a system or set of principles underlying the arrangements of elements in a computer or electronic device so as to perform a specified task.\n",
    "\n",
    "As far as I can tell, the first definition is good for [logic puzzles](https://youtube.com/playlist?list=PLJicmE8fK0EiFRt1Hm5a_7SJFaikIFW30) and detective-work. We'll be doing a fair bit of that.\n",
    "\n",
    "The second one though...really gets me excited. It really captures the essence of programming (introductory programming anyway). What we're going to do is essentially learn about some of these \"set\\[s\\] of principles\", so that you can \"perform a specified task.\""
   ]
  },
  {
   "cell_type": "markdown",
   "metadata": {},
   "source": [
    "## Yes, logic\n",
    "What about general people, though? What do we usually mean by saying \"something is logical\"? Well, one thing we might agree on is that stuff follows from other, well-established, stuff.\n",
    "\n",
    "Think about the following statements:\n",
    "\n",
    "1. You should eat healthy meals.\n",
    "2. Balanced meals are healthy.\n",
    "\n",
    "So, **logically:**\n",
    "\n",
    "3. You should eat balanced meals.\n",
    "\n",
    "It's an obvious conclusion, right? Statement 3 logically follows from statements 1 and 2."
   ]
  },
  {
   "cell_type": "markdown",
   "metadata": {},
   "source": [
    "## Getting a computer to do logical work\n",
    "Let's see if our computer agrees with our logic. I'll tell it these two statements and then ask it for a conclusion.\n",
    "\n",
    "The cell below is called a \"code\" cell. Whatever you (or I) type in there will be \"told\" to the computer. The way you do that is you select the cell (just click on it once), and press **Ctrl** + **Enter** (or **Cmd** + **Return**).\n",
    "\n",
    "So go ahead and run it! See whether our computer agrees. If it does, this could be your first program! (I mean, I wrote it...but you are still interacting with it!!)"
   ]
  },
  {
   "cell_type": "code",
   "execution_count": null,
   "metadata": {},
   "outputs": [],
   "source": [
    "1. I should eat healthy meals.\n",
    "2. Balanced meals are healthy.\n",
    "\n",
    "So, should I eat balanced meals?"
   ]
  },
  {
   "cell_type": "markdown",
   "metadata": {},
   "source": [
    "## :(\n",
    "That was a weird output! We didn't get an answer, instead the computer said something like this:\n",
    "\n",
    "> ```py\n",
    "> Input In [1]\n",
    ">     1. I should eat healthy meals.\n",
    ">        ^\n",
    "> SyntaxError: invalid syntax\n",
    "> ```\n",
    "\n",
    "What's syntax? [Acccording to Google](https://www.google.com/search?q=what+is+syntax),\n",
    "> 1. the arrangement of words and phrases to create well-formed sentences in a language.\n",
    "> 2. the structure of statements in a computer language.\n",
    "\n",
    "So it's ironic that the computer forgot to put a space in between `SyntaxError` and then complained about syntax and strucutre. Or did it forget?"
   ]
  },
  {
   "cell_type": "markdown",
   "metadata": {},
   "source": [
    "## Low-level languages\n",
    "Well, it turns out, you and I understand English (and/or French, Hindi, Russian, whatever else you know). A computer doesn't.\n",
    "\n",
    "What it understand probably looks a little like this:\n",
    "```hex\n",
    "55\n",
    "48 89 E5\n",
    "B8 00 00 00 00\n",
    "5D\n",
    "C3\n",
    "66 2E 0F 1F 84 00 00 00 00 00\n",
    "0F 1F 44 00 00\n",
    "```\n",
    "\n",
    "Okay, that's wayyy too cryptic for us! But this how people coded back in the day. This is [machine code](https://simple.wikipedia.org/wiki/Machine_code), and it's expressed here in a number system called [hexademical](https://simple.wikipedia.org/wiki/Hexadecimal) (the Base16 thing, with 0–9 and A–F). This stuff can get really really complex. Not only do you have to know what a particular hexadecimal value means, but you also need a thorough understanding of computer memory and architecture. Today, only some very experienced engineers ever use hexadecimal.\n",
    "\n",
    "As computers improved over the years though, we realised we could alleviate some stress off of humans.\n",
    "\n",
    "So we made this:\n",
    "```x86\n",
    "main:\n",
    "        push    rbp\n",
    "        mov     rbp, rsp\n",
    "        mov     eax, 0\n",
    "        pop     rbp\n",
    "        ret\n",
    "```\n",
    "\n",
    "It's still cryptic. But it's arguably a better cryptic. In general, this is called [assembly language](https://simple.wikipedia.org/wiki/Assembly_language). When the CPU on a computer does something, it follows these instructions. In particular, this is in a \"flavour\" called `x86_64`. This means that it'll run on an Intel 32-bit (x86) or 64-bit (x64) CPU. The resons 32 bits correspond to the number 86 but 64-bit is 64 itself are [pure history and convention](https://stackoverflow.com/a/29974471/10907280), so deal with it. This is still pretty darn complex. Assembly language is sometimes used in places with very tight constraints (on things like me memory and CPU time).\n",
    "\n",
    "I claimed that it's a better cryptic. Why? Well, we see some English-ish words, like `main`, `push`, `pop` etc. So, we might be able to guess what this block does. Do you want to take a shot at it?"
   ]
  },
  {
   "cell_type": "markdown",
   "metadata": {},
   "source": [
    "## High-level languages\n",
    "Once again, as computers got better, we realised that we could offload more of the **translation** work to computers. Between 1979, [Bjarne Stroustrup created the language C++](https://www.youtube.com/watch?v=MNeX4EGtR5Y). Our program from the previous cell would look a little like this in C++:\n",
    "\n",
    "```c++\n",
    "int main() {\n",
    "    2 == 3;\n",
    "}\n",
    "```\n",
    "\n",
    "You can probably tell now that it's doing *something* with the numbers 2 and 3, and that's inside *something* called `main`. For now, don't worry about what `int` means, the weird assortment of brackets, or the fact that I've written an equals sign twice (`==`). I *will* tell you that this is doing a **logical operation**, but more on that later.\n",
    "\n",
    "Machine code and assembly are classified as [low-level languages](https://www.bbc.co.uk/bitesize/guides/z4cck2p/revision/2), while languages like C++ are [high-level langauges](https://www.bbc.co.uk/bitesize/guides/z4cck2p/revision/1). In general, the \"lower level\" you go, the closer you are to working with \"bare metal\" (doing physics without abstractions like languages), and the \"higer level\" you go, you're closer to human-readable languages.\n",
    "\n",
    "Today, many popular \"higher\" level languages exist, like Java, JavaScript, C# etc. We'll use one called Python. It's rather interesting name comes from a comedy show. [From the language's official website](https://docs.python.org/3/faq/general.html#why-is-it-called-python):\n",
    "\n",
    "> When he began implementing Python, Guido van Rossum was also reading the published scripts from “Monty Python’s Flying Circus”, a BBC comedy series from the 1970s. Van Rossum thought he needed a name that was short, unique, and slightly mysterious, so he decided to call the language Python.\n",
    "\n",
    "In Python, our program from above would look like this:\n",
    "\n",
    "```python\n",
    "2 == 3\n",
    "```\n",
    "\n",
    "Neat, isn't it? No funky brackets or semicolons, and no weird words like `int` and `main`.\n",
    "\n",
    "In fact, remember our previous \"program\" that gave us a `SyntaxError` without a space? Well, over there, the computer was expecting a program written in Python, not English. Our one-line program with 2 and 3 is a valid Python program. So I'll make it a Python cell below, and you can execute it! (remember **Ctrl** + **Enter** or **Cmd** + **Return**?)"
   ]
  },
  {
   "cell_type": "code",
   "execution_count": null,
   "metadata": {},
   "outputs": [],
   "source": [
    "2 == 3"
   ]
  },
  {
   "cell_type": "markdown",
   "metadata": {},
   "source": [
    "## Analysing the output\n",
    "If all worked okay, you should have seen a new line appear with a single word: `False`\n",
    "\n",
    "Congratulations then, on running your first program! By the way, you can edit that code and try something else on your own too. To do so, click the cell and press **Enter** (or **Return**) once. Once you're done with your edits, run it the way you ran it last time.\n",
    "\n",
    "Can you finally figure out what the program does? It is a **comparision** between 2 and 3. We're essentially asking the question \"is 2 equal to 3?\" and the equality operator `==` represents this comparision. As for why they're two equals signs...we'll discuss a little later.\n",
    "\n",
    "This is an example of a **logical operator**. Just so that you can convince yourself that this is indeed checking for equality, go ahead and replace the `3` above with a `2`, and then run it again (or just run the one below, with different but identical values)."
   ]
  },
  {
   "cell_type": "code",
   "execution_count": null,
   "metadata": {},
   "outputs": [],
   "source": [
    "1023 == 1023"
   ]
  },
  {
   "cell_type": "markdown",
   "metadata": {},
   "source": [
    "## When would this not work?\n",
    "What do you think would have happened if you ran C++ equivalent instead? Well, I can't do that here for you since this notebook supports only one language at a time (and we're going to use Python). I can, of course, show you code in other languages, but can't run it here. I'll upload all the programs from this notebook into a separate folder with instructions on how to run them.\n",
    "\n",
    "But for the following code, I can just tell you the output.\n",
    "\n",
    "```c++\n",
    "int main() {\n",
    "    2 == 3;\n",
    "}\n",
    "```\n",
    "\n",
    "You'd see nothing. No `False`, no `SyntaxError`, nothing. Why is that, when we saw an output for Python?"
   ]
  },
  {
   "cell_type": "markdown",
   "metadata": {},
   "source": [
    "## Ways to translate a language\n",
    "Part of it has to do with how Python and C++ are \"translated\" into machine code.\n",
    "\n",
    "Code written in Python is usually **interpreted**. This means that the computer looks at a line of code, converts it to machine code, and immedeatly runs it. It looks at the next line after that. In essence, that allows Python to be run in a [Read–eval–print loop (REPL)](https://www.digitalocean.com/community/tutorials/what-is-repl) environment. What does that mean? You can give the computer one instruction at a time (read), let it run (evaluate), see its output (print), and then give the next one (loop)—an \"interactive\" environment.\n",
    "\n",
    "Code written in C++ is usually **compiled**. In this case, the computer would convert the entirety of the program into machine code at once, and give it to you. Such a compiled program is called an **executable** (denoted by `.exe` on Windows). There usually no REPL environments for such languages.\n",
    "\n",
    "The \"cells\" in this Notebook behave like mini, slightly weird, REPL environments. So when we asked it to execute the statement `2 == 3`, the computer ran it and came up with a statement `False`. We describe this using the following terminology: `2 == 3` **returned** `False`. When a piece of code does something, and hands you a value, that action is called returning. We didn't tell the computer what to do with this returned `False` value (such as remembering it for the future), so it went with its default behaviour and just handed it back to us on the screen.\n",
    "\n",
    "Okay, truth be told, there's more to returning than passing values around, and the above description very incomplete, but it's a good rule of thumb for getting code to actually do something, and I promise to resolve this lie before long.\n",
    "\n",
    "You can [read more about different types of translators here](https://www.bbc.co.uk/bitesize/guides/z4cck2p/revision/3)."
   ]
  },
  {
   "cell_type": "markdown",
   "metadata": {},
   "source": [
    "## So how do we tell a computer to \"output\" something?\n",
    "Many tutorials start by adressing this topic, and the [convention](https://stackoverflow.com/questions/602237/where-does-hello-world-come-from) is to output the message \"Hello, World!\" or some variation thereof. But we already have our comparision of 2 and 3, so let's try and output that.\n",
    "\n",
    "If we attempt to output the result of `2 == 3`, our programs change like so:\n",
    "\n",
    "#### Python\n",
    "\n",
    "```python\n",
    "print(2 == 3)\n",
    "```\n",
    "\n",
    "#### C++\n",
    "```c++\n",
    "#include <iostream>\n",
    "\n",
    "int main() {\n",
    "    printf(\"%i\", 2 == 3);\n",
    "}\n",
    "```\n",
    "\n",
    "&nbsp;\n",
    "\n",
    "You can run the Python program below and see its output. For the C++ program, I'll just tell you:\n",
    "\n",
    "```\n",
    "0\n",
    "```"
   ]
  },
  {
   "cell_type": "code",
   "execution_count": null,
   "metadata": {},
   "outputs": [],
   "source": [
    "print(2 == 3)"
   ]
  }
 ],
 "metadata": {
  "celltoolbar": "Tags",
  "interpreter": {
   "hash": "25d6524ab9e6f0de3d3b5e26bdde56efe3537879988301c2ae48b46264444a64"
  },
  "kernelspec": {
   "display_name": "Python 3 (ipykernel)",
   "language": "python",
   "name": "python3"
  },
  "language_info": {
   "codemirror_mode": {
    "name": "ipython",
    "version": 3
   },
   "file_extension": ".py",
   "mimetype": "text/x-python",
   "name": "python",
   "nbconvert_exporter": "python",
   "pygments_lexer": "ipython3",
   "version": "3.10.2"
  }
 },
 "nbformat": 4,
 "nbformat_minor": 2
}
