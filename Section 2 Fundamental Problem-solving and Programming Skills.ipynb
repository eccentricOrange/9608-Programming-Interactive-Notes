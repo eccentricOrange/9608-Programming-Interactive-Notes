{
 "cells": [
  {
   "cell_type": "markdown",
   "metadata": {},
   "source": [
    "# 2.1: Algorithm design and problem-solving"
   ]
  },
  {
   "cell_type": "markdown",
   "metadata": {},
   "source": [
    "## 2.1.1: Algorithms\n",
    "An <b>algorithm</b> is a solution to a problem expressed as a sequence of\n",
    "defined steps.\n",
    "\n",
    "An algorithm may be documented using any of the following:\n",
    "* Structured English\n",
    "* Flowcharts\n",
    "* Pseudocode"
   ]
  },
  {
   "cell_type": "markdown",
   "metadata": {},
   "source": [
    "### 1: Identifier tables\n",
    "An <b>identifier table</b> should be used in planning. It should list the identifier, its datatype and its purpose.\n",
    "\n",
    "| Identifier | Datatype | Purpose |\n",
    "| :-- | :-- | :-- |\n",
    "| `_pi` | `REAL` | constant pi = 3.1415 |\n",
    "| `radius` | `REAL` | variable for user input radius |\n",
    "| `area` | `REAL` | variable for the area of the circle |"
   ]
  },
  {
   "cell_type": "markdown",
   "metadata": {},
   "source": [
    "### 2: Basic constructs\n",
    "Many algorithms consist of the four basic constructs of programming.\n",
    "* **Assignment:** storing a value, either a <u>literal</u> value or an <u>expression</u> that returns a value, in a variable.\n",
    "* **Sequence:** program statements may execute consecutively, or in parallel alongside eachother. The sequence need not be known ahead of time and can be determined programmatically.\n",
    "* **Selection:** programs can determine which statements are to be execute based on conditions (using `IF` and `CASE` structures, for example).\n",
    "* **Repetition:** statements in a program can be repeated either a fixed number of times, or based on a condition.\n",
    "\n",
    "Simple algorithms follow the **input-process-output cycle** at various places, i.e., they take in an input, perform some processing on it, and then return it back. For example, consider an algorithm which takes in the radius `r` of a circle as its input. It then multiplies the value with `2 _pi` (this is the processing). Finally it outputs the product `2 _pi r` (the equation $2 \\pi r$) which is the length of the circumference of the circle."
   ]
  },
  {
   "cell_type": "markdown",
   "metadata": {},
   "source": [
    "### 3: Decomposition, stepwise refinement and pattern recognition\n",
    "**Decomposition** is the process of breaking down a complex process into smaller parts. The process can be broken down repeatedly until the sub-tasks can be performed by small and manageable **procedures** or **functions**; this process is called **stepwise refinement**. Throughout this process, **pattern recognition** is used to identify those parts which are similar and could use the same solution."
   ]
  },
  {
   "cell_type": "markdown",
   "metadata": {},
   "source": [
    "### 4: Logic statements\n",
    "Conditions are often specified using Boolean logic statements, which are expressions that return a `TRUE` or `FALSE`. Logic statements are essential because they let a program control execution (using loops, selection statements and conditional loops)."
   ]
  },
  {
   "cell_type": "markdown",
   "metadata": {},
   "source": [
    "# 2.3: Programming"
   ]
  },
  {
   "cell_type": "markdown",
   "metadata": {},
   "source": [
    "## 2.2.1: Data types\n",
    "Some examples of the **atomic** data types commonly used in program are given below."
   ]
  },
  {
   "cell_type": "code",
   "execution_count": null,
   "metadata": {},
   "outputs": [],
   "source": [
    "UnsignedWholeNumber = 32\n",
    "SignedWholeNumber = -128\n",
    "RealNumber = 3.1415\n",
    "Boolean = True\n",
    "Character = 'T'\n",
    "String = \"Hello World!\""
   ]
  },
  {
   "cell_type": "markdown",
   "metadata": {},
   "source": [
    "## 2.3.1: Basics"
   ]
  },
  {
   "cell_type": "markdown",
   "metadata": {},
   "source": [
    "### 1: Declaration of variables and constants\n",
    "All variables and constants used in a program must be declared explicitly. In Python, it is usual to write the data type using a **comment**, as declarations without the name of the type are legal."
   ]
  },
  {
   "cell_type": "code",
   "execution_count": null,
   "metadata": {},
   "outputs": [],
   "source": [
    "#### Declare and initialize a variable\n",
    "counter = 0     # INTEGER\n",
    "\n",
    "### Declare and initialize a constant\n",
    "_pi = 22 / 7    # REAL"
   ]
  },
  {
   "cell_type": "markdown",
   "metadata": {},
   "source": [
    "### 2: Perform input and output (interact with the user)\n",
    "It is often essential for programs to interact with the user. There are two basic ways this can be done: by asking for a value using the `input()` function, and giving an output using the `print()` function.\n",
    "\n",
    "When taking an input from a user, it is usual to force **type conversion**, i.e., convert the `STRING` data **returned** by the `input()` function into whatever type is required. Suppose a user enters the number \"five hundred and thirty seven\": the `input()` statement returns a `STRING` that has the characters `'5'`, `'3'` and `'7'`, not the mathematical value $(5 \\times 100) + (3 \\times 10) + (7 \\times 1) = 537$ - this string cannot be processed mathematically. In general, any value (and not just from `input()`) can be converted to another datatype. See the general format below:\n",
    "\n",
    "```python\n",
    "# Input a string (no conversion)\n",
    "identifier = input(\"prompt message: \")\n",
    "\n",
    "# Input a different value (convert)\n",
    "identifier = datatype(input(\"prompt message: \"))\n",
    "```"
   ]
  },
  {
   "cell_type": "code",
   "execution_count": null,
   "metadata": {},
   "outputs": [],
   "source": [
    "### Input a value from a user\n",
    "name = input(\"Enter your name: \")       # python allows the prompt and the\n",
    "                                        # input statements to be handled in\n",
    "                                        # one line\n",
    "\n",
    "### Output a value\n",
    "print (\"Your name is\", name)\n",
    "\n",
    "### Input a numeric value\n",
    "base = float(input(\"\\nEnter the number you want to square: \"))  # the int() command has been used to force\n",
    "                                                                # type conversion to INTEGER; STRING\n",
    "                                                                # type would be considered otherwise\n",
    "square = base ** 2.0\n",
    "\n",
    "### Output a value\n",
    "print(\"The square of\", base, \"is\", square)"
   ]
  },
  {
   "cell_type": "markdown",
   "metadata": {},
   "source": [
    "## 2.3.3: Selection\n",
    "Selection statements are almost solely responsible for allowing programmers to write any \"smart\" programs. They allow statements to be executed selectively, based on a condition, or a set thereof."
   ]
  },
  {
   "cell_type": "markdown",
   "metadata": {},
   "source": [
    "### 1: If-else statements\n",
    "In its simplest form, an `IF` construct may be thought of as a \"switch\" that determines whether or not a block of code gets executed. Consider that a block of program code called `trueStatements` is placed in the `IF` section of the statement. An **expression** `condition()` that returns a `BOOLEAN` value is used to determine how the construct behaves. Then `trueStatements` are executed only if `condition()` evaluates to `TRUE`. For example, a child is punished only if they conduct mischief; their parents just ignore the concept of punishments otherwise.\n",
    "\n",
    "An extremely useful property is the optional `ELSE` construct. This contains a block of code (let's call it `falseStatements`) that would execute *instead of `trueStatements`* if `condition()` evaluated to `FALSE`. Continuing the analogy with particularly generous parents, the child would be rewarded every time they do *not* conduct mischief but punished otherwise.\n",
    "\n",
    "<u>NOTE:</u> It is possible to **nest** `IF ELSE` statements, i.e., execute one inside another. This is also true of most common constructs."
   ]
  },
  {
   "cell_type": "code",
   "execution_count": null,
   "metadata": {},
   "outputs": [],
   "source": [
    "### Input an integer from the user\n",
    "integer = int(input(\"Enter an integer: \"))\n",
    "\n",
    "### Compare the integer with 1023\n",
    "if integer == 1023:\n",
    "    ## Block of statements to execute if the condition is true\n",
    "    print (\"You entered the largest 10-bit unsigned integer!!\")\n",
    "\n",
    "    ## Nothing happens if the integer was not 1023 (i.e., the condition was false)"
   ]
  },
  {
   "cell_type": "code",
   "execution_count": null,
   "metadata": {},
   "outputs": [],
   "source": [
    "### Input the user's favourite subject\n",
    "favouriteSubject = input(\"\\nEnter your favourite subject: \")\n",
    "\n",
    "### Compare the favourite subject with Computer Science\n",
    "if favouriteSubject == \"Computer Science\":\n",
    "    ## Block of statements to execute if the condition is true\n",
    "    print (\":)\")\n",
    "\n",
    "else:\n",
    "    ## Block of statements to execute if the condition is false\n",
    "    print (\":(\")"
   ]
  },
  {
   "cell_type": "code",
   "execution_count": null,
   "metadata": {},
   "outputs": [],
   "source": [
    "### Input the user's favourite subject\n",
    "favouriteSubject = input(\"\\nEnter your favourite subject: \")\n",
    "\n",
    "### Compare the favourite subject with Computer Science\n",
    "if favouriteSubject == \"Computer Science\":\n",
    "    ## Block of statements to execute if the condition is true\n",
    "    print (\":)\")\n",
    "\n",
    "else:\n",
    "    ## Block of statements to execute if the condition is false\n",
    "    ## This just happens to be another if-else statement\n",
    "\n",
    "    ## The nested condition here uses the same variable as the parent\n",
    "    ## if condition, but this is not at all necessary; both the if\n",
    "    ## conditions are completely independent.\n",
    "    if favouriteSubject == \"Further Mathematics\":\n",
    "        ## Block of statements to execute if the nested condition is true\n",
    "        print (\"You may enjoy trying out Computer Science.\")\n",
    "    \n",
    "    else:\n",
    "        ## Block of statements to execute if the nested condition is false\n",
    "        print (\":(\")"
   ]
  },
  {
   "cell_type": "markdown",
   "metadata": {},
   "source": [
    "### 2: Case statements\n",
    "These also let instructions to be executed selectively, based on the value of an expression (let's call it `caseExpression()`). However, the `caseExpression()` can return any **atomic data type** and not just Boolean. The programmer must allocate different values for each value of `caseExpression()` they can anticipate; each value and its corresponding statement is called a **case**. For example, a sub-routine returns the name of a weekday given its number (where Monday is 1). `CASE` structures allow an `OTHERWISE` case to be defined to handle unexpected values (day number 16, for example).\n",
    "\n",
    "Python 3 does not natively support `CASE` structures, but an extension of the if-else statements allows case structures to be implemented. Apart from the Boolean `if` and `else` statements, Python supports `elif` statements (this is equivalent to `else if () { }` in some languages like C++). Using this approach, each `elif` and a single `if` statement form the cases the programmer must explicitly program; the `else` statement forms the `OTHERWISE` case the program needn't care to program."
   ]
  },
  {
   "cell_type": "code",
   "execution_count": null,
   "metadata": {},
   "outputs": [],
   "source": [
    "### Input a number for the day of the week\n",
    "dayNumber = int(input(\"Enter the number of the day: \"))\n",
    "\n",
    "\n",
    "### Use if-elif-else statements to output the name of the day.\n",
    "  # The statements from dayNumber = 1 to dayNumber = 7 correspond\n",
    "  # to one weekday each.\n",
    "if dayNumber == 1:\n",
    "    print(\"Monday\")\n",
    "\n",
    "elif dayNumber == 2:\n",
    "    print(\"Tuesday\")\n",
    "\n",
    "elif dayNumber == 3:\n",
    "    print(\"Wednesday\")\n",
    "\n",
    "elif dayNumber == 4:\n",
    "    print(\"Thursday\")\n",
    "\n",
    "elif dayNumber == 5:\n",
    "    print(\"Friday\")\n",
    "\n",
    "elif dayNumber == 6:\n",
    "    print(\"Saturday\")\n",
    "\n",
    "elif dayNumber == 7:\n",
    "    print(\"Sunday\")\n",
    "\n",
    "### This is used to handle an erronous value\n",
    "else:\n",
    "    print(\"The value\", dayNumber, \"does not correspond to a weekday.\")"
   ]
  },
  {
   "cell_type": "markdown",
   "metadata": {},
   "source": [
    "\n",
    "## 2.3.4: Iteration\n",
    "**Loops** allow blocks of code to be repeated, and are another crucial construct. There are two basic categories of loops:\n",
    "\n",
    "1. <u>Count controlled loops</u>: the number of **iterations** that have to occur has to be specified in advance. A common example is a `FOR` loop. Usually, a variable called a **counter** is declared with some initial value (often 0), and with each **pass** of the loop, some mathematical operation is performed on it (often adding 1, aka **incrementing**); if a constant value is added/subtracted, the value is called the **step**. The value of the counter can be accessed like any other identifier. This readily available number, that goes through a pre-determined number of values, makes `FOR` loops a natural choice in many applications involving **arrays**. A `FOR` loop terminates when some condition, related to the counter, is met. For example, a loop to print out the marks students of a class with 25 students scored, would start with the counter set to 0, increment it after each pass (after printing a mark) and then terminate when the counter is equal to 24.\n",
    "\n",
    "2. <u> Condition based loops</u>: the number of times a loop executes need not be known in advance. Instead, the loop would terminate when some **condition** is met. The condition must be an expression that evaluates to a Boolean value. A **pre-condition loop** (a `WHILE` loop) runs while the expression evaluates to `TRUE` and terminates as soon as it evaluates to `FALSE`. A **post-condition loop** (a `REPEAT UNTIL` loop) until the expression evaluates to `TRUE`. As their names suggest, the condition is checked *before* the first iteration in a pre-condition loop, and it is possible that the loop *may not execute at all* if the condition is initially `FALSE`; the condition is checked *after* the first iteration in a post-condition loop, and it *must execute at least once*.\n",
    "\n",
    "\n",
    "Python 3 does not support post-condition loops; `WHILE` loops are the only condition loops that can be used.\n",
    "\n",
    "In Python 3, the `for` loop does not obey a counter. Instead, `for` loops always step through the elements of a list, and it is possible to avoid manually indexing an array if all of its contents have to accessed in the order they are available: the identifier previously referred to as a counter would just return the array element corresponding to the current pass. Having written so, Python 3 does offer a function `range(n)` that returns a list with `n` consecutive integers starting at zero - a `for` loop can use this to control its iterations. `range()` allows the initial value, final value and step to be controlled, and the it is encouraged to explore this."
   ]
  },
  {
   "cell_type": "code",
   "execution_count": null,
   "metadata": {},
   "outputs": [],
   "source": [
    "### Output ten consecutive integers using a \"normal\" for loop\n",
    "for counter in range(10):       # we can call the identifier counter\n",
    "                                # as it behaves like a counter in this case\n",
    "    print (counter, end = ' ')"
   ]
  },
  {
   "cell_type": "code",
   "execution_count": null,
   "metadata": {},
   "outputs": [],
   "source": [
    "print (\"\")  # print a blank line to tidy things up\n",
    "\n",
    "### Traverse an array using a for loop\n",
    "Fruits = [\"Orange\", \"Papaya\", \"Apple\", \"Banana\", \"Plum\"]    # declare a list\n",
    "\n",
    "for fruit in Fruits:            # initialize the loop to step through each fruit\n",
    "    print (fruit, end = ' ')\n",
    "\n",
    "print (\"\")      # print a blank line for neatness\n",
    "\n",
    "### It is also possible to use a counter to traverse an array\n",
    "Fruits = [\"Orange\", \"Papaya\", \"Apple\", \"Banana\", \"Plum\"]    # declare a list\n",
    "\n",
    "for counter in range(5):                # initialize the loop to step through each fruit\n",
    "    print (Fruits[counter], end = ' ')  # now we must manually index the array"
   ]
  },
  {
   "cell_type": "code",
   "execution_count": null,
   "metadata": {},
   "outputs": [],
   "source": [
    "### Use a while loop to make sure a user enters a given value\n",
    "### The loop would not terminate until you enter Computer Science.\n",
    "### This is a technique called validation, and is often used\n",
    "  # to check whether or not a value makes sense.\n",
    "while favouriteSubject != \"Computer Science\":\n",
    "    favouriteSubject = input(\"Enter your favourite subject: \")\n",
    "\n",
    "print(\":)\\n\")\n",
    "\n",
    "\n",
    "\n",
    "### Make the validation more friendly\n",
    "### We are leveraging the property that the loop may not\n",
    "  # execute at all - if the value meets our criteria the first\n",
    "  # time, we don't have to enter the loop\n",
    "favouriteSubject = input(\"Enter your favourite subject: \")\n",
    "\n",
    "while favouriteSubject != \"Computer Science\":\n",
    "    print (\"\\nYou are lying about your favourite subject! Try again!\")\n",
    "    favouriteSubject = input(\"Enter your favourite subject again: \")\n",
    "\n",
    "print(\":)\\n\")"
   ]
  },
  {
   "cell_type": "markdown",
   "metadata": {},
   "source": [
    "## 2.3.6: Structured programming\n",
    "Properly structured programs have benefits other than readability: they often execute more efficiently and **subroutines** are the backbone of **decomposition**. A subroutine can be thought of as a shortcut to a block of statements. If a block of statements defined inside a subroutine have to be executed, they don't have to written in their entirety; instead, they can be **called** using a single line of code. Subroutines allow code to be reused very efficiently (and allow lazy programmers  to exist) as a subroutine can be called in several places without having to rewrite in each instance. There are two basic concepts that determine how a subroutine is designed:\n",
    "\n",
    "* <u>Arguments</u>: It is possible to make a routine run on the basis of a value **passed** into it. For example, for a **function** that squares a number $x$ and returns $x^2$, $x$ is the argument that is passed into it. The function *cannot run* if this is not provided. In contrast, a subroutine that returns a random number, always between 0 and 1, needn't have any arguments.\n",
    "* <u>Return value(s)</u>: A **function** can **return** a value after execution. Continuing the example of $x^2$ from above, the function can return the value to the parent construct. This means that if it is placed inside another subroutine (such as the `print()` statement), the parent routine can access the value (the `print()` statement can print it); or if the function is assigned to an *identifier*, the value will be stored in that identifier. In contrast, a **procedure** does not return anything - it cannot be assigned to an identifier or placed inside a construct that expects a value. For example, the squaring subroutine might simply print the value out to the user - in this case it needn't return anything.\n",
    "\n",
    "There are two types of subroutines: a `PROCEDURE` and a `FUNCTION`. In both cases, the programmer must decide whether or not any arguments are required. The only difference between them is of returning values: a function *must return a value* and a procedure *cannot return a value*. While the distinction between a procedure and a function can be crucial when planning a project, they are defined almost identically in Python 3. If a subroutine has the `return` keyword to return a value, it is a function; else it is a procedure. Specifying arguments/**parameters** is similar too - if a parameter is specified in the **declaration**, the subroutine will accept arguments; else it will not.\n",
    "\n",
    "A **library** (called a **module** in Python) often allows you to use a number of pre-defined subroutines. Python ships with many modules built in (such as `array`, `time`, `random`, `pickle` - which you may have already used) but many, many more can be [installed using a command-line tool](https://packaging.python.org/tutorials/installing-packages/). Any time the `import` keyword is used, a module is being added to a program."
   ]
  },
  {
   "cell_type": "code",
   "execution_count": null,
   "metadata": {},
   "outputs": [],
   "source": [
    "### Declare a procedure that prints a greeting\n",
    "def greet():    # the def keyword is used to declare any subroutine\n",
    "                # the round brackets must be used with a subroutine\n",
    "    print (\"Hello World!\")\n",
    "    print (\"Welcome to my first subroutine!\")\n",
    "    print (\"It is boring, but the hope is that you enjoyed learning about it.\")\n",
    "\n",
    "### Run the procedure\n",
    "greet()         # the name just has to be typed with the round brackets"
   ]
  },
  {
   "cell_type": "code",
   "execution_count": null,
   "metadata": {},
   "outputs": [],
   "source": [
    "### Declare a function\n",
    "def returnPi():\n",
    "    _pi = 22.0 / 7.0\n",
    "    return _pi  # the return keyword is used to pass a value\n",
    "                # to the parent construct\n",
    "\n",
    "### Run the function and pass its output to a print statement\n",
    "print (\"This is the value of pi (approx):\", returnPi())  # the function behaves as a variable"
   ]
  },
  {
   "cell_type": "code",
   "execution_count": null,
   "metadata": {},
   "outputs": [],
   "source": [
    "### Declare a procedure with an argument\n",
    "def greetName(name):    # the identifier in the round brackets\n",
    "                        # will be the argument(s)\n",
    "    print (\"Hello from \" + name + \"!\")\n",
    "    print (\"Welcome to your first subroutine!\")\n",
    "    print (\"It is boring, but the hope is that you enjoyed learning about it.\")\n",
    "\n",
    "### Run the procedure\n",
    "greetName(\"Guido van Rossum\")   # the value of the argument is inside the round brackets"
   ]
  },
  {
   "cell_type": "code",
   "execution_count": null,
   "metadata": {},
   "outputs": [],
   "source": [
    "### Declare a function with an argument\n",
    "def areaCircle(radius):     # the identifier in the round brackets\n",
    "                            # will be the argument(s)\n",
    "    return (22.0 / 7.0) * (radius ** 2.0)   # the evaluation of an expression can\n",
    "                                            # be returned directly, without using\n",
    "                                            # an identifier\n",
    "\n",
    "### Run the function and pass its output to a print statement\n",
    "r = float(input(\"Enter the radius for a circle: \"))\n",
    "print (\"The area of a circle of\", r, \"units is\", areaCircle(r), \"square units.\")\n",
    "    # note that the output returned by a function may also be used directly without\n",
    "    # using an identifier"
   ]
  },
  {
   "cell_type": "markdown",
   "metadata": {},
   "source": [
    "## 2.3.5 Built-in functions\n",
    "Besides basic constructs, datatypes, and data structures most programming languages also have multiple **functions** built into them. Using them can not only greatly accelerate development and execution speed, but also often avoid rather ugly code by not requiring the wheel to be reinvented."
   ]
  },
  {
   "cell_type": "markdown",
   "metadata": {},
   "source": [
    "### 1: Length of an object\n",
    "It is possible to extract the length of an object with a single function (it returns an integer). If a string is passed as the parameter, the number of characters is returned. If a list is passed, the number of elements is returned."
   ]
  },
  {
   "cell_type": "code",
   "execution_count": null,
   "metadata": {},
   "outputs": [],
   "source": [
    "### Get length of a string\n",
    "panagram = \"The quick brown fox jumped over a lazy dog.\"\n",
    "print (len(pangram))\n",
    "\n",
    "### Get the length of a 1D list\n",
    "Fruits = [\"Orange\", \"Papaya\", \"Apple\", \"Banana\", \"Plum\"]\n",
    "print (len(Fruits))\n",
    "\n",
    "### Get the length of a 2D list\n",
    "Marks = [[85, 79, 86], [81, 81, 95], [88, 96, 82], [83, 75, 96], [88, 84, 80]]\n",
    "print (len(Marks))"
   ]
  },
  {
   "cell_type": "markdown",
   "metadata": {},
   "source": [
    "### 2: String manipulation\n",
    "The `STRING` and `CHARACTER` datatypes have numerous applications, beyond handling interaction with the user. Many electronics communicate using strings (for example, a smartphone and a computer connected using USB), and many internal components also communicate with the CPU using strings (for example, the GPS modules in most smartphones output strings formatted using the [NMEA 1083](https://en.wikipedia.org/wiki/NMEA_0183) standard or one of it predecessors). Clearly, the being able to manipulate strings efficiently is an essential skill.\n",
    "\n",
    "It can be helpful to be familiar with some terms and characters that come up frequently in strings, and more can be explored from [W3 Schools](https://www.w3schools.com/python/gloss_python_escape_characters.asp).\n",
    "\n",
    "| Character(s) | Name | Purpose |\n",
    "| :-- | :-- | :-- |\n",
    "| `'\\n'` | newline (ASCII linefeed) | has the effect of inserting a blank line |\n",
    "| `'\\t'` | tab | has the effect of a tab (four spaces in Python 3) |\n",
    "| `'\\b'` | ASCII backspace | deletes the character occurring before it |\n",
    "| `'\\n'` `'\\t'` `' '` | whitespace | characters that do not appear but may have utility in aligning other characters |\n",
    "| | case | capitalization of a string/character |\n",
    "| | uppercase | capital (A, B, C...) |\n",
    "| | lowercase | small/print (a, b, c...) |\n",
    "| | delimiter | a given character used to separate strings; the comma is the delimiter  in a `.csv` file |\n",
    "\n",
    "Python 3 has a variety of functions, and some of the common ones are demonstrated in the cell below. Exploring [more](https://www.w3schools.com/python/python_ref_string.asp) is encouraged."
   ]
  },
  {
   "cell_type": "code",
   "execution_count": null,
   "metadata": {},
   "outputs": [],
   "source": [
    "### Initialize a string to start working with\n",
    "greeting = \"good Day, World!\"\n",
    "\n",
    "### Convert the first character 'g' to uppercase 'G'\n",
    "print (greeting.capitalize())\n",
    "\n",
    "### Invert the case of the string\n",
    "print (greeting.swapcase())\n",
    "\n",
    "### Convert all characters to uppercase, then lowercase\n",
    "print (greeting.upper())\n",
    "print (greeting.lower())"
   ]
  },
  {
   "cell_type": "code",
   "execution_count": null,
   "metadata": {},
   "outputs": [],
   "source": [
    "### Separate words using the new line\n",
    "print (\"\\nEach\\nword\\nappears\\non\\na\\nseparate\\nline\\n\")\n",
    "\n",
    "### Separate words using a tab\n",
    "print (\"Some\\twords\\tappear\\tfurther\\tapart\\tthan\\tothers\\n\")\n",
    "\n",
    "### Split words based on a delimeter automatically\n",
    "  # and extract them into a list\n",
    "fruitsString = \"Orange;Papaya;Apple;Banana;Plum\"    # the delimiter here is the semicolon\n",
    "Fruits = fruitsString.split(';')                    # extract\n",
    "print (Fruits, '\\n')                                      # print to test"
   ]
  },
  {
   "cell_type": "code",
   "execution_count": null,
   "metadata": {},
   "outputs": [],
   "source": [
    "### Declare a string without whitespace\n",
    "  # The length of this string will be observed\n",
    "  # because it is easier to observe that here as\n",
    "  # whitespace characters are not visible by definition\n",
    "testString = \"ABCD\"\n",
    "print(testString)\n",
    "print (len(testString))\n",
    "\n",
    "print (\"\")\n",
    "\n",
    "  # Add whitespace to both ends\n",
    "testString = \"ABCD\"\n",
    "testString = \"     \" + testString + \"   \"\n",
    "print(testString)\n",
    "print(len(testString))\n",
    "\n",
    "print (\"\")\n",
    "\n",
    "  # Trim whitespace on the left side only\n",
    "testString = \"ABCD\"\n",
    "testString = \"     \" + testString + \"   \"\n",
    "print(testString.lstrip())\n",
    "print(len(testString.lstrip()))\n",
    "\n",
    "print (\"\")\n",
    "\n",
    "  # Trim all whitespace\n",
    "testString = \"ABCD\"\n",
    "testString = \"     \" + testString + \"   \"\n",
    "print(testString.strip())\n",
    "print(len(testString.strip()))"
   ]
  },
  {
   "cell_type": "markdown",
   "metadata": {},
   "source": [
    "### 4: Random number generation\n",
    "Many algorithms, such as sorting, should be tested using a sequence of **random numbers**. Computers typically generate **pseudorandom** numbers, which are not strictly random but it is still quite difficult to predict their sequence and they are suitable for testing basic applications. Python 3 has [several functions](https://www.w3schools.com/python/module_random.asp) to generate pseudorandom numbers, but two critical ones from the `random` module will be considered here. A list containing ten random numbers will be created for each function."
   ]
  },
  {
   "cell_type": "code",
   "execution_count": null,
   "metadata": {},
   "outputs": [],
   "source": [
    "### Import the module to generate random numbers\n",
    "import random\n",
    "\n",
    "### Generate and print one random number\n",
    "randomNumber = random.random()  # this generates one random number\n",
    "                                # between 0 and 1\n",
    "\n",
    "print (randomNumber)\n",
    "\n",
    "### Generate and print 10 random numbers\n",
    "randomNumbers = [random.random() for counter in range(10)]\n",
    "print (randomNumbers)"
   ]
  },
  {
   "cell_type": "markdown",
   "metadata": {},
   "source": [
    "### 3: Formatting of numbers\n",
    "It is often necessary to **format** numbers, usually either for presenting them to an end user or for some electronics (as described above). For example, a number may have to be formatted to a specific number of **significant digits**, or be aligned in some direction, or be **padded** (start) with zeros so that its length is fixed - far too many formatting options for all to listed here, but more details can be found at [pyformat.info](https://pyformat.info/#number).\n",
    "\n",
    "In Python 3, numbers (and other data) are formatted using the `.format()` **method**. Consider an example: a message has to be printed to the user, and it must have the value returned by a function formatted into **scientific notation**. The programmer can place curly brackets with an identifier `\"{identifier}\"` within the message, and then follow it by `.format()` - the value(s) are passed to the method as arguments (given below in a generalised form).\n",
    "\n",
    "```Python\n",
    "\"message which has a spot {identifier:format}\".format(value)\n",
    "\"message which has {identifierTwo:format} two spots {identifierOne:format}\".format(identifierOne=valueOne, identifierTwo=valueTwo)\n",
    "```"
   ]
  },
  {
   "cell_type": "code",
   "execution_count": null,
   "metadata": {},
   "outputs": [],
   "source": [
    "### Format one number and print the output\n",
    "print (\"In binary, {number:b} is actually 17.\".format(number = 17))\n",
    "print (\"Although 128 is only three digits long, {number:05} looks like it's 5 digits long.\".format(number = 128))\n",
    "print (\"Here, 300 looks like its aligned to the right.\\n{number:46d}\".format(number = 300))\n",
    "print (\"A binary number (like {number:#010b}, which is {number}) should be written in groups of 8 bits.\".format(number = 17))"
   ]
  },
  {
   "cell_type": "code",
   "execution_count": null,
   "metadata": {},
   "outputs": [],
   "source": [
    "### Import the module to generate random numbers\n",
    "import random\n",
    "\n",
    "### Generate and print one random integer\n",
    "randomNumber = random.randint(0, 9)     # this generates one random integer\n",
    "                                        # between 0 and 9 (which we specified)\n",
    "\n",
    "print (randomNumber)\n",
    "\n",
    "### Generate and print 10 random integers\n",
    "randomNumbers = [random.randint(0, 9) for counter in range(10)]\n",
    "print (randomNumbers)"
   ]
  },
  {
   "cell_type": "markdown",
   "metadata": {},
   "source": [
    "### 5: Character codes\n",
    "Computers use some form of a character **encoding** system, and every character corresponds to a unique number. **UNICODE**, and its **predecessor** ASCII, are most commonly used ones. Python 3 has functions that allow an `INTEGER` to be converted to its corresponding ASCII character, and vice versa."
   ]
  },
  {
   "cell_type": "code",
   "execution_count": null,
   "metadata": {},
   "outputs": [],
   "source": [
    "### Input a word and convert it to ASCII codes\n",
    "word = input(\"Enter a word: \").lower()\n",
    "ASCII_codes = [ord(character) for character in word]\n",
    "print (ASCII_codes)\n",
    "\n",
    "### Convert every letter to uppercase by subtracting 32\n",
    "WORD = [chr(ASCII_code - 32) for ASCII_code in ASCII_codes]\n",
    "print (WORD)"
   ]
  },
  {
   "cell_type": "markdown",
   "metadata": {},
   "source": [
    "# 2.2: Data representation\n",
    "**Data representation** refers to the form in which data is stored, processed, and transmitted."
   ]
  },
  {
   "cell_type": "markdown",
   "metadata": {},
   "source": [
    "## 2.2.2: Arrays\n",
    "Arrays are data structures that allow multiple values of a given datatype to be stored without using multiple identifiers. Each value is stored in a memory location, and this can be accessed using a number, the **index** (written in square brackets `[]`). Arrays are usually **zero-indexed**: the index value of the first element is 0 (and not 1). Consider, for example, an array called `Fruits` which holds the names of fruits to be bought on a particular shopping trip; the syntax to access the element at index `i` we use the syntax `Fruits[i]`. The first element is `Fruits[0]`; the sixth element is `Fruits[5]`; and, in general, the n<sup>th</sup> element is `Fruits[n - 1]`. The **lower bound** of an array is the index of the first element (usually 0), and the upper bound is the index of the last element (usually one less than the total number of elements).\n",
    "\n",
    "In Python, it is usual to use a different type of structure called a **list**. A list is **dynamic** (its length can be changed after it has been initialized) and **mutable** (elements can have different datatypes). However, arrays are **static** (not dynamic) and **immutable**, and we will treat Python lists as arrays.\n",
    "\n",
    "In Python 3, lists in dimensions higher than one behave like nested lists. For example, a 2D list is a list of many 1D lists.\n",
    "\n",
    "The cells below give an introduction to arrays, and some common algorithms (sorting, searching and generating a list of random numbers) used with arrays."
   ]
  },
  {
   "cell_type": "code",
   "execution_count": null,
   "metadata": {},
   "outputs": [],
   "source": [
    "### Declare the array\n",
    "Fruits = []\n",
    "\n",
    "\n",
    "### Add some elements\n",
    "Fruits = [\"Orange\", \"Papaya\", \"Apple\", \"Banana\", \"Plum\"]\n",
    "\n",
    "\n",
    "### Print out the array\n",
    "print (Fruits)\n",
    "\n",
    "\n",
    "### Print out the array in a more readable format\n",
    "\n",
    "# We will use a FOR loop to implement this part of the program. Since\n",
    "# FOR loops have a counter built right into them, they are a natural choice\n",
    "# when working with arrays.\n",
    "\n",
    "print (\"You have to buy these fruits:\", end=' ')\n",
    "\n",
    "for Fruit in Fruits:\n",
    "    print (Fruit, end=\", \")\n",
    "\n",
    "print ('')\n",
    "\n",
    "\n",
    "### Add an element to the array at the end (append)\n",
    "Fruits.append(\"Dragon Fruit\")\n",
    "\n",
    "\n",
    "### Print out the array again to test\n",
    "print (Fruits)"
   ]
  },
  {
   "cell_type": "markdown",
   "metadata": {},
   "source": [
    "### 0: Initializing arrays\n",
    "Usually, an array is initialized as an empty data structure, i.e., with no elements and it is usual to set its contents to `None` (or just let its length be zero).\n",
    "\n",
    "However, Python 3 allows arrays to be initialized with initial values that may depend upon a function. For example, you can initialize all elements to `0`, or set them to be equal to their index, or be odd numbers, or be square numbers, or contain consecutive letters, or anything else required."
   ]
  },
  {
   "cell_type": "code",
   "execution_count": null,
   "metadata": {},
   "outputs": [],
   "source": [
    "### Initialize a blank array\n",
    "myArray0 = []\n",
    "\n",
    "### Initialize an array of length 20 and values set to None\n",
    "myArray1 = [None for counter in range(20)]\n",
    "\n",
    "### Initialize an array of length 20 and values set to 0\n",
    "myArray2 = [0 for counter in range(20)]\n",
    "\n",
    "### Initialize an array of length 20 and values set to the counter\n",
    "myArray3 = [counter for counter in range(20)]\n",
    "\n",
    "### Initialize an array of length 20 and values set to odd numbers\n",
    "myArray4 = [((2 * counter) + 1) for counter in range(20)]\n",
    "\n",
    "### Initialize an array of length 20 and values set to square numbers\n",
    "myArray5 = [(counter ** 2) for counter in range(20)]\n",
    "\n",
    "### Initialize an array of length 20 and values set to English letters\n",
    "myArray6 = [chr(counter + 65) for counter in range(20)]\n",
    "\n",
    "\n",
    "### Print all the arrays\n",
    "print (\"myArray0:\", myArray0)\n",
    "print (\"myArray1:\", myArray1)\n",
    "print (\"myArray2:\", myArray2)\n",
    "print (\"myArray3:\", myArray3)\n",
    "print (\"myArray4:\", myArray4)\n",
    "print (\"myArray5:\", myArray5)\n",
    "print (\"myArray6:\", myArray6)"
   ]
  },
  {
   "cell_type": "markdown",
   "metadata": {},
   "source": [
    "### 1: Dimensions in an array\n",
    "An array can have more than one **dimension**; the number of dimensions is the number of indices required to locate an element in an array. A 1D (with a single dimension) array, such as `Fruits` from above, can be represented as a list of values - not unlike a number line. In fact, this analogy from graphs gives us a way to represent 2D arrays: as two axes make a grid, two dimensions of an array can be visualized as a table. Consider, for example, a 2D array called `Marks` which stores the marks of students in a class where everyone studies Computer Science, Further Mathematics and Physics. Each \"row\" then represents one student, and each \"column\" represents one subject. The syntax to access an element is `Marks[i][j]` where `i` is the index of the row and `j` is the index of the column.\n",
    "\n",
    "| Index Number | Subjects |\n",
    "| :-- | :-- |\n",
    "| `[0]` | Computer Science |\n",
    "| `[1]` | Further Mathematics |\n",
    "| `[2]` | Physics |"
   ]
  },
  {
   "cell_type": "code",
   "execution_count": null,
   "metadata": {},
   "outputs": [],
   "source": [
    "### Declare the array\n",
    "Marks = [[]]    # use two nested brackets to indicate two dimensions\n",
    "\n",
    "\n",
    "### Write marks randomly to the array, assuming each subject is scored out of 100\n",
    "from random import randint as randomInteger\n",
    "Marks = [[randomInteger(75, 99) for i in range(3)] for j in range(5)]\n",
    "\n",
    "\n",
    "### Print out the array\n",
    "print (Marks)\n",
    "\n",
    "\n",
    "### Print out the marks more neatly\n",
    "for Student in Marks:\n",
    "    for Subject in Student:\n",
    "        print (Subject, end=' ')\n",
    "    \n",
    "    print (\"\")"
   ]
  },
  {
   "cell_type": "markdown",
   "metadata": {},
   "source": [
    "### 2: Generate random numbers\n",
    "We would need to generate lists of random numbers to test our code. Here is the function to do that."
   ]
  },
  {
   "cell_type": "code",
   "execution_count": null,
   "metadata": {},
   "outputs": [],
   "source": [
    "from random import randint  # Import the function to generate random integers\n",
    "\n",
    "## Subroutine to generate random list of unique integers\n",
    "def generateRandom(n):\n",
    "\n",
    "    arr = []\n",
    "\n",
    "    for i in range(n):\n",
    "        r = randint(0, 10 * n)\n",
    "\n",
    "        while r in arr:\n",
    "            r = randint(0, 10 * n)\n",
    "        \n",
    "        arr.append(r)\n",
    "    \n",
    "    return arr"
   ]
  },
  {
   "cell_type": "markdown",
   "metadata": {},
   "source": [
    "### 3: Linear search\n",
    "This is the simplest of the searching algorithms.\n",
    "The program traverses an array, going through every element until a match is found. An element `[i]` is checked in the iteration `i`. If element `[i]` matches the required `element`, the programs returns `i` and halts; else it goes to `[i + 1]` until all elements have been searched."
   ]
  },
  {
   "cell_type": "code",
   "execution_count": null,
   "metadata": {
    "tags": []
   },
   "outputs": [],
   "source": [
    "def linearSearch(listIn, element):\n",
    "    index = -1\n",
    "    \n",
    "    for i in range(len(listIn)):\n",
    "        if listIn[i] == element:\n",
    "            index = i\n",
    "            break\n",
    "    \n",
    "    return index\n",
    "\n",
    "# Test\n",
    "arr = generateRandom(10)\n",
    "x = arr[5]\n",
    "print (\"In list\", arr, \"element\", x, \"occurs at position\", linearSearch(arr, x))"
   ]
  },
  {
   "cell_type": "markdown",
   "metadata": {},
   "source": [
    "### 4: Bubble sort\n",
    "This is the simplest sorting algorithm. The program traverses an array, while comparing the current `[i]` element to the next element `[i + 1]`. If the element `[i + 1]` was greater than the element `[i]`, they are swapped."
   ]
  },
  {
   "cell_type": "code",
   "execution_count": null,
   "metadata": {
    "tags": []
   },
   "outputs": [],
   "source": [
    "def bubbleSort(listIn):\n",
    "    key = None\n",
    "    \n",
    "    for i in range (len(listIn)):\n",
    "\n",
    "        for j in range (len(listIn) - 1):\n",
    "\n",
    "            if listIn[j] > listIn[j + 1]:\n",
    "                key = listIn[j]\n",
    "                listIn[j] = listIn[j + 1]\n",
    "                listIn[j + 1] = key\n",
    "\n",
    "# Test\n",
    "arr = generateRandom(10)\n",
    "print(\"Unsorted array:\\t\", arr)\n",
    "bubbleSort(arr)\n",
    "print(\"Sorted array:\\t\", arr)"
   ]
  },
  {
   "cell_type": "markdown",
   "metadata": {},
   "source": [
    "## 2.2.3: Files\n",
    "A computer **file** is a computer resource for recording data discretely in a computer storage device. Just as words can be written to paper, so can information be written to a computer file. Files can be edited and transferred through the internet on that particular computer system. By using computer programs, a person can open, read, change, save, and close a computer file. Computer files may be reopened, modified, and copied an arbitrary number of times. Typically, files are organised in a file system, which keeps track of where the files are located on disk and enables user access."
   ]
  },
  {
   "cell_type": "markdown",
   "metadata": {},
   "source": [
    "### 1: Opening files\n",
    "Two types of files will be considered: `.txt` **text files**, and `.dat` **binary files**. A computer can open files in one of the several modes given below, using Python 3. The character `b` can be added after any of the modes below (`wb`, `rb+` etc) to consider a binary file, rather than a text file. The function `open()` creates a file with the given name (at the given path) if it does not exist.\n",
    "\n",
    "| Python Code | Mode | Functionality |\n",
    "| :-- | :-- | :-- |\n",
    "| `r` | `READ` | Allows software to read the contents of the file. It cannot alter (append, delete or modify) them. |\n",
    "| `w` | `WRITE` | Allows the software open a file to write (typically delete or modify; it can append by controlling the pointer) contents only. It cannot read them. |\n",
    "| `a` | `APPEND` | Allows the software to append a file only. It cannot read, modify or delete. |\n",
    "| `w+` `r+` | `READ` and `WRITE` | Allows a software to read and write.\n",
    "| `a+` | `READ` and `APPEND` | Allows a software to read and append. It cannot modify or delete. |"
   ]
  },
  {
   "cell_type": "code",
   "execution_count": null,
   "metadata": {},
   "outputs": [],
   "source": [
    "### Open the file and initialize a file object\n",
    "fileObject = open(\"textfile.txt\", \"a+\")\n",
    "\n",
    "### Read the contents of the file\n",
    "contents = fileObject.readlines()\n",
    "print(contents)\n",
    "\n",
    "### Append to the file\n",
    "fileObject.write(\"Hi Earth!\\n\")     # the '\\n' character is called a newline and\n",
    "                                    # used to separate lines in a file (or to\n",
    "                                    # tidy up a long series of print statements).\n",
    "\n",
    "### Close the file\n",
    "fileObject.close()"
   ]
  },
  {
   "cell_type": "markdown",
   "metadata": {},
   "source": [
    "### 2: Read a text file consisting of one line\n",
    "Open the file in `READ` mode `r`, and print out any contents it contains."
   ]
  },
  {
   "cell_type": "code",
   "execution_count": null,
   "metadata": {},
   "outputs": [],
   "source": [
    "### Open the file and initialize a file object\n",
    "fileObject = open(\"textfile.txt\", 'r')\n",
    "\n",
    "### Read the contents of the file\n",
    "contents = fileObject.read()\n",
    "\n",
    "### Check whether file contained anything\n",
    "if len(contents) > 0:\n",
    "    print (contents)\n",
    "\n",
    "else:\n",
    "    print (\"The selected file was empty.\")\n",
    "\n",
    "### Close the file\n",
    "fileObject.close()"
   ]
  },
  {
   "cell_type": "markdown",
   "metadata": {},
   "source": [
    "### 3: Read a text file consisting of multiple lines\n",
    "Open a file in `READ` mode `r`, and print out its contents."
   ]
  },
  {
   "cell_type": "code",
   "execution_count": null,
   "metadata": {},
   "outputs": [],
   "source": [
    "### Open the file and initialize a file object\n",
    "fileObject = open(\"textfile.txt\", 'r')\n",
    "\n",
    "### Read the contents of the file\n",
    "contents = fileObject.readlines()   # automatically place each line into\n",
    "                                    # an index in an array\n",
    "\n",
    "### Print out each line one-by-one\n",
    "for counter in range(len(contents)):\n",
    "    print(\"line \" + str(counter + 1) + \": \" + contents[counter])\n",
    "\n",
    "### Close the file\n",
    "fileObject.close()"
   ]
  },
  {
   "cell_type": "markdown",
   "metadata": {},
   "source": [
    "### 4: Write a single line to a text file\n",
    "Open a file in `WRITE` mode `w`, and write a single line to it. This would delete any contents it previously held."
   ]
  },
  {
   "cell_type": "code",
   "execution_count": null,
   "metadata": {},
   "outputs": [],
   "source": [
    "### Open the file and initialize a file object\n",
    "fileObject = open(\"textfile.txt\", 'w')\n",
    "\n",
    "### Read the contents of the file\n",
    "contents = fileObject.write(\"Hello World!\\n\")\n",
    "\n",
    "### Close the file\n",
    "fileObject.close()"
   ]
  },
  {
   "cell_type": "markdown",
   "metadata": {},
   "source": [
    "### 5: Append multiple lines to a text file\n",
    "Open a file in `APPEND` mode `a`, and append random numbers to it."
   ]
  },
  {
   "cell_type": "code",
   "execution_count": null,
   "metadata": {},
   "outputs": [],
   "source": [
    "### Open the file and initialize a file object\n",
    "fileObject = open(\"textfile.txt\", 'a')\n",
    "\n",
    "### Write the random numbers\n",
    "import random\n",
    "\n",
    "numberOfEntries = random.randint(10, 20)\n",
    "print (numberOfEntries, \"new lines will be appended.\\n\")\n",
    "\n",
    "for count in range(numberOfEntries):\n",
    "    number = random.random()\n",
    "    print(\"Writing\", number, \"to the file...\")\n",
    "    fileObject.write(str(number) + '\\n')\n",
    "\n",
    "### Close the file\n",
    "fileObject.close()"
   ]
  },
  {
   "source": [
    "### 6: Open a binary file\n",
    "Binary/**Random** files are accessed using a module called `pickle`. Unlike the case for text file, the **methods** will not **inherit** from the file **object**; rather, the file object will be passed as a parameter.\n",
    "\n",
    "```python\n",
    "# General syntax of using a text file\n",
    "fileObject = open(\"path.txt\", \"mode\")\n",
    "fileObject.write(\"text to write\")\n",
    "identifier = fileObject.read()\n",
    "fileObject.close()\n",
    "```\n",
    "\n",
    "```python\n",
    "# General syntax of using a binary file\n",
    "fileObject = open(\"path.dat\", \"mode\")\n",
    "pickle.dump(contentsIdetifier, fileObject)\n",
    "identifier = pickle.load(fileObject)\n",
    "fileObject.close()\n",
    "```"
   ],
   "cell_type": "markdown",
   "metadata": {}
  },
  {
   "cell_type": "code",
   "execution_count": null,
   "metadata": {},
   "outputs": [],
   "source": [
    "### Import the pickle module\n",
    "import pickle\n",
    "\n",
    "### Open the file\n",
    "fileObject = open(\"binaryFile.dat\", \"wb\")\n",
    "\n",
    "### Write a list to the file\n",
    "pickle.dump([1, 2, 4, 7], fileObject)\n",
    "\n",
    "### Close the file\n",
    "fileObject.close()"
   ]
  },
  {
   "cell_type": "code",
   "execution_count": null,
   "metadata": {},
   "outputs": [],
   "source": [
    "### Import the pickle module\n",
    "import pickle\n",
    "\n",
    "### Open the file\n",
    "fileObject = open(\"binaryFile.dat\", \"rb\")\n",
    "\n",
    "### Print out the contents of the file\n",
    "print (pickle.load(fileObject))\n",
    "\n",
    "### Close the file\n",
    "fileObject.close()"
   ]
  }
 ],
 "metadata": {
  "kernelspec": {
   "name": "Python 3.9.0 64-bit",
   "display_name": "Python 3.9.0 64-bit",
   "metadata": {
    "interpreter": {
     "hash": "639c2a37e14db5ad309a6b4f68394ff5e90e998bc19c75160fad5398d76608f3"
    }
   }
  },
  "language_info": {
   "codemirror_mode": {
    "name": "ipython",
    "version": 3
   },
   "file_extension": ".py",
   "mimetype": "text/x-python",
   "name": "python",
   "nbconvert_exporter": "python",
   "pygments_lexer": "ipython3",
   "version": "3.9.0-final"
  }
 },
 "nbformat": 4,
 "nbformat_minor": 4
}