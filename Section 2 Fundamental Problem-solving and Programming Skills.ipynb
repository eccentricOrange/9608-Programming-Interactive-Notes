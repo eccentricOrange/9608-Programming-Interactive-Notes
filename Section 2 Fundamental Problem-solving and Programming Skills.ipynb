{
 "cells": [
  {
   "cell_type": "markdown",
   "metadata": {},
   "source": [
    "# 2.1: Algorithm design and problem-solving"
   ]
  },
  {
   "cell_type": "markdown",
   "metadata": {},
   "source": [
    "## 2.1.1: Algorithms\n",
    "An <b>algorithm</b> is a solution to a problem expressed as a sequence of\n",
    "defined steps.\n",
    "\n",
    "An algorithm may be documented using any of the following:\n",
    "* Structured English\n",
    "* Flowcharts\n",
    "* Pseudocode\n",
    "\n",
    "### 1: Identifier tables\n",
    "An <b>identifier table</b> should be used in planning. It should list the idntifier, its datatype and its purpose.\n",
    "\n",
    "| Identifier | Datatype | Purpose |\n",
    "|:---|:---|:---|\n",
    "| `_pi` | `REAL` | constant pi = 3.1415 |\n",
    "| `radius` | `REAL` | variable for user input radius |\n",
    "| `area` | `REAL` | variable for the area of the circle |\n",
    "\n",
    "### 2: Basic constructs\n",
    "Many algorithms consist of the four basic constructs ofprogramming.\n",
    "* **Assignment:** storing a value, either a <u>literal</u> value or an <u>expression</u> that returns a value, in a variable.\n",
    "* **Sequence:** program statements may execute consecutively, or parallely alongside eachother. The sequence need not be known ahead of time and can be determined programatically.\n",
    "* **Selection:** programs can determine which statements are to be execute based on conditions (using `IF` and `CASE` structures, for example).\n",
    "* **Repetition:** statements in a program can be repeated either a fixed number of times, or based on a condition.\n",
    "\n",
    "Simple algorithms follow the **input-process-output cycle** at various places, i.e., they take in an input, perform some processing on it, and then return it back. For example, consider an algorithm which takes in the radius `r` of a circle as its input. It then multiplies the value with `2 _pi` (this is the processing). Finally it outputs the product `2 _pi r` which is the length of the circumfrence of the circle.\n",
    "\n",
    "### 3: Decomposition, stepwise refinement and pattern recognition\n",
    "**Decomposition** is the process of breaking down a complex process into smaller parts. The process can be broken down repeatedly until the sub-tasks can be performed by small and managable **procedures** or **functions**; this process is called **stepwise refinement**. Throughout this process, **pattern recognition** is used to identify those parts which are similar and could use the same solution.\n",
    "\n",
    "### 4: Logic statements\n",
    "Conditions are often specified using Boolean logic statements, which are expressions that return a `TRUE` or `FALSE`. Logic statements are essential because they let a program control execution (using loops, selection statements and conditional loops)."
   ]
  },
  {
   "cell_type": "markdown",
   "metadata": {},
   "source": [
    "## 2.1.2: Structure charts\n",
    "A **structure chart** in software engineering shows the breakdown of a system to its lowest manageable levels. They are used in structured programming to arrange program modules into a tree. Each module is represented by a box, which contains the module's name."
   ]
  },
  {
   "cell_type": "markdown",
   "metadata": {},
   "source": [
    "# 2.2: Data representation\n",
    "**Data representation** refers to the form in which data is stored, processed, and transmitted."
   ]
  },
  {
   "cell_type": "markdown",
   "metadata": {},
   "source": [
    "## 2.2.1: Data types\n",
    "Some examples of the data types commonly used in program are given below."
   ]
  },
  {
   "cell_type": "code",
   "execution_count": null,
   "metadata": {},
   "outputs": [],
   "source": [
    "SignedWholeNumber = 32\n",
    "SignedWholeNumber = -128\n",
    "RealNumber = 3.1415\n",
    "Boolean = True\n",
    "Character = 'T'\n",
    "String = \"Hello World!\""
   ]
  },
  {
   "cell_type": "markdown",
   "metadata": {},
   "source": [
    "## 2.2.2: Arrays\n",
    "Arrays are data structures that allow multiple values of a given datatype to be stored without using multiple identifiers. Each value is stored in a memory location, and this can be accessed using a number, the **index** (written in square brackets `[]`). Arrays are usually **zero-indexed**: the index value of the first element is 0 (and not 1). Consider, for example, an array called `Fruits` which holds the names of fruits to be bought on a particular shopping trip; the syntax to access the element at index `i` we use the suntax `Fruits[i]`. TThe first element is `Fruits[0]`; the sixth element is `Fruits[5]`; and, in general, the n<sup>th</sup> element is `Fruits[n - 1]`. The **lower bound** of an array is the index of the first element (usually 0), and the upper bound is the index of the last element (usually one less than the total number of elements).\n",
    "\n",
    "In Python, it is usual to use a a different type of structure called a **list**. A list is **dynamic** (its length can be changed after it has been initialized) and **mutable** (elements can have different datatypes). However, arrays are **static** (not dynamic) and **immutable**, and we will treat Python lists as arrays."
   ]
  },
  {
   "cell_type": "code",
   "execution_count": null,
   "metadata": {},
   "outputs": [],
   "source": [
    "### Declare the array\n",
    "Fruits = []\n",
    "\n",
    "\n",
    "### Add some elements\n",
    "Fruits = [\"Orange\", \"Papaya\", \"Apple\", \"Banana\", \"Plum\"]\n",
    "\n",
    "\n",
    "### Print out the array\n",
    "print (Fruits)\n",
    "\n",
    "\n",
    "### Print out the array in a more readable format\n",
    "\n",
    "# We will use a FOR loop to implement this part of the program. Since\n",
    "# FOR loops have a counter buit right into them, they are a natural choice\n",
    "# when working with arrays.\n",
    "\n",
    "print (\"You have to buy these fruits:\", end=' ')\n",
    "\n",
    "for Fruit in Fruits:\n",
    "    print (Fruit, end=\", \")\n",
    "\n",
    "print ('')\n",
    "\n",
    "\n",
    "### Add an element to the array at the end (append)\n",
    "Fruits.append(\"Dragon Fruit\")\n",
    "\n",
    "\n",
    "### Print out the array again to test\n",
    "print (Fruits)"
   ]
  },
  {
   "cell_type": "markdown",
   "metadata": {},
   "source": [
    "### 1: Dimensions in an array\n",
    "An array can have more than one **dimension**; the number of dimensions is the number of indices required to locate an element in an array. A 1D (with a single dimension) array, such as `Fruits` from above, can be represented as a list of values - not unlike a number line. In fact, this analogy from graphs gives us a way to represent 2D arrays: as two axes make a grid, two dimensions of an array can be visualized as a table. Consider, for example, a 2D array called `Marks` which stores the marks of students in a class where everyone studeies Computer Science, Further Mathematics and Physics. Each \"row\" then represents one student, and each \"column\" represents one subject. The syntax to access an element is `Marks[i][j]` where `i` is the index of the row and `j` is the index of the column.\n",
    "\n",
    "| Index Number | Subjects |\n",
    "| -- | -- |\n",
    "| `[0]` | Computer Science |\n",
    "| `[1]` | Further Mathematics |\n",
    "| `[2]` | Physics |"
   ]
  },
  {
   "cell_type": "code",
   "execution_count": null,
   "metadata": {},
   "outputs": [],
   "source": [
    "### Declare the array\n",
    "Marks = [[]]    # use two nested brackets to indicate two dimensions\n",
    "\n",
    "\n",
    "### Write marks randomly to the array, assuming each subject is scored out of 100\n",
    "from random import randint as randomInteger\n",
    "Marks = [[randomInteger(75, 99) for i in range(3)] for j in range(5)]\n",
    "\n",
    "\n",
    "### Print out the array\n",
    "print (Marks)\n",
    "\n",
    "\n",
    "### Print out the marks more neatly\n",
    "for Student in Marks:\n",
    "    for Subject in Student:\n",
    "        print (Subject, end=' ')\n",
    "    \n",
    "    print (\"\")"
   ]
  },
  {
   "cell_type": "markdown",
   "metadata": {},
   "source": [
    "### 2: Generate random numbers\n",
    "We would need to generate lists of random numbers to test our code. Here is the function to do that."
   ]
  },
  {
   "cell_type": "code",
   "execution_count": null,
   "metadata": {},
   "outputs": [],
   "source": [
    "from random import randint  # Import the function to generate random integers\n",
    "\n",
    "## Subroutine to generate random list of unique integers\n",
    "def generateRandom(n):\n",
    "\n",
    "    arr = []\n",
    "\n",
    "    for i in range(n):\n",
    "        r = randint(0, 10 * n)\n",
    "\n",
    "        while r in arr:\n",
    "            r = randint(0, 10 * n)\n",
    "        \n",
    "        arr.append(r)\n",
    "    \n",
    "    return arr"
   ]
  },
  {
   "cell_type": "markdown",
   "metadata": {},
   "source": [
    "### 3: Linear search\n",
    "This is the simplest of the searching algorithms.\n",
    "The program traverses an array, going through every element until a match is found. An element `[i]` is checked in the iteration `i`. If element `[i]` matches the required `element`, the programs returns `i` and halts; else it goes to `[i + 1]` until all elements have been searched."
   ]
  },
  {
   "cell_type": "code",
   "execution_count": null,
   "metadata": {
    "tags": []
   },
   "outputs": [],
   "source": [
    "def linearSearch(listIn, element):\n",
    "    index = -1\n",
    "    \n",
    "    for i in range(len(listIn)):\n",
    "        if listIn[i] == element:\n",
    "            index = i\n",
    "            break\n",
    "    \n",
    "    return index\n",
    "\n",
    "# Test\n",
    "arr = generateRandom(10)\n",
    "x = arr[5]\n",
    "print (\"In list\", arr, \"element\", x, \"occurs at position\", linearSearch(arr, x))"
   ]
  },
  {
   "cell_type": "markdown",
   "metadata": {},
   "source": [
    "### 4: Bubble sort\n",
    "This is the simplest sorting algorithm. The program traverses an array, while comparing the current `[i]` element to the next element `[i + 1]`. If the element `[i + 1]` was greater than the element `[i]`, they are swapped."
   ]
  },
  {
   "cell_type": "code",
   "execution_count": null,
   "metadata": {
    "tags": []
   },
   "outputs": [],
   "source": [
    "def bubbleSort(listIn):\n",
    "    key = None\n",
    "    \n",
    "    for i in range (len(listIn)):\n",
    "\n",
    "        for j in range (len(listIn) - 1):\n",
    "\n",
    "            if listIn[j] > listIn[j + 1]:\n",
    "                key = listIn[j]\n",
    "                listIn[j] = listIn[j + 1]\n",
    "                listIn[j + 1] = key\n",
    "\n",
    "# Test\n",
    "arr = generateRandom(10)\n",
    "print(\"Unsorted array:\\t\", arr)\n",
    "bubbleSort(arr)\n",
    "print(\"Sorted array:\\t\", arr)"
   ]
  },
  {
   "source": [
    "## 2.2.3: Files\n",
    "A computer **file** is a computer resource for recording data discretely in a computer storage device. Just as words can be written to paper, so can information be written to a computer file. Files can be edited and transferred through the internet on that particular computer system. By using computer programs, a person can open, read, change, save, and close a computer file. Computer files may be reopened, modified, and copied an arbitrary number of times. Typically, files are organised in a file system, which keeps track of where the files are located on disk and enables user access."
   ],
   "cell_type": "markdown",
   "metadata": {}
  },
  {
   "source": [
    "### 1: Opening files\n",
    "Two types of files will be considered: `.txt` **text files**, and `.dat` **binary files**. A computer can open files in one of the sevaral modes given below, using Python 3. The characher `b` can be added after any of the modes below (`wb`, `rb+` etc) to consider a binary file, rather than a text file. The function `open()` creates a file with the given name (at the given path) if it does not exist.\n",
    "\n",
    "| Python Code | Mode | Functionality |\n",
    "| -- | -- | -- |\n",
    "| `r` | `READ` | Allows software to read the contents of the file. It cannot alter (append, delete or modify) them. |\n",
    "| `w` | `WRITE` | Allows the software open a file to write (typically delete or modify; it can append by controlling the pointer) contents only. It cannot read them. |\n",
    "| `a` | `APPEND` | Allows the software to append a file only. It cannot read, modify or delete. |\n",
    "| `w+` `r+` | `READ` and `WRITE` | Allows a software to read and write.\n",
    "| `a+` | `READ` and `APPEND` | Allows a software to read and append. It cannot modify or delete. |"
   ],
   "cell_type": "markdown",
   "metadata": {}
  },
  {
   "cell_type": "code",
   "execution_count": null,
   "metadata": {},
   "outputs": [],
   "source": [
    "### Open the file and initialize a file object\n",
    "fileObject = open(\"textfile.txt\", \"a+\")\n",
    "\n",
    "### Read the contents of the file\n",
    "contents = fileObject.readlines()\n",
    "print(contents)\n",
    "\n",
    "### Append to the file\n",
    "fileObject.write(\"Hi Earth!\\n\")\n",
    "\n",
    "### Close the file\n",
    "fileObject.close()"
   ]
  },
  {
   "source": [
    "### 2: Read a file consisting of one line\n",
    "Open the file in `READ` mode `r`, and print out any contents it contains."
   ],
   "cell_type": "markdown",
   "metadata": {}
  },
  {
   "cell_type": "code",
   "execution_count": null,
   "metadata": {},
   "outputs": [],
   "source": [
    "### Open the file and initialize a file object\n",
    "fileObject = open(\"textfile.txt\", 'r')\n",
    "\n",
    "### Read the contents of the file\n",
    "contents = fileObject.read()\n",
    "\n",
    "### Check whether file contained anything\n",
    "if len(contents) > 0:\n",
    "    print (contents)\n",
    "\n",
    "else:\n",
    "    print (\"The selected file was empty.\")\n",
    "\n",
    "### Close the file\n",
    "fileObject.close()"
   ]
  },
  {
   "source": [
    "### 3: Read a file consisting of multiple lines\n",
    "Open a file in `READ` mode `r`, and print out its contents."
   ],
   "cell_type": "markdown",
   "metadata": {}
  },
  {
   "cell_type": "code",
   "execution_count": null,
   "metadata": {},
   "outputs": [],
   "source": [
    "### Open the file and initialize a file object\n",
    "fileObject = open(\"textfile.txt\", 'r')\n",
    "\n",
    "### Read the contents of the file\n",
    "contents = fileObject.readlines()   # automatically place each line into\n",
    "                                    # an index in an array\n",
    "\n",
    "### Print out each line one-by-one\n",
    "for counter in range(len(contents)):\n",
    "    print(\"line \" + str(counter + 1) + contents[counter])\n",
    "\n",
    "### Close the file\n",
    "fileObject.close()"
   ]
  },
  {
   "source": [
    "### 4: Write a single line to a file\n",
    "Open a file in `WRITE` mode `w`, and write a single line to it. This would delete any contents it previously held."
   ],
   "cell_type": "markdown",
   "metadata": {}
  },
  {
   "cell_type": "code",
   "execution_count": null,
   "metadata": {},
   "outputs": [],
   "source": [
    "### Open the file and initialize a file object\n",
    "fileObject = open(\"textfile.txt\", 'w')\n",
    "\n",
    "### Read the contents of the file\n",
    "contents = fileObject.write(\"Hello World!\\n\")\n",
    "\n",
    "### Close the file\n",
    "fileObject.close()"
   ]
  },
  {
   "source": [
    "### 5: Append multiple lines to the file\n",
    "Open a file in `APPEND` mode `a`, and append random numbers to it."
   ],
   "cell_type": "markdown",
   "metadata": {}
  },
  {
   "cell_type": "code",
   "execution_count": null,
   "metadata": {},
   "outputs": [],
   "source": [
    "### Open the file and initialize a file object\n",
    "fileObject = open(\"textfile.txt\", 'a')\n",
    "\n",
    "### Write the random numbers\n",
    "import random\n",
    "\n",
    "numberOfEntries = random.randint(10, 20)\n",
    "print (numberOfEntries, \"new lines will be appended.\\n\")\n",
    "\n",
    "for count in range(numberOfEntries):\n",
    "    number = random.random()\n",
    "    print(\"Writing\", number, \"to the file...\")\n",
    "    fileObject.write(str(number) + '\\n')\n",
    "\n",
    "### Close the file\n",
    "fileObject.close()"
   ]
  }
 ],
 "metadata": {
  "kernelspec": {
   "display_name": "Python 3",
   "language": "python",
   "name": "python3"
  },
  "language_info": {
   "codemirror_mode": {
    "name": "ipython",
    "version": 3
   },
   "file_extension": ".py",
   "mimetype": "text/x-python",
   "name": "python",
   "nbconvert_exporter": "python",
   "pygments_lexer": "ipython3",
   "version": "3.9.0"
  }
 },
 "nbformat": 4,
 "nbformat_minor": 4
}