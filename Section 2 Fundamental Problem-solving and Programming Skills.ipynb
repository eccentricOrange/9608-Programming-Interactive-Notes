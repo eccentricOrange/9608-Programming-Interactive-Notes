{
 "cells": [
  {
   "cell_type": "markdown",
   "metadata": {
    "tags": [
     "Meta"
    ]
   },
   "source": [
    "# Introduction\n",
    "This is a course/reference for CAIE Computer Science Problem-solving and Programming, meant to help you understand the content alongside the textbooks. I try to cover most of the syllabus directly related to Python programming, trying to provide an alternate explanation where possible. I also talk about some parts (like expressions, and the `range()` function) which are sometimes not well explained by textbooks.\n",
    "\n",
    "This reference is interactive—you can try out the examples as soon as you read the explanation, without having to launch an IDE. The expetcation is that you use this and you textbooks to get an overview of the concepts, and then dig in by researching—I'll provide some links where appropriate."
   ]
  },
  {
   "cell_type": "markdown",
   "metadata": {
    "tags": [
     "Meta",
     "Jupyter"
    ]
   },
   "source": [
    "## 0: Jupyter Notebooks\n",
    "What you're reading right now is called a [Jupyter](https://jupyter.org/index.html) Notebook. It allows me to write documentation (explanation), place graphics/diagrams, and write executable Python code in the same place. You can execute my code, edit it, or just create a new cell and experiment.\n",
    "\n",
    "\\[Over\\]Simply put, a Jupyter notebook is a file with various cells. A cell is a block of code, explanation (like this one), or a multimedia element. To execute a cell, click on it to select it, and press **Ctrl + Enter** (or **Cmd + Return**). Go ahead, and try it with the cell below—you should get a message telling that you succeeded. If you already know Python programming, you can edit that code too!"
   ]
  },
  {
   "cell_type": "code",
   "execution_count": null,
   "metadata": {
    "tags": [
     "Meta",
     "Jupyter"
    ]
   },
   "outputs": [],
   "source": [
    "print(\"You successfully executed a cell. Congratulations!\")"
   ]
  },
  {
   "cell_type": "markdown",
   "metadata": {
    "tags": [
     "Meta",
     "Jupyter"
    ]
   },
   "source": [
    "## 1: Tags\n",
    "Each cell has one or more tags. If it's visible, you should see the words `Meta` and `Jupyter` written in two small boxes on the top-left of this cell, and you don't have to do anything. If not, click **View > Cell Toolbar > Tags**.\n",
    "\n",
    "Tags tell you which syllabuses a given cell pertains to, or otherwise describes the content. For example, this cell has two tags:\n",
    "* `Meta` This cell is not about any syllabus-specific content, and just describes something about the course.\n",
    "* `Jupyter` This cell describes how to use Jupyter or its features.\n",
    "\n",
    "Here is a full list of tags you'll encounter.\n",
    "\n",
    "| Tag | Explanation |\n",
    "|:-|:-|\n",
    "| `IGXXXX` | This represents a [CAIE IGCSE syllabus](https://www.cambridgeinternational.org/programmes-and-qualifications/cambridge-upper-secondary/cambridge-igcse/subjects/https://www.cambridgeinternational.org/programmes-and-qualifications/cambridge-upper-secondary/cambridge-igcse/subjects/), with syllabus code XXXX. You must understand this content. |\n",
    "| `ALYYYY` | This represents a [CAIE AS & A Level syllabus](https://www.cambridgeinternational.org/programmes-and-qualifications/cambridge-advanced/cambridge-international-as-and-a-levels/subjects/https://www.cambridgeinternational.org/programmes-and-qualifications/cambridge-advanced/cambridge-international-as-and-a-levels/subjects/), with syllabus code YYYY. You must understand this content. |\n",
    "| `General` | This is something not explicitly mentioned by the syllabus, but is common knowledge amongst programmers. Knowing this may help you get a better grasp of the syllabus. |\n",
    "| `Extended` | Content that might be interesting or useful, but not explicitly covered by the syllabus. You should avoid using this on exams. |\n",
    "| `Used` | May appear with some `General` or `Extended` topics. You can use these in your exams. |\n",
    "| `Meta` | These are not content about programming itself, instead it may explain something about my writing style, or help getting around Jupyter. |\n",
    "| `Jupyter` | May appear with some `Meta` tags. These are about the Jupyter environment. |"
   ]
  },
  {
   "cell_type": "markdown",
   "metadata": {
    "tags": [
     "Meta",
     "Jupyter"
    ]
   },
   "source": [
    "## 2: Installation?\n",
    "If you don't want to edit my code and save those changes, then you don't have to install anything—you can keep coming back to this notebook in your browser using Binder.\n",
    "\n",
    "However, if you would like to experiment, create notebooks, or want more customizability, install Jupyter. I'll give you a simple method below, but visit the [official website](https://jupyter.org/install.html) for more detail about Anaconda and other methods.\n",
    "\n",
    "This method uses a command line. While you can just follow these instructions, it might be worthwhile understanding what's going on. If any of this is unfamiliar, take a look at my [advice for programming learners]().\n",
    "\n",
    "1. If you don't already have it, download and install Python from the its [website](https://www.python.org/downloads/). Make sure you get version 3.3 or newer.\n",
    "    * If you need to check whether you have Python, open a command line, type `python --version`, and press **Enter**.\n",
    "    * If you get a version number, you have Python; if not, you don't.\n",
    "2. Open up a command line.\n",
    "    * If you're on Windows, press **Windows + R** to bring up the run dialog box. Type `powershell` and hit **Enter**.\n",
    "    * If you're on MacOS, launch the application called **Terminal**.\n",
    "    * If you're on a Linux-based OS, I suppose you know what to do.\n",
    "3. Type in `pip3 install notebook` (try `pip install notebook` if that didn't work) and press **Enter**. If you're asked whether you want to continue, type `y` for 'yes' and press **Enter**. Wait for the installation to complete.\n",
    "\n",
    "To launch Jupyter, open a command line, and go to the folder you want to save your files in. Type in `jupyter notebook` and press enter."
   ]
  },
  {
   "cell_type": "markdown",
   "metadata": {
    "tags": [
     "Meta",
     "Jupyter"
    ]
   },
   "source": [
    "## 3: Learn more\n",
    "Now that you've had a basic introduction to Jupyter, we can jump into the lesson.\n",
    "\n",
    "If you're interested in learning more, I'll leave links to some sources below:\n",
    "* [Anaconda](https://docs.anaconda.com/anaconda/)\n",
    "* [Jupyter demo and more detailed overview](https://mybinder.org/v2/gh/ipython/ipython-in-depth/master?filepath=binder/Index.ipynb)\n",
    "* [Guide to using Jupyter](https://www.dataquest.io/blog/jupyter-notebook-tutorial/)\n",
    "* [Installing Jupyter Notebook and more](https://jupyter.org/install.html)\n",
    "* [Jupyter documentation](https://jupyter-notebook.readthedocs.io/en/stable/index.html)"
   ]
  },
  {
   "cell_type": "markdown",
   "metadata": {
    "tags": [
     "Meta"
    ]
   },
   "source": [
    "## 4: My sources\n",
    "Most of the content here is about explaining skills, which I've acquired over time through practice and reverse-engineering others' examples. It would not make sense for me to cite these. However, for trasparency, I'll do my best to explain where I got information from.\n",
    "\n",
    "I sometimes refer sources online, for things like definitions, and I'll make sure to leave you a hyperlink to these (though it may take the form of suggested further reading).\n",
    "\n",
    "A lot of what I know also comes from the following:\n",
    "* My computer teacher at school, who taught me Python and a lot of rigour\n",
    "* My robotics mentor, who introduced me to programming through C++\n",
    "* Random YouTube vidoes \\([my recommendations](https://eccentricorange.github.io/CAIE-Computer-Science/#recommended-youtube-channels)\\)\n",
    "* [My A Level texboook](https://www.hoddereducation.co.uk/subjects/ict/products/general/cambridge-international-as-a-level-computer-sc-(3))\n",
    "* CAIE syllabus specifications: I look up individual topics as per these documents."
   ]
  },
  {
   "cell_type": "markdown",
   "metadata": {
    "tags": [
     "General",
     "Used"
    ]
   },
   "source": [
    "# Common terminology and useful concepts\n",
    "Everyone hates jargon—especially when it is presented in a clump like this. However, it can be helpful to be familiar with it, for two reasons.\n",
    "\n",
    "1. **Tutorials and guides are written using jargon:** as much as it can make things difficult for people starting out, discussing about concepts using their names actually makes things easy. Although many tutorials and guides use these terms to convey information—which is why we discuss jargon here—there are several videos and guides created with a beginner in mind, so don't be intimidated if you cannot remember these! Just follow along with the rest of this guide (practice and experiment a little bit too!), and concepts will gradually be clarified—you will find that there isn't a need to know every term and its definition verbatim, rather it's the understanding that's important.\n",
    "\n",
    "2. **Examinations use jargon:** questions on the A Level papers often use it to frame the question, and candidates are also expected to be familiar with it."
   ]
  },
  {
   "cell_type": "markdown",
   "metadata": {
    "tags": [
     "General",
     "AL9608",
     "AL9618",
     "IG0478",
     "IG0984"
    ]
   },
   "source": [
    "## 1: Comments\n",
    "It is useful to be able to write something in plain text alongside executable code. We tell the computer that something is a comment through symbols—these have been allocated specifically for comments in the design of translator (compiler/interpreter).\n",
    "\n",
    "There are two basic ways a comment can be defined: it can be either one line long, or it can span multiple lines. Usually, a single-line comment is only opened (preceded) using a symbol; a multi-line comment must be opened (preceded) and closed (succeded) with symbols. Some common ways are listed below.\n",
    "\n",
    "#### Python, R, Windows PowerShell, PHP\n",
    "```python\n",
    "# This is a single-line comment\n",
    "\n",
    "print (\"Hello World!\")  # This is also a single-line comment\n",
    "\n",
    "### Even this is this a single-line comment!\n",
    "```\n",
    "\n",
    "**Note:** Sometimes, people write multi-line comments in Python using triple double quotes, but this is in fact a string literal. You can use it in programming (althoug it's not good practice, and should be avoided on exams). See the cell below.\n",
    "\n",
    "#### C++, Java, JavaScript\n",
    "\n",
    "```cpp\n",
    "// This is a single-line comment\n",
    "\n",
    "printf (\"Hello World!\");  // This is also a single-line comment\n",
    "\n",
    "// // Even this is this a single-line comment!\n",
    "\n",
    "/* This is a multi-line comment. It is written\n",
    "specifically to waste your time. Your are reading\n",
    "this because you want to learn about comments */\n",
    "```\n",
    "\n",
    "#### SQL, MySQL\n",
    "```mySQL\n",
    "-- This is a comment\n",
    "SELECT * FROM Students; -- This is also a comment\n",
    "\n",
    "-- -- -- Even this is a comment!\n",
    "\n",
    "/* This is a multi-line comment. It is written\n",
    "specifically to waste your time. Your are reading\n",
    "this because you want to learn about comments */\n",
    "```\n",
    "\n",
    "In CAIE pseudocode, single-line comments must be preceded with `//` (like C++); multi-line comments are not allowed."
   ]
  },
  {
   "cell_type": "code",
   "execution_count": null,
   "metadata": {
    "tags": [
     "Extended"
    ]
   },
   "outputs": [],
   "source": [
    "### Multi-line comments\n",
    "\n",
    "\"\"\"This is like a multi-line comment.\n",
    "Python will ignore it.\n",
    "It will not be executed.\"\"\"\n",
    "\n",
    "message = \"\"\"This is string constant.\n",
    "Python will not ignore it.\n",
    "Do with it what you like.\"\"\"\n",
    "\n",
    "print(message)"
   ]
  },
  {
   "cell_type": "markdown",
   "metadata": {
    "tags": [
     "General",
     "Used"
    ]
   },
   "source": [
    "## 2: Constructs\n",
    "Programs are designed using common building blocks. These building blocks, known as programming constructs (or programming concepts), form the basis for all programs. You may notice two different uses of the term construct; these are given explicitly below:\n",
    "\n",
    "1. **Common concepts:** some concepts that help structure a program are called constructs. In some sense, this is the *correct* meaning of a construct, and it is what you will come across during you A Level course.\n",
    "\n",
    "2. **Creating \"sections\":** many statements are often placed inside another set of statements, i.e., some statement will **open** a construct, and some other statement will **close** it. Anything inside that section will behave according to the rules of the construct. Consider the example of a **selection** construct below. It would ask you to enter a value—type a name, and press Enter."
   ]
  },
  {
   "cell_type": "code",
   "execution_count": null,
   "metadata": {
    "tags": [
     "General",
     "Used"
    ]
   },
   "outputs": [],
   "source": [
    "# take a value from the user\n",
    "name = input(\"Enter a name: \")\n",
    "\n",
    "# initialize the if construct\n",
    "if name == \"Guido van Rossum\":\n",
    "\n",
    "    # the indentation of four spaces lets the interpreter know that any statement following it is to be executed inside the if construct\n",
    "    print (\"The entered name is of the inventor of Python.\")\n",
    "    print (\"This is another print statement.\")\n",
    "\n",
    "# since no spaces precede this statement, it must execute independently of the if construct. It indicates that the if construct is now closed and cannot be opened again\n",
    "print (\"Hello world!\")"
   ]
  },
  {
   "cell_type": "markdown",
   "metadata": {
    "tags": [
     "General",
     "Used"
    ]
   },
   "source": [
    "## 3: Expressions, and returning\n",
    "Expressions are parts of statement that evaluate to something and return it. This is easiest to understand by example, so consider the statement below:"
   ]
  },
  {
   "cell_type": "code",
   "execution_count": null,
   "metadata": {
    "tags": [
     "General",
     "Used"
    ]
   },
   "outputs": [],
   "source": [
    "print (\"My name is Albus Percival Wulfric Brian Dumbledore\")"
   ]
  },
  {
   "cell_type": "markdown",
   "metadata": {
    "tags": [
     "General",
     "Used"
    ]
   },
   "source": [
    "Here, the `print()` statement expects something to be placed in the parenthesis—this is what `print()` acts on. We placed a **literal** statement into the parenthesis, and that is what is printed. However, we could just as well have placed something a little more complex, as int the examples below."
   ]
  },
  {
   "cell_type": "code",
   "execution_count": null,
   "metadata": {
    "tags": [
     "General",
     "Used"
    ]
   },
   "outputs": [],
   "source": [
    "print (\"My name is\" + ' ' + \"Albus Percival Wulfric Brian Dumbledore\")\n",
    "print (\"The product of 2 and 3 is\", (2 * 3))"
   ]
  },
  {
   "cell_type": "markdown",
   "metadata": {
    "tags": [
     "General",
     "Used"
    ]
   },
   "source": [
    "Notice how these are no longer simple values—some calculation (or some other process if you will) must take place before the `print()` statement can actually act on these. The parts of the statements inside the parenthesis (`\"My name is\" + ' ' + \"Albus Percival Wulfric Brian Dumbledore\"` and `\"The product of 2 and 3 is\", (2 * 3)`) are called **expressions**. When the line of code containing them gets executed, the expression is evaluated (calculated), and the final value is **returned** to the whatever contains the expression (in this case, the `print()` statement gets the final value). This will, hopefully, be clearer when you learn about **functions**, whose whole job it is to handle returning and passing values.\n",
    "\n",
    "**Note:** if you decide to research this topic online (which is always encouraged), you may find the term **regular expression**, often abbreviated to **regex**. This is not part of your syllabus and should not be confused with the general meaning of the term expression. In fact, [regular expressions](https://www.w3schools.com/python/python_regex.asp) are usually considered to be a rather advanced topic."
   ]
  },
  {
   "cell_type": "markdown",
   "metadata": {
    "tags": [
     "AL9608",
     "AL9618",
     "IG0478",
     "IG0984"
    ]
   },
   "source": [
    "## 4: Identifiers\n",
    "The memory of a computer actually consists of several (example: 4 294 967 296, or $2 ^ {20}$ unique locations for a 32-bit computer with 4 GiB RAM) memory locations, each with a unique hexadecimal address. Programming languages allow \"names\" to be assigned to these memory locations in order to access them, greatly simplifying work for a programmer. In fact, high-level languages detect when a \"name\" has been used, and automatically allocate a memory location to it—they manage all the addressing under the hood, and the programmer works only with the \"names\" they declare (yes, you can christen 4 294 967 296 places on a computer).\n",
    "\n",
    "However, memory locations for holding values aren't the only thing that can be given \"names\". Blocks of code (sub-routines) which can be called with just one line of code, several memory blocks at once, and much more can be given a \"name\". The general term for this \"name\" is an **identifier**. The table gives some common uses of identifiers (don't worry if you don't understand these—they will be covered in the two notebooks about sections 2 and 4).\n",
    "\n",
    "| Structure | Use |\n",
    "| :-- | :-- |\n",
    "| variable | single memory location into which can hold a value |\n",
    "| array/list | series of consecutive memory locations, accessed using the identifier and a unique number |\n",
    "| class | a template for creating identifiers (A Level P4) |\n",
    "| sub-routine | name given to a set of instructions that will be called with the identifier |"
   ]
  },
  {
   "cell_type": "markdown",
   "metadata": {
    "tags": [
     "AL9608",
     "AL9618"
    ]
   },
   "source": [
    "# 2.1: Algorithm design and problem-solving"
   ]
  },
  {
   "cell_type": "markdown",
   "metadata": {
    "tags": [
     "AL9608",
     "AL9618",
     "IG0478",
     "IG0984"
    ]
   },
   "source": [
    "## 2.1.1: Algorithms\n",
    "An <b>algorithm</b> is a solution to a problem expressed as a sequence of\n",
    "defined steps.\n",
    "\n",
    "An algorithm may be documented using any of the following:\n",
    "* Structured English\n",
    "* Flowcharts\n",
    "* Pseudocode"
   ]
  },
  {
   "cell_type": "markdown",
   "metadata": {
    "tags": [
     "AL9608",
     "AL9618"
    ]
   },
   "source": [
    "### 1: Identifier tables\n",
    "An <b>identifier table</b> should be used in planning. It should list the identifier, its datatype and its purpose.\n",
    "\n",
    "| Identifier | Datatype | Purpose |\n",
    "| :-- | :-- | :-- |\n",
    "| `_pi` | `REAL` | constant $\\pi = 3.1415$ |\n",
    "| `radius` | `REAL` | variable for user input radius |\n",
    "| `area` | `REAL` | variable for the area of the circle |"
   ]
  },
  {
   "cell_type": "markdown",
   "metadata": {
    "tags": [
     "AL9608",
     "AL9618",
     "IG0478",
     "IG0984"
    ]
   },
   "source": [
    "### 2: Basic constructs\n",
    "Many algorithms consist of the four basic constructs of programming.\n",
    "* **Assignment:** storing a value, either a *literal* value or an *expression* that returns a value, in a variable.\n",
    "* **Sequence:** program statements may execute consecutively, or in parallel alongside eachother. The sequence need not be known ahead of time and can be determined programmatically.\n",
    "* **Selection:** programs can determine which statements are to be execute based on conditions (using `IF` and `CASE` structures, for example).\n",
    "* **Repetition:** statements in a program can be repeated either a fixed number of times, or based on a condition.\n",
    "\n",
    "Simple algorithms follow the **input-process-output cycle** at various places, i.e., they take in an input, perform some processing on it, and then return it back. For example, consider an algorithm which takes in the radius `r` of a circle as its input. It then multiplies the value with $2 \\pi$ (this is the processing). Finally it outputs the product `2 * _pi * r` (the expression $2 \\pi r$) which is the length of the circumference of the circle."
   ]
  },
  {
   "cell_type": "markdown",
   "metadata": {
    "tags": [
     "AL9608",
     "AL9618"
    ]
   },
   "source": [
    "### 3: Decomposition, stepwise refinement and pattern recognition\n",
    "**Decomposition** is the process of breaking down a complex process into smaller parts. The process can be broken down repeatedly until the sub-tasks can be performed by small and manageable **procedures** or **functions**; this process is called **stepwise refinement**. Throughout this process, **pattern recognition** is used to identify those parts which are similar and could use the same solution."
   ]
  },
  {
   "cell_type": "markdown",
   "metadata": {
    "tags": [
     "AL9608",
     "AL9618",
     "IG0478",
     "IG0984"
    ]
   },
   "source": [
    "# 2.3: Programming"
   ]
  },
  {
   "cell_type": "markdown",
   "metadata": {
    "tags": [
     "AL9608",
     "AL9618",
     "IG0478",
     "IG0984"
    ]
   },
   "source": [
    "## 2.2.1: Data types\n",
    "### 1: The types\n",
    "Some examples of the **atomic** data types commonly used in program are given below. Atomic datatypes are the fundamental datatypes, and cannot be decomposed into other types.\n",
    "\n",
    "**Note:** the names of most datatypes (integers, float, strings et cetera) are used as common nouns, and begin with a lowercase. However, the Boolean datatype is named after the mathematician [George Bool](https://en.wikipedia.org/wiki/George_Boole), so it often begins with an uppercase 'B' when discussing in textbooks or other literature. However, when programming, you should follow the syntax of the language you're working with. In Python 3, we write `bool()` to force conversion."
   ]
  },
  {
   "cell_type": "code",
   "execution_count": null,
   "metadata": {
    "tags": [
     "AL9608",
     "AL9618",
     "IG0478",
     "IG0984"
    ]
   },
   "outputs": [],
   "source": [
    "# Common names\n",
    "UnsignedWholeNumber = 32\n",
    "SignedWholeNumber = -128\n",
    "RealNumber = 3.1415\n",
    "Boolean = True\n",
    "Character = 'T'\n",
    "String = \"Hello World!\""
   ]
  },
  {
   "cell_type": "code",
   "execution_count": null,
   "metadata": {
    "tags": [
     "AL9608",
     "AL9618",
     "IG0478",
     "IG0984"
    ]
   },
   "outputs": [],
   "source": [
    "# Python declarations\n",
    "UnsignedWholeNumber = int(32)\n",
    "SignedWholeNumber = int(-128)\n",
    "RealNumber = float(3.1415)\n",
    "Boolean = bool(True)\n",
    "Character = str('T')\n",
    "String = str(\"Hello World!\")"
   ]
  },
  {
   "cell_type": "code",
   "execution_count": null,
   "metadata": {
    "tags": [
     "Extended"
    ]
   },
   "outputs": [],
   "source": [
    "### Checking the datatype of an expression\n",
    "print(type(1))\n",
    "print(type('1'))\n",
    "print(type(\"1\"))\n",
    "print(type(True))\n",
    "print(type('True'))\n",
    "print(type(3.14))\n",
    "print(type(\"3.14\"))\n",
    "\n",
    "# NOTE:  You'll see that the output has the term \"class\".\n",
    "#        This is a topic from paper 4 (A2), and it's \n",
    "#        quite interesting—you can define your own datatypes!\n",
    "#        It also makes it much easier to manage large projects.\n",
    "#        Keyword for further research: Object Oriented Programming"
   ]
  },
  {
   "cell_type": "markdown",
   "metadata": {
    "tags": [
     "General",
     "Used"
    ]
   },
   "source": [
    "### 2: Converting between datatypes\n",
    "It is often important to convert between datatypes. For example, if you have to print (output) a numerical value, it's good practice to explicitly convert it to a string, because that allows you to perform string manipulation on it.\n",
    "\n",
    "Here's the general syntax:\n",
    "```python\n",
    "datatype(expression) -> datatype\n",
    "```\n",
    "\n",
    "You'll find yourself using this a lot with `print()` and `input()` statements. It's common to convert to and from a string."
   ]
  },
  {
   "cell_type": "code",
   "execution_count": null,
   "metadata": {
    "tags": [
     "General",
     "Used"
    ]
   },
   "outputs": [],
   "source": [
    "### Example of conversion\n",
    "### Here we convert various datatypes to an integer\n",
    "print(type(int(1)))\n",
    "print(type(int('1')))\n",
    "print(type(int(1.1)))"
   ]
  },
  {
   "cell_type": "code",
   "execution_count": null,
   "metadata": {
    "tags": [
     "General",
     "Used"
    ]
   },
   "outputs": [],
   "source": [
    "### Example of conversion\n",
    "### Here we convert various datatypes to an string\n",
    "print(type(str(1)))\n",
    "print(type(str('1')))\n",
    "print(type(str(1.1)))"
   ]
  },
  {
   "cell_type": "markdown",
   "metadata": {
    "tags": [
     "AL9608",
     "AL9618",
     "IG0478",
     "IG0984"
    ]
   },
   "source": [
    "## 2.3.1: Basics"
   ]
  },
  {
   "cell_type": "markdown",
   "metadata": {
    "tags": [
     "AL9608",
     "AL9618",
     "IG0478",
     "IG0984"
    ]
   },
   "source": [
    "### 1: Declaration of variables and constants\n",
    "All variables and constants used in a program must be declared explicitly. In Python, it is usual to write the data type using a **comment**, as declarations without the name of the type are legal.\n",
    "\n",
    "**Note:** Python 3 doesn't really support constants, although [hacky workarounds](https://stackoverflow.com/questions/2682745/how-do-i-create-a-constant-in-python) do exist. By convention, you can begin a variable name with an underscore `_` to signify to fellow programmers that a value is a constant. However, this doesn't stop them from assigning a value to it."
   ]
  },
  {
   "cell_type": "code",
   "execution_count": null,
   "metadata": {
    "tags": [
     "AL9608",
     "AL9618",
     "IG0478",
     "IG0984"
    ]
   },
   "outputs": [],
   "source": [
    "#### Declare and initialize a variable\n",
    "counter = 0     # INTEGER\n",
    "\n",
    "### Declare and initialize a constant\n",
    "_pi = 22 / 7    # REAL"
   ]
  },
  {
   "cell_type": "markdown",
   "metadata": {
    "tags": [
     "Extended"
    ]
   },
   "source": [
    "### Re-assignment\n",
    "As their name suggests, you can change the value of an identifier once you declare it. However, in many languages, you cannot change the *datatype* of an identifier once it's assigned. Such languages are said to be **strongly typed**. For example, with C++, if you make an `int` variable, you cannot convert it to a `float` or a `char` (character) later.\n",
    "\n",
    "```c++\n",
    "// C++ example 1\n",
    "bool variable1 = true;  // variable is now of type Boolean\n",
    "variable1 = not true;  // this is a valid statement\n",
    "variable1 = false; // this is also a valid statement\n",
    "```\n",
    "\n",
    "```c++\n",
    "// C++ example 2\n",
    "bool variable2 = true;  // variable is now of type Boolean\n",
    "int variable2 = 6;  // this would raise an exception during compilation\n",
    "char variable2 = 'x'; // this would also raise an error during compilation\n",
    "```\n",
    "\n",
    "Some (often interpreted) languages, like Python and JavaScript, are said to be **loosely typed** or **weakly typed**. If you assign a value to an identifier, you can assign a different type later.\n",
    "\n",
    "Further reading:\n",
    "* [Wikipedia](https://en.wikipedia.org/wiki/Strong_and_weak_typing)\n",
    "* [Medium article](https://medium.com/android-news/magic-lies-here-statically-typed-vs-dynamically-typed-languages-d151c7f95e2b)"
   ]
  },
  {
   "cell_type": "code",
   "execution_count": null,
   "metadata": {
    "tags": [
     "Extended"
    ]
   },
   "outputs": [],
   "source": [
    "### Re-assigning values of the of the same type\n",
    "variable1 = 1\n",
    "print (type(variable), variable)\n",
    "\n",
    "variable1 = 34\n",
    "print (type(variable), variable)\n",
    "\n",
    "variable1 = 7\n",
    "print (type(variable), variable)\n",
    "\n",
    "variable1 = 1550\n",
    "print (type(variable), variable)"
   ]
  },
  {
   "cell_type": "code",
   "execution_count": null,
   "metadata": {
    "tags": [
     "Extended"
    ]
   },
   "outputs": [],
   "source": [
    "### Re-assigning values of the of different types\n",
    "variable2 = 1\n",
    "print (type(variable), variable)\n",
    "\n",
    "variable2 = 3.14159\n",
    "print (type(variable), variable)\n",
    "\n",
    "variable2 = \"Hello\"\n",
    "print (type(variable), variable)\n",
    "\n",
    "variable2 = False\n",
    "print (type(variable), variable)"
   ]
  },
  {
   "cell_type": "markdown",
   "metadata": {
    "tags": [
     "AL9608",
     "AL9618",
     "IG0478",
     "IG0984"
    ]
   },
   "source": [
    "### 2: Perform input and output (interact with the user)\n",
    "It is often essential for programs to interact with the user. There are two basic ways this can be done: by asking for a value using the `input()` function, and giving an output using the `print()` function.\n",
    "\n",
    "General syntax:\n",
    "```python\n",
    "input(\"prompt\") -> str\n",
    "print(\"message\")\n",
    "```\n",
    "\n",
    "When taking an input from a user, it is usual to force **type conversion**, i.e., convert the `STRING` data **returned** by the `input()` function into whatever type is required. Suppose a user enters the number five hundred and thirty seven: the `input()` statement returns a `STRING` that has the characters `'5'`, `'3'` and `'7'`, not the mathematical value $(5 \\times 100) + (3 \\times 10) + (7 \\times 1) = 537$; this string cannot be processed mathematically. In general, any value (and not just from `input()`) can be converted to another datatype. See the general format below:\n",
    "\n",
    "```python\n",
    "# Input a string (no conversion)\n",
    "identifier = input(\"prompt message: \")\n",
    "\n",
    "# Input a different value (convert)\n",
    "identifier = datatype(input(\"prompt message: \"))\n",
    "```"
   ]
  },
  {
   "cell_type": "code",
   "execution_count": null,
   "metadata": {
    "tags": [
     "AL9608",
     "AL9618",
     "IG0478",
     "IG0984"
    ]
   },
   "outputs": [],
   "source": [
    "### Input a value from a user\n",
    "name = input(\"Enter your name: \")       # python allows the prompt and the input statements to be handled in one line\n",
    "\n",
    "### Output a value\n",
    "print (\"Your name is\", name)"
   ]
  },
  {
   "cell_type": "code",
   "execution_count": null,
   "metadata": {
    "tags": [
     "AL9608",
     "AL9618",
     "IG0478",
     "IG0984"
    ]
   },
   "outputs": [],
   "source": [
    "### Input a numeric value\n",
    "base = int(input(\"\\nEnter the number you want to square: \"))  # the int() command has been used to force type conversion to INTEGER; STRING type would be considered otherwise\n",
    "square = base ** 2.0\n",
    "\n",
    "### Output a value\n",
    "print(\"The square of\", base, \"is\", square)"
   ]
  },
  {
   "cell_type": "markdown",
   "metadata": {
    "tags": [
     "Extended"
    ]
   },
   "source": [
    "#### The `end` value in the output statement\n",
    "The print statement allows us to specify an optional `end` argument, which describes what is printed after a string—if nothing is specified, a newline `'\\n'` is printed. This is useful in printing repeatedly (such as inside a loop)."
   ]
  },
  {
   "cell_type": "code",
   "execution_count": null,
   "metadata": {
    "tags": [
     "Extended"
    ]
   },
   "outputs": [],
   "source": [
    "### Demo without the end character\n",
    "print (\"This is one line\")\n",
    "print (\"This is another line\")"
   ]
  },
  {
   "cell_type": "code",
   "execution_count": null,
   "metadata": {
    "tags": [
     "Extended"
    ]
   },
   "outputs": [],
   "source": [
    "### Demo with the end character as a space\n",
    "print (\"This\", end = ' ')\n",
    "print (\"is\", end = ' ')\n",
    "print (\"one\", end = ' ')\n",
    "print (\"line\")  # print a blank line after the message"
   ]
  },
  {
   "cell_type": "code",
   "execution_count": null,
   "metadata": {
    "tags": [
     "Extended"
    ]
   },
   "outputs": [],
   "source": [
    "### Demo with the end character as a comma followed by a space\n",
    "print (\"You need to get: \", end='')     # end can also be empty\n",
    "print (\"bananas\", end = \", \")\n",
    "print (\"oranges\", end = \", \")\n",
    "print (\"and apples\", end = '.')"
   ]
  },
  {
   "cell_type": "markdown",
   "metadata": {
    "tags": [
     "AL9608",
     "AL9618",
     "IG0478",
     "IG0984"
    ]
   },
   "source": [
    "## 2.3.3: Selection\n",
    "Selection statements are almost solely responsible for allowing programmers to write any \"smart\" programs. They allow statements to be executed selectively, based on a condition, or a set thereof."
   ]
  },
  {
   "cell_type": "markdown",
   "metadata": {
    "tags": [
     "AL9608",
     "AL9618",
     "IG0478",
     "IG0984"
    ]
   },
   "source": [
    "### 0: Logic statements\n",
    "Conditions are often specified using Boolean logic statements, which are expressions that return a `TRUE` or `FALSE`. Logic statements are essential because they let a program control execution (using loops, selection statements, and conditional loops).\n",
    "\n",
    "Logic statements often use comparison symbols—it is a good idea to be familiar with these:\n",
    "\n",
    "| Symbol | Purpose | Use |\n",
    "| :-: | :-- | :-- |\n",
    "| `==` | checks whether two values are equal | `a == b` returns `True` if `a` and `b` have the same value |\n",
    "| `!=` | checks whether two values are unequal | `a != b` returns `True` if `a` and `b` do not have the same value |\n",
    "| `>` | checks one value is greater than the other | `a > b` returns `True` if `a` is greater than `b` |\n",
    "| `<` | checks one value is lesser than the other | `a < b` returns `True` if `a` is lesser than `b` |\n",
    "| `>=` | checks one value is greater or equal than the other | `a >= b` returns `True` if `a` is greater than `b`, or if `a` and `b` have the same value |\n",
    "| `<=` | checks one value is lesser or equal than the other | `a <= b` returns `True` if `a` is lesser than `b`, or if `a` and `b` have the same value |\n",
    "| `and` | checks whether two conditions evaluate to `True` | `a and b` returns `True` if `a` and `b` both evaluate to `True` at the time of the comparison |\n",
    "| `or` | checks whether at least one of two conditions evaluate to `True` | `a or b` returns `True` if at least one of `a` and `b` evaluate to `True` at the time of the comparison |\n",
    "| `not` | negates a logic statement | `not a` returns `True` if `a` is `False` |\n",
    "| `in` | checks for an element in a list | `a in b` returns `True` is element `a` is present in the list `b` |\n",
    "\n",
    "The general syntax for using logic statement is:\n",
    "```python\n",
    "expression1 operator expression2 -> bool\n",
    "```\n",
    " `expression1` and `expression2` are two expressions that return a Boolean value. They can themselves be made of logic statements. The statements `in` and `not`, however, are exceptions to this rule, and we'll discuss how to use them by example."
   ]
  },
  {
   "cell_type": "code",
   "execution_count": null,
   "metadata": {
    "tags": [
     "AL9608",
     "AL9618",
     "IG0478",
     "IG0984"
    ]
   },
   "outputs": [],
   "source": [
    "### Demonstrating comparision\n",
    "print(1 == 1, 2 == 1)\n",
    "print(0 > 1, 2 > 1, 1 > 1)\n",
    "print(0 >= 1, 2 >= 1, 1 >= 1)"
   ]
  },
  {
   "cell_type": "code",
   "execution_count": null,
   "metadata": {
    "tags": [
     "AL9608",
     "AL9618",
     "IG0478",
     "IG0984"
    ]
   },
   "outputs": [],
   "source": [
    "### Demonstrating combining\n",
    "print(True and True, False and True, False and False)\n",
    "print(not True, not False)\n",
    "\n",
    "print((1 == 1) and (2 == 1))\n",
    "print((1 == 1) or (2 == 1))\n",
    "print(not (1 == 2))"
   ]
  },
  {
   "cell_type": "code",
   "execution_count": null,
   "metadata": {
    "tags": [
     "Extended"
    ]
   },
   "outputs": [],
   "source": [
    "### Demonstrating 'in' (see Arrays below)\n",
    "print(1 in [7, 6, 1, 8, 2, 3, 5])\n",
    "print(9 in [7, 6, 1, 8, 2, 3, 5])\n",
    "print(1 not in [7, 6, 1, 8, 2, 3, 5])\n",
    "\n",
    "print('A' in \"Apple\")\n",
    "print('B' in \"Apple\")\n",
    "print('A' in 'A')\n",
    "print('B' in 'A')"
   ]
  },
  {
   "cell_type": "markdown",
   "metadata": {
    "tags": [
     "AL9608",
     "AL9618",
     "IG0478",
     "IG0984"
    ]
   },
   "source": [
    "### 1: If-else statements\n",
    "In its simplest form, an `IF` construct may be thought of as a \"switch\" that determines whether or not a block of code gets executed. Consider that a block of program code called `trueStatements` is placed in the `IF` section of the statement. An **expression** `condition()` that returns a `BOOLEAN` value is used to determine how the construct behaves. Then `trueStatements` are executed only if `condition()` evaluates to `TRUE`. For example, a child is punished only if they conduct mischief; their parents just ignore the concept of punishments otherwise.\n",
    "\n",
    "An extremely useful property is the optional `ELSE` construct. This contains a block of code (let's call it `falseStatements`) that would execute *instead of `trueStatements`* if `condition()` evaluated to `FALSE`. Continuing the analogy with particularly generous parents, the child would be rewarded every time they do *not* conduct mischief but punished otherwise.\n",
    "\n",
    "**NOTE:** It is possible to **nest** `IF ELSE` statements, i.e., execute one inside another. This is also true of most common constructs."
   ]
  },
  {
   "cell_type": "code",
   "execution_count": null,
   "metadata": {
    "tags": [
     "AL9608",
     "AL9618",
     "IG0478",
     "IG0984"
    ]
   },
   "outputs": [],
   "source": [
    "### Input an integer from the user\n",
    "integer = int(input(\"Enter an integer: \"))\n",
    "\n",
    "### Compare the integer with 1023\n",
    "if integer == 1023:\n",
    "    ## Block of statements to execute if the condition is true\n",
    "    print (\"You entered the largest 10-bit unsigned integer!!\")\n",
    "\n",
    "    ## Nothing happens if the integer was not 1023 (i.e., the condition was false)"
   ]
  },
  {
   "cell_type": "code",
   "execution_count": null,
   "metadata": {
    "tags": [
     "AL9608",
     "AL9618",
     "IG0478",
     "IG0984"
    ]
   },
   "outputs": [],
   "source": [
    "### Input the user's favourite subject\n",
    "favouriteSubject = input(\"\\nEnter your favourite subject: \")\n",
    "\n",
    "### Compare the favourite subject with Computer Science\n",
    "if favouriteSubject == \"Computer Science\":\n",
    "    ## Block of statements to execute if the condition is true\n",
    "    print (\":)\")\n",
    "\n",
    "else:\n",
    "    ## Block of statements to execute if the condition is false\n",
    "    print (\":(\")"
   ]
  },
  {
   "cell_type": "code",
   "execution_count": null,
   "metadata": {
    "tags": [
     "AL9608",
     "AL9618",
     "IG0478",
     "IG0984"
    ]
   },
   "outputs": [],
   "source": [
    "### Input the user's favourite subject\n",
    "favouriteSubject = input(\"\\nEnter your favourite subject: \")\n",
    "\n",
    "### Compare the favourite subject with Computer Science\n",
    "if favouriteSubject == \"Computer Science\":\n",
    "    ## Block of statements to execute if the condition is true\n",
    "    print (\":)\")\n",
    "\n",
    "else:\n",
    "    ## Block of statements to execute if the condition is false\n",
    "    ## This just happens to be another if-else statement\n",
    "\n",
    "    ## The nested condition here uses the same variable as the parent\n",
    "    ## if condition, but this is not at all necessary; both the if\n",
    "    ## conditions are completely independent.\n",
    "    if favouriteSubject == \"Further Mathematics\":\n",
    "        ## Block of statements to execute if the nested condition is true\n",
    "        print (\"You may enjoy trying out Computer Science.\")\n",
    "    \n",
    "    else:\n",
    "        ## Block of statements to execute if the nested condition is false\n",
    "        print (\":(\")"
   ]
  },
  {
   "cell_type": "markdown",
   "metadata": {
    "tags": [
     "AL9608",
     "AL9618",
     "IG0478",
     "IG0984"
    ]
   },
   "source": [
    "### 2: Case statements\n",
    "These also let instructions to be executed selectively, based on the value of an expression (let's call it `caseExpression()`). However, the `caseExpression()` can return any **atomic data type** and not just Boolean. The programmer must allocate different values for each value of `caseExpression()` they can anticipate; each value and its corresponding statement is called a **case**. For example, a sub-routine returns the name of a weekday given its number (where Monday is 1). `CASE` structures allow an `OTHERWISE` case to be defined to handle unexpected values (day number 16, for example).\n",
    "\n",
    "Python 3 does not natively support `CASE` structures, but an extension of the if-else statements allows case structures to be implemented. Apart from the Boolean `if` and `else` statements, Python supports `elif` statements (this is equivalent to `else if () { }` in some languages like C++). Using this approach, each `elif` and a single `if` statement form the cases the programmer must explicitly program; the `else` statement forms the `OTHERWISE` case the program needn't care to program."
   ]
  },
  {
   "cell_type": "code",
   "execution_count": null,
   "metadata": {
    "tags": [
     "AL9608",
     "AL9618",
     "IG0478",
     "IG0984"
    ]
   },
   "outputs": [],
   "source": [
    "### Input a number for the day of the week\n",
    "dayNumber = int(input(\"Enter the number of the day: \"))\n",
    "\n",
    "\n",
    "### Use if-elif-else statements to output the name of the day.\n",
    "  # The statements from dayNumber = 1 to dayNumber = 7 correspond\n",
    "  # to one weekday each.\n",
    "if dayNumber == 1:\n",
    "    print(\"Monday\")\n",
    "\n",
    "elif dayNumber == 2:\n",
    "    print(\"Tuesday\")\n",
    "\n",
    "elif dayNumber == 3:\n",
    "    print(\"Wednesday\")\n",
    "\n",
    "elif dayNumber == 4:\n",
    "    print(\"Thursday\")\n",
    "\n",
    "elif dayNumber == 5:\n",
    "    print(\"Friday\")\n",
    "\n",
    "elif dayNumber == 6:\n",
    "    print(\"Saturday\")\n",
    "\n",
    "elif dayNumber == 7:\n",
    "    print(\"Sunday\")\n",
    "\n",
    "### This is used to handle an erroneous value\n",
    "else:\n",
    "    print(\"The value\", dayNumber, \"does not correspond to a weekday.\")"
   ]
  },
  {
   "cell_type": "markdown",
   "metadata": {
    "tags": [
     "AL9608",
     "AL9618",
     "IG0478",
     "IG0984"
    ]
   },
   "source": [
    "## 2.3.4: Iteration\n",
    "**Loops** allow blocks of code to be repeated, and are another crucial construct. There are two basic categories of loops:\n",
    "1. **Count controlled loops:** for loops\n",
    "2. **Condition based loops:** while loops"
   ]
  },
  {
   "cell_type": "markdown",
   "metadata": {
    "tags": [
     "AL9608",
     "AL9618",
     "IG0478",
     "IG0984"
    ]
   },
   "source": [
    "### Count controlled loops\n",
    "The number of **iterations** that have to occur has to be specified in advance. A common example is a `FOR` loop. Usually, a variable called a **counter** is declared with some initial value (often 0), and with each **pass** of the loop, some mathematical operation is performed on it (often adding 1, aka **incrementing**); if a constant value is added/subtracted, the value is called the **step**. The value of the counter can be accessed like any other identifier. This readily available number, that goes through a pre-determined number of values, makes `FOR` loops a natural choice in many applications involving **arrays**. A `FOR` loop terminates when some condition, related to the counter, is met. For example, a loop to print out the marks students of a class with 25 students scored, would start with the counter set to 0, increment it after each pass (after printing a mark) and then terminate when the counter is equal to 24."
   ]
  },
  {
   "cell_type": "code",
   "execution_count": null,
   "metadata": {
    "tags": [
     "AL9608",
     "AL9618",
     "IG0478",
     "IG0984"
    ]
   },
   "outputs": [],
   "source": [
    "### Output ten consecutive integers using a \"normal\" for loop\n",
    "for counter in range(10):       # we can call the identifier counter as it behaves like a counter in this case\n",
    "    print (counter, end = ' ')"
   ]
  },
  {
   "cell_type": "code",
   "execution_count": null,
   "metadata": {
    "tags": [
     "AL9608",
     "AL9618",
     "IG0478",
     "IG0984"
    ]
   },
   "outputs": [],
   "source": [
    "### Use a counter to traverse an array\n",
    "Fruits = [\"Orange\", \"Papaya\", \"Apple\", \"Banana\", \"Plum\"]    # declare a list\n",
    "\n",
    "for counter in range(5):                # initialize the loop to step through each fruit\n",
    "    print (Fruits[counter], end = ' ')  # now we must manually index the array"
   ]
  },
  {
   "cell_type": "markdown",
   "metadata": {
    "tags": [
     "Extended"
    ]
   },
   "source": [
    "#### The `range()` function\n",
    "In Python 3, the `for` loop does not obey a counter. Instead, `for` loops always step through the elements of a list, and it is possible to avoid manually indexing an array if all of its contents have to accessed in the order they are available: the identifier previously referred to as a counter would just return the array element corresponding to the current pass. Having written so, Python 3 does offer a function `range(n)` that returns a list with `n` consecutive integers starting at zero—a `for` loop can use this to control its iterations. `range()` allows the initial value, final value and step to be controlled, and the it is encouraged to explore this.\n",
    "\n",
    "You can try to print the values of `range()`, as below, to see how it behaves."
   ]
  },
  {
   "cell_type": "code",
   "execution_count": null,
   "metadata": {
    "tags": [
     "Extended"
    ]
   },
   "outputs": [],
   "source": [
    "### Demonstrate ranges\n",
    "print(range(10))\n",
    "print(range(4, 10))\n",
    "print(range(4, 10, 2))"
   ]
  },
  {
   "cell_type": "code",
   "execution_count": null,
   "metadata": {
    "tags": [
     "Extended"
    ]
   },
   "outputs": [],
   "source": [
    "### Traverse an array using a for loop\n",
    "Fruits = [\"Orange\", \"Papaya\", \"Apple\", \"Banana\", \"Plum\"]    # declare a list\n",
    "\n",
    "for fruit in Fruits:            # initialize the loop to step through each fruit\n",
    "    print (fruit, end = ' ')"
   ]
  },
  {
   "cell_type": "markdown",
   "metadata": {
    "tags": [
     "AL9608",
     "AL9618",
     "IG0478",
     "IG0984"
    ]
   },
   "source": [
    "### Condition based loops\n",
    "The number of times a loop executes need not be known in advance. Instead, the loop would terminate when some **condition** is met. The condition must be an expression that evaluates to a Boolean value. A **pre-condition loop** (a `WHILE` loop) runs while the expression evaluates to `TRUE` and terminates as soon as it evaluates to `FALSE`. A **post-condition loop** (a `REPEAT UNTIL` loop) until the expression evaluates to `TRUE`. As their names suggest, the condition is checked *before* the first iteration in a pre-condition loop, and it is possible that the loop *may not execute at all* if the condition is initially `FALSE`; the condition is checked *after* the first iteration in a post-condition loop, and it *must execute at least once*.\n",
    "\n",
    "\n",
    "Python 3 does not support post-condition loops; `WHILE` loops are the only condition loops that can be used."
   ]
  },
  {
   "cell_type": "code",
   "execution_count": null,
   "metadata": {
    "tags": [
     "AL9608",
     "AL9618",
     "IG0478",
     "IG0984"
    ]
   },
   "outputs": [],
   "source": [
    "### Use a while loop to make sure a user enters a given value\n",
    "### The loop would not terminate until you enter Computer Science.\n",
    "### This is a technique called validation, and is often used\n",
    "  # to check whether or not a value makes sense.\n",
    "while favouriteSubject != \"Computer Science\":\n",
    "    favouriteSubject = input(\"Enter your favourite subject: \")\n",
    "\n",
    "print(\":)\\n\")"
   ]
  },
  {
   "cell_type": "code",
   "execution_count": null,
   "metadata": {
    "tags": [
     "AL9608",
     "AL9618",
     "IG0478",
     "IG0984"
    ]
   },
   "outputs": [],
   "source": [
    "### Make the validation more friendly\n",
    "### We are leveraging the property that the loop may not\n",
    "  # execute at all—if the value meets our criteria the first\n",
    "  # time, we don't have to enter the loop\n",
    "favouriteSubject = input(\"Enter your favourite subject: \")\n",
    "\n",
    "while favouriteSubject != \"Computer Science\":\n",
    "    print (\"\\nYou are lying about your favourite subject! Try again!\")\n",
    "    favouriteSubject = input(\"Enter your favourite subject again: \")\n",
    "\n",
    "print(\":)\\n\")"
   ]
  },
  {
   "cell_type": "markdown",
   "metadata": {
    "tags": [
     "AL9608",
     "AL9618"
    ]
   },
   "source": [
    "## 2.3.6: Structured programming\n",
    "Properly structured programs have benefits other than readability: they often execute more efficiently and **subroutines** are the backbone of **decomposition**. A subroutine can be thought of as a shortcut to a block of statements. If a block of statements defined inside a subroutine have to be executed, they don't have to written in their entirety; instead, they can be **called** using a single line of code. Subroutines allow code to be reused very efficiently (and allow lazy programmers  to exist) as a subroutine can be called in several places without having to rewrite in each instance. There are two basic concepts that determine how a subroutine is designed:\n",
    "\n",
    "* **Arguments**: It is possible to make a routine run on the basis of a value **passed** into it. For example, for a **function** that squares a number $x$ and returns $x^2$, $x$ is the argument that is passed into it. The function *cannot run* if this is not provided. In contrast, a subroutine that returns a random number, always between 0 and 1, needn't have any arguments.\n",
    "* **Return value(s)**: A **function** can **return** a value after execution. Continuing the example of $x^2$ from above, the function can return the value to the parent construct. This means that if it is placed inside another subroutine (such as the `print()` statement), the parent routine can access the value (the `print()` statement can print it); or if the function is assigned to an *identifier*, the value will be stored in that identifier. In contrast, a **procedure** does not return anything—it cannot be assigned to an identifier or placed inside a construct that expects a value. For example, the squaring subroutine might simply print the value out to the user—in this case it needn't return anything.\n",
    "\n",
    "There are two types of subroutines: a `PROCEDURE` and a `FUNCTION`. In both cases, the programmer must decide whether or not any arguments are required. The only difference between them is of returning values: a function *must return a value* and a procedure *cannot return a value*. While the distinction between a procedure and a function can be crucial when planning a project, they are defined almost identically in Python 3. If a subroutine has the `return` keyword to return a value, it is a function; else it is a procedure. Specifying arguments/**parameters** is similar too—if a parameter is specified in the **declaration**, the subroutine will accept arguments; else it will not.\n",
    "\n",
    "Further reading: [The difference between **parameter** and **argument**](https://stackoverflow.com/questions/1788923/parameter-vs-argument)"
   ]
  },
  {
   "cell_type": "code",
   "execution_count": null,
   "metadata": {
    "tags": [
     "AL9608",
     "AL9618"
    ]
   },
   "outputs": [],
   "source": [
    "### Declare a procedure that prints a greeting\n",
    "def greet():    # the def keyword is used to declare any subroutine\n",
    "                # the round brackets must be used with a subroutine\n",
    "    print (\"Hello World!\")\n",
    "    print (\"Welcome to my first subroutine!\")\n",
    "    print (\"It is boring, but the hope is that you enjoyed learning about it.\")\n",
    "\n",
    "### Run the procedure\n",
    "greet()         # the name just has to be typed with the round brackets"
   ]
  },
  {
   "cell_type": "code",
   "execution_count": null,
   "metadata": {
    "tags": [
     "AL9608",
     "AL9618"
    ]
   },
   "outputs": [],
   "source": [
    "### Declare a function\n",
    "def returnPi():\n",
    "    _pi = 22.0 / 7.0\n",
    "    return _pi  # the return keyword is used to pass a value to the parent construct\n",
    "\n",
    "### Run the function and pass its output to a print statement\n",
    "print (\"This is the value of pi (approx):\", returnPi())  # the function behaves as a variable"
   ]
  },
  {
   "cell_type": "code",
   "execution_count": null,
   "metadata": {
    "tags": [
     "AL9608",
     "AL9618"
    ]
   },
   "outputs": [],
   "source": [
    "### Declare a procedure with an argument\n",
    "def greetName(name):    # the identifier in the round brackets will be the argument(s)\n",
    "    print (\"Hello from \" + name + \"!\")\n",
    "    print (\"Welcome to your first subroutine!\")\n",
    "    print (\"It is boring, but the hope is that you enjoyed learning about it.\")\n",
    "\n",
    "### Run the procedure\n",
    "greetName(\"Guido van Rossum\")   # the value of the argument is inside the round brackets"
   ]
  },
  {
   "cell_type": "code",
   "execution_count": null,
   "metadata": {
    "tags": [
     "AL9608",
     "AL9618"
    ]
   },
   "outputs": [],
   "source": [
    "### Declare a function with an argument\n",
    "def areaCircle(radius):     # the identifier in the round brackets will be the argument(s)\n",
    "    return (22.0 / 7.0) * (radius ** 2.0)   # the evaluation of an expression be returned directly, without using an identifier\n",
    "\n",
    "### Run the function and pass its output to a print statement\n",
    "r = float(input(\"Enter the radius for a circle: \"))\n",
    "print (\"The area of a circle of\", r, \"units is\", areaCircle(r), \"square units.\")\n",
    "    # note that the output returned by a function may also be used directly without using an identifier"
   ]
  },
  {
   "cell_type": "code",
   "execution_count": null,
   "metadata": {
    "tags": [
     "AL9608",
     "AL9618"
    ]
   },
   "outputs": [],
   "source": [
    "### Declare a function with arguments\n",
    "def areaRectangle(length, breadth):     # the identifier in the round brackets will be the argument(s)\n",
    "    return length * breadth   # the evaluation of an expression be returned directly, without using an identifier\n",
    "\n",
    "### Run the function and pass its output to a print statement\n",
    "l = float(input(\"Enter the length for a rectangle: \"))\n",
    "b = float(input(\"Enter the breadth for a rectangle: \"))\n",
    "print (\"The area of a rectangle of\", str(l) + 'x' + str(b), \"units is\", areaRectangle(l, b), \"square units.\")\n",
    "    # note that the output returned by a function may also be used directly without using an identifier"
   ]
  },
  {
   "cell_type": "markdown",
   "metadata": {
    "tags": [
     "Used",
     "Extended"
    ]
   },
   "source": [
    "A **library** (called a **module** in Python) often allows you to use a number of pre-defined subroutines. Python ships with many modules built in (such as `array`, `time`, `random`, `pickle`—which you may have already used) but many, many more can be [installed using a command-line tool](https://packaging.python.org/tutorials/installing-packages/). Any time the `import` keyword is used, a module is being added to a program."
   ]
  },
  {
   "cell_type": "code",
   "execution_count": null,
   "metadata": {
    "tags": [
     "General",
     "Used"
    ]
   },
   "outputs": [],
   "source": [
    "### Import a library to generate a random number\n",
    "import random\n",
    "\n",
    "### Call a subroutine (function) from the library, and print its output\n",
    "print(random.random())\n",
    "\n",
    "### You can call all the subroutines present in that library\n",
    "print(random.randint(0, 10))\n",
    "print(random.randrange(10))"
   ]
  },
  {
   "cell_type": "markdown",
   "metadata": {
    "tags": [
     "General",
     "Used",
     "AL9608",
     "AL9618",
     "IG0478",
     "IG0984"
    ]
   },
   "source": [
    "## 2.3.5 Built-in functions\n",
    "Besides basic constructs, datatypes, and data structures most programming languages also have multiple **functions** built into them. Using them can not only greatly accelerate development and execution speed, but also often avoid rather ugly code by not requiring the wheel to be reinvented."
   ]
  },
  {
   "cell_type": "markdown",
   "metadata": {
    "tags": [
     "General",
     "Used"
    ]
   },
   "source": [
    "### 1: Length of an object\n",
    "It is possible to extract the length of an object with a single function (it returns an integer). If a string is passed as the parameter, the number of characters is returned. If a list is passed, the number of elements is returned."
   ]
  },
  {
   "cell_type": "code",
   "execution_count": null,
   "metadata": {
    "tags": [
     "General",
     "Used"
    ]
   },
   "outputs": [],
   "source": [
    "### Get length of a string\n",
    "pangram = \"The quick brown fox jumped over a lazy dog.\"\n",
    "print (len(pangram))"
   ]
  },
  {
   "cell_type": "code",
   "execution_count": null,
   "metadata": {
    "tags": [
     "General",
     "Used"
    ]
   },
   "outputs": [],
   "source": [
    "### Get the length of a 1D list\n",
    "Fruits = [\"Orange\", \"Papaya\", \"Apple\", \"Banana\", \"Plum\"]\n",
    "print (len(Fruits))"
   ]
  },
  {
   "cell_type": "code",
   "execution_count": null,
   "metadata": {
    "tags": [
     "General",
     "Used"
    ]
   },
   "outputs": [],
   "source": [
    "### Get the length of a 2D list\n",
    "Marks = [[85, 79, 86], [81, 81, 95], [88, 96, 82], [83, 75, 96], [88, 84, 80]]\n",
    "print (len(Marks))"
   ]
  },
  {
   "cell_type": "markdown",
   "metadata": {
    "tags": [
     "AL9608",
     "AL9618",
     "IG0478",
     "IG0984"
    ]
   },
   "source": [
    "### 2: String manipulation\n",
    "The `STRING` and `CHARACTER` datatypes have numerous applications, beyond handling interaction with the user. Many electronics communicate using strings (for example, a smartphone and a computer connected using USB), and many internal components also communicate with the CPU using strings (for example, the GPS modules in most smartphones output strings formatted using the [NMEA 1083](https://en.wikipedia.org/wiki/NMEA_0183) standard or one of it predecessors). Clearly, then being able to manipulate strings efficiently is an essential skill.\n",
    "\n",
    "**NOTE:** in Python 3, strings written inside double quotes `\"\"` behave like lists—elements can be indexed, popped, deleted and used to iterate `for` loops. However, strings written in single quotes `''` usually behave like traditional strings, and string functions must be used to manipulate them."
   ]
  },
  {
   "cell_type": "markdown",
   "metadata": {
    "tags": [
     "AL9608",
     "AL9618",
     "IG0478",
     "IG0984"
    ]
   },
   "source": [
    "#### Concatenation\n",
    "One of the most useful things that can be done with strings is joining multiple of them together, and this is what will be explored first. There are several interesting actions that can be done using string concatenation in Python 3, and some of these are demonstrated below (not all of these are possible in pseudocode). For concatenating using pseudocode, the syntax will usually be provided on the question paper."
   ]
  },
  {
   "cell_type": "code",
   "execution_count": null,
   "metadata": {
    "tags": [
     "AL9608",
     "AL9618"
    ]
   },
   "outputs": [],
   "source": [
    "### Declare strings\n",
    "string1 = \"Hello\"\n",
    "string2 = \"World\"\n",
    "\n",
    "### Concatenate inside a print statement\n",
    "  # Notice in which case a space is added automatically, and in which case it isn't.\n",
    "print (string1, string2)    # this only works inside a print statement\n",
    "print (string1 + string2)   # this is general and can be used in any assignment, or passed as a value to anything else"
   ]
  },
  {
   "cell_type": "code",
   "execution_count": null,
   "metadata": {
    "tags": [
     "Extended"
    ]
   },
   "outputs": [],
   "source": [
    "### Concatenate with repetition\n",
    "print (\"I am sleepy!\", end = ' ')\n",
    "print ('Z' + ('z' * 5) + ('.' * 3))"
   ]
  },
  {
   "cell_type": "code",
   "execution_count": null,
   "metadata": {
    "tags": [
     "General",
     "Used"
    ]
   },
   "outputs": [],
   "source": [
    "### Concatenate other values when converting automatically\n",
    "print (\"2 times 3 is\", (2 * 3))     # the INTEGER returned by (2 * 3) is converted to a string automatically when concatenating using commas"
   ]
  },
  {
   "cell_type": "code",
   "execution_count": null,
   "metadata": {
    "tags": [
     "General",
     "Used"
    ]
   },
   "outputs": [],
   "source": [
    "### Concatenate other values when converting explicitly\n",
    "print (\"2 times 3 is \" + str(2 * 3))     # the concatenation using + signs only accepts strings, so we must ensure we are returning it a string"
   ]
  },
  {
   "cell_type": "markdown",
   "metadata": {
    "tags": [
     "Extended",
     "Used"
    ]
   },
   "source": [
    "It can be helpful to be familiar with some terms and characters that come up frequently in strings, and more can be explored from [W3 Schools](https://www.w3schools.com/python/gloss_python_escape_characters.asp).\n",
    "\n",
    "| Character(s) | Name | Purpose |\n",
    "| :-- | :-- | :-- |\n",
    "| `'\\n'` | newline (ASCII linefeed) | has the effect of inserting a blank line |\n",
    "| `'\\t'` | tab | has the effect of a tab (four spaces in Python 3) |\n",
    "| `'\\b'` | ASCII backspace | deletes the character occurring before it |\n",
    "| `'\\n'` `'\\t'` `' '` | whitespace | characters that do not appear but may have utility in aligning other characters |\n",
    "| | case | capitalization of a string/character |\n",
    "| | uppercase | capital (A, B, C...) |\n",
    "| | lowercase | small/print (a, b, c...) |\n",
    "| | delimiter | a given character used to separate strings; the comma is the delimiter  in a `.csv` file |\n",
    "\n",
    "Python 3 has a variety of functions, and some of the common ones are demonstrated in the cell below. Exploring [more](https://www.w3schools.com/python/python_ref_string.asp) is encouraged."
   ]
  },
  {
   "cell_type": "code",
   "execution_count": null,
   "metadata": {
    "tags": [
     "AL9608",
     "AL9618",
     "IG0478",
     "IG0984"
    ]
   },
   "outputs": [],
   "source": [
    "### Initialize a string to start working with\n",
    "testString = \"The quick brown fox jumped over the lazy dog!\"\n",
    "\n",
    "### Print its characters one-by-one\n",
    "for character in testString:\n",
    "    print (character, end='')\n",
    "\n",
    "print (\"\")\n",
    "\n",
    "### This can also be used to index individual characters just like a string\n",
    "print (testString[1] + testString[2] + testString[36] + testString[36] + testString[12] + testString[44])"
   ]
  },
  {
   "cell_type": "code",
   "execution_count": null,
   "metadata": {
    "tags": [
     "General"
    ]
   },
   "outputs": [],
   "source": [
    "### Initialize a string to start working with\n",
    "greeting = \"good Day, World!\"\n",
    "\n",
    "### Convert the first character 'g' to uppercase 'G'\n",
    "print (greeting.capitalize())\n",
    "\n",
    "### Invert the case of the string\n",
    "print (greeting.swapcase())\n",
    "\n",
    "### Convert all characters to uppercase, then lowercase\n",
    "print (greeting.upper())\n",
    "print (greeting.lower())"
   ]
  },
  {
   "cell_type": "code",
   "execution_count": null,
   "metadata": {
    "tags": [
     "General",
     "Used"
    ]
   },
   "outputs": [],
   "source": [
    "### Separate words using the new line\n",
    "print (\"\\nEach\\nword\\nappears\\non\\na\\nseparate\\nline\\n\")\n",
    "\n",
    "### Separate words using a tab\n",
    "print (\"Some\\twords\\tappear\\tfurther\\tapart\\tthan\\tothers\\n\")"
   ]
  },
  {
   "cell_type": "code",
   "execution_count": null,
   "metadata": {
    "tags": [
     "Extended"
    ]
   },
   "outputs": [],
   "source": [
    "### Split words based on a delimiter automatically\n",
    "  # and extract them into a list\n",
    "fruitsString = \"Orange;Papaya;Apple;Banana;Plum\"    # the delimiter here is the semicolon\n",
    "Fruits = fruitsString.split(';')                    # extract\n",
    "print (Fruits, '\\n')                                # print to test"
   ]
  },
  {
   "cell_type": "code",
   "execution_count": null,
   "metadata": {
    "tags": [
     "Extended"
    ]
   },
   "outputs": [],
   "source": [
    "### Declare a string without whitespace\n",
    "  # The length of this string will be observed\n",
    "  # because it is easier to observe that here as\n",
    "  # whitespace characters are not visible by definition\n",
    "testString = \"ABCD\"\n",
    "print(testString)\n",
    "print (len(testString))\n",
    "\n",
    "print (\"\")\n",
    "\n",
    "  # Add whitespace to both ends\n",
    "testString = \"ABCD\"\n",
    "testString = \"     \" + testString + \"   \"\n",
    "print(testString)\n",
    "print(len(testString))\n",
    "\n",
    "print (\"\")\n",
    "\n",
    "  # Trim whitespace on the left side only\n",
    "testString = \"ABCD\"\n",
    "testString = \"     \" + testString + \"   \"\n",
    "print(testString.lstrip())\n",
    "print(len(testString.lstrip()))\n",
    "\n",
    "print (\"\")\n",
    "\n",
    "  # Trim all whitespace\n",
    "testString = \"ABCD\"\n",
    "testString = \"     \" + testString + \"   \"\n",
    "print(testString.strip())\n",
    "print(len(testString.strip()))"
   ]
  },
  {
   "cell_type": "markdown",
   "metadata": {
    "tags": [
     "AL9608",
     "AL9618"
    ]
   },
   "source": [
    "### 3: Formatting\n",
    "It is often necessary to **format** numbers (or anything else actually), usually either for presenting them to an end user or for some electronics (as described above). For example, a number may have to be formatted to a specific number of **significant digits**, or be aligned in some direction, or be **padded** (start) with zeros so that its length is fixed—far too many formatting options for all to listed here, but more details can be found at [pyformat.info](https://pyformat.info/#number).\n",
    "\n",
    "In Python 3, numbers (and other data) are formatted using the `.format()` **method**. Consider an example: a message has to be printed to the user, and it must have the value returned by a function formatted into **scientific notation**. The programmer can place curly brackets with an identifier `\"{identifier}\"` within the message, and then follow it by `.format()`—the value(s) are passed to the method as arguments (given below in a generalised form).\n",
    "\n",
    "```Python\n",
    "\"message which has a spot {identifier:formatCode} for values\".format(value)\n",
    "\"message which has {identifierTwo:formatCode} two spots {identifierOne:format} for values\".format(identifierOne=valueOne, identifierTwo=valueTwo)\n",
    "```"
   ]
  },
  {
   "cell_type": "code",
   "execution_count": null,
   "metadata": {
    "tags": [
     "AL9608",
     "AL9618"
    ]
   },
   "outputs": [],
   "source": [
    "### Format one number and print the output\n",
    "someValue = 256\n",
    "print (\"In binary, {number:b} is actually 17.\".format(number = 17))\n",
    "print (\"Although 128 is only three digits long, {number:05} looks like it's 5 digits long.\".format(number = 128))\n",
    "print (\"Here, 300 looks like its aligned to the right.\\n{number:46d}\".format(number = 300))\n",
    "print (\"You can refer to variables too. Like {number}, which we declared above.\".format(number = someValue))\n",
    "print (\"A binary number (like {number:#010b}, which is {number}) should be written in groups of 8 bits.\".format(number = 17))"
   ]
  },
  {
   "cell_type": "markdown",
   "metadata": {
    "tags": [
     "Extended",
     "Used"
    ]
   },
   "source": [
    "#### Formatting using f-strings\n",
    "Since Python 3.6, you can use **f-strings** to insert variables and their values into a string. This makes the code more readable, and provides you lots of options in addition to the formatting we did above.\n",
    "\n",
    "General syntax:\n",
    "```python\n",
    "f\"stringText{value:formatCode}moreText\" -> str\n",
    "F\"stringText{value:formatCode}moreText\" -> str\n",
    "\n",
    "f'stringText{value:formatCode}moreText' -> str\n",
    "F'stringText{value:formatCode}moreText' -> str\n",
    "\n",
    "## The F may be any of uppercase or lowercase.\n",
    "## You may use either of single or double quotes.\n",
    "```\n",
    "\n",
    "In general, outside of A Levels and IGCSEs, f-strings are the preferred way of inserting values into strings like `print()` statements."
   ]
  },
  {
   "cell_type": "code",
   "execution_count": null,
   "metadata": {
    "tags": [
     "Extended",
     "Used"
    ]
   },
   "outputs": [],
   "source": [
    "### Format one number and print the output\n",
    "someValue = 256\n",
    "print (f\"In binary, {17:b} is actually 17.\")\n",
    "print (f\"Although {128} is only three digits long, {128:05} looks like it's 5 digits long.\")\n",
    "print (f\"Here, {300} looks like its aligned to the right.\\n{300:46d}\")\n",
    "print (f\"You can refer to variables too. Like {someValue = }, which we declared above.\")\n",
    "print (f\"A binary number (like {17:#010b}, which is {17}) should be written in groups of 8 bits.\")\n",
    "print (f\"This kind of thing is useful for multiple variables:\\n{someValue}\")"
   ]
  },
  {
   "cell_type": "code",
   "execution_count": null,
   "metadata": {
    "tags": [
     "Extended"
    ]
   },
   "outputs": [],
   "source": [
    "#### Format more complex objects\n",
    "from datetime import datetime\n",
    "\n",
    "## The now() method from this library gives us the current timestamp\n",
    "timeStamp = datetime.now()\n",
    "print (timeStamp)\n",
    "\n",
    "## We can format it however we like. See the link below for more details\n",
    "## https://www.w3schools.com/python/python_datetime.asp\n",
    "print(f\"The current time is {timeStamp:%I:%M:%S %p}, and today is {timeStamp:%A, %d %B, %Y}.\")\n",
    "\n",
    "## Objects are a topic at the A Level (P4), but you can use this\n",
    "#  syntax as it is given here if you want to use dates and times\n",
    "#  in your projects."
   ]
  },
  {
   "cell_type": "markdown",
   "metadata": {
    "tags": [
     "AL9608",
     "AL9618"
    ]
   },
   "source": [
    "### 4: Random number generation\n",
    "Many algorithms, such as sorting, should be tested using a sequence of **random numbers**. Computers typically generate **pseudorandom** numbers, which are not strictly random but it is still quite difficult to predict their sequence and they are suitable for testing basic applications. Python 3 has [several functions](https://www.w3schools.com/python/module_random.asp) to generate pseudorandom numbers, but two critical ones from the `random` module will be considered here. A list containing ten random numbers will be created for each function."
   ]
  },
  {
   "cell_type": "code",
   "execution_count": null,
   "metadata": {
    "tags": [
     "AL9608",
     "AL9618"
    ]
   },
   "outputs": [],
   "source": [
    "### Import the module to generate random numbers\n",
    "import random\n",
    "\n",
    "### Generate and print one random number\n",
    "randomNumber = random.random()  # this generates one random between 0 and 1\n",
    "\n",
    "print (randomNumber)\n",
    "\n",
    "### Generate and print 10 random numbers\n",
    "randomNumbers = [random.random() for counter in range(10)]\n",
    "print (randomNumbers)"
   ]
  },
  {
   "cell_type": "code",
   "execution_count": null,
   "metadata": {
    "tags": [
     "AL9608",
     "AL9618"
    ]
   },
   "outputs": [],
   "source": [
    "### Import the module to generate random numbers\n",
    "import random\n",
    "\n",
    "### Generate and print one random integer\n",
    "randomNumber = random.randint(0, 9)     # this generates one random between 0 and 9 (which we specified)\n",
    "\n",
    "print (randomNumber)\n",
    "\n",
    "### Generate and print 10 random integers\n",
    "randomNumbers = [random.randint(0, 9) for counter in range(10)]\n",
    "print (randomNumbers)"
   ]
  },
  {
   "cell_type": "markdown",
   "metadata": {
    "tags": [
     "AL9608",
     "AL9618"
    ]
   },
   "source": [
    "### 5: Character codes\n",
    "Computers use some form of a character **encoding** system, and every character corresponds to a unique number. **UNICODE**, and its **predecessor** ASCII, are most commonly used ones. Python 3 has functions that allow an `INTEGER` to be converted to its corresponding ASCII character, and vice versa."
   ]
  },
  {
   "cell_type": "code",
   "execution_count": null,
   "metadata": {
    "tags": [
     "AL9608",
     "AL9618"
    ]
   },
   "outputs": [],
   "source": [
    "### Input a word and convert it to ASCII codes\n",
    "word = input(\"Enter a word: \").lower()\n",
    "ASCII_codes = [ord(character) for character in word]\n",
    "print (ASCII_codes)"
   ]
  },
  {
   "cell_type": "code",
   "execution_count": null,
   "metadata": {
    "tags": [
     "AL9608",
     "AL9618"
    ]
   },
   "outputs": [],
   "source": [
    "### Convert every letter to uppercase by subtracting 32\n",
    "WORD = [chr(ASCII_code - 32) for ASCII_code in ASCII_codes]\n",
    "print (WORD)"
   ]
  },
  {
   "cell_type": "markdown",
   "metadata": {
    "tags": [
     "AL9608",
     "AL9618",
     "IG0478",
     "IG0984"
    ]
   },
   "source": [
    "# 2.2: Data representation\n",
    "**Data representation** refers to the form in which data is stored, processed, and transmitted."
   ]
  },
  {
   "cell_type": "markdown",
   "metadata": {
    "tags": [
     "AL9608",
     "AL9618",
     "IG0478",
     "IG0984"
    ]
   },
   "source": [
    "## 2.2.2: Arrays\n",
    "Arrays are data structures that allow multiple values of a given datatype to be stored without using multiple identifiers. Each value is stored in a memory location, and this can be accessed using a number, the **index** (written in square brackets `[]`). Arrays are usually **zero-indexed**: the index value of the first element is 0 (and not 1). Consider, for example, an array called `Fruits` which holds the names of fruits to be bought on a particular shopping trip; to access the element at index `i` we use the syntax `Fruits[i]`. The first element is `Fruits[0]`; the sixth element is `Fruits[5]`; and, in general, the n<sup>th</sup> element is `Fruits[n - 1]`. The **lower bound** of an array is the index of the first element (usually 0), and the **upper bound** is the index of the last element (usually one less than the total number of elements).\n",
    "\n",
    "In Python, it is usual to use a different type of structure called a **list**. A list is **dynamic** (its length can be changed after it has been initialized) and **mutable** (elements can have different datatypes). However, arrays are **static** (not dynamic) and **immutable**, and we will treat Python lists as arrays.\n",
    "\n",
    "In Python 3, lists in dimensions higher than one behave like nested lists. For example, a 2D list is a list of many 1D lists.\n",
    "\n",
    "The table below gives a summary of some common terms related to arrays.\n",
    "\n",
    "| Term | Meaning |\n",
    "| :-- | :-- |\n",
    "| array | a **data structure** where every element has a unique **index** value |\n",
    "| index | the number (position) of an element in an array |\n",
    "| lenght | the number of elements in the array |\n",
    "| lower bound | the index of the first element (usually 0 but often 1 too) |\n",
    "| upper bound | the index of the last element in the array (either length, one less than it) |\n",
    "| traverse | visit each element in turn, often with a `for` loop |\n",
    "\n",
    "\n",
    "The cells below give an introduction to arrays, and some common algorithms (sorting, searching and generating a list of random numbers) used with arrays."
   ]
  },
  {
   "cell_type": "code",
   "execution_count": null,
   "metadata": {
    "tags": [
     "AL9608",
     "AL9618",
     "IG0478",
     "IG0984"
    ]
   },
   "outputs": [],
   "source": [
    "### Declare the array\n",
    "Fruits = []\n",
    "\n",
    "\n",
    "### Add some elements\n",
    "Fruits = [\"Orange\", \"Papaya\", \"Apple\", \"Banana\", \"Plum\"]\n",
    "\n",
    "\n",
    "### Print out the array\n",
    "print (Fruits)\n",
    "\n",
    "\n",
    "### Print out the array in a more readable format\n",
    "\n",
    "# We will use a FOR loop to implement this part of the program. Since\n",
    "# FOR loops have a counter built right into them, they are a natural choice\n",
    "# when working with arrays.\n",
    "\n",
    "print (\"You have to buy these fruits:\", end=' ')\n",
    "\n",
    "for Fruit in Fruits:\n",
    "    print (Fruit, end=\", \")\n",
    "\n",
    "print ('')\n",
    "\n",
    "\n",
    "### Add an element to the array at the end (append)\n",
    "Fruits.append(\"Dragon Fruit\")\n",
    "\n",
    "\n",
    "### Print out the array again to test\n",
    "print (Fruits)"
   ]
  },
  {
   "cell_type": "markdown",
   "metadata": {
    "tags": [
     "AL9608",
     "AL9618",
     "IG0478",
     "IG0984"
    ]
   },
   "source": [
    "### 0: Initializing arrays\n",
    "Usually, an array is initialized as an empty data structure, i.e., with no elements and it is usual to set its contents to `None` (or just let its length be zero).\n",
    "\n",
    "However, Python 3 allows arrays to be initialized with initial values that may depend upon a function. For example, you can initialize all elements to `0`, or set them to be equal to their index, or be odd numbers, or be square numbers, or contain consecutive letters, or anything else required."
   ]
  },
  {
   "cell_type": "code",
   "execution_count": null,
   "metadata": {
    "tags": [
     "AL9608",
     "AL9618",
     "IG0478",
     "IG0984"
    ]
   },
   "outputs": [],
   "source": [
    "### Initialize a blank array\n",
    "myArray0 = []\n",
    "\n",
    "### Initialize an array of length 20 and values set to None\n",
    "myArray1 = [None for counter in range(20)]\n",
    "\n",
    "### Initialize an array of length 20 and values set to 0\n",
    "myArray2 = [0 for counter in range(20)]\n",
    "\n",
    "### Initialize an array of length 20 and values set to the counter\n",
    "myArray3 = [counter for counter in range(20)]\n",
    "\n",
    "### Initialize an array of length 20 and values set to odd numbers\n",
    "myArray4 = [((2 * counter) + 1) for counter in range(20)]\n",
    "\n",
    "### Initialize an array of length 20 and values set to square numbers\n",
    "myArray5 = [(counter ** 2) for counter in range(20)]\n",
    "\n",
    "### Initialize an array of length 20 and values set to English letters\n",
    "myArray6 = [chr(counter + 65) for counter in range(20)]\n",
    "\n",
    "\n",
    "### Print all the arrays\n",
    "print (f\"{myArray0 = }\")\n",
    "print (f\"{myArray1 = }\")\n",
    "print (f\"{myArray2 = }\")\n",
    "print (f\"{myArray3 = }\")\n",
    "print (f\"{myArray4 = }\")\n",
    "print (f\"{myArray5 = }\")\n",
    "print (f\"{myArray6 = }\")"
   ]
  },
  {
   "cell_type": "markdown",
   "metadata": {
    "tags": [
     "AL9608",
     "AL9618"
    ]
   },
   "source": [
    "### 1: Dimensions in an array\n",
    "An array can have more than one **dimension**; the number of dimensions is the number of indices required to locate an element in an array. A 1D (with a single dimension) array, such as `Fruits` from above, can be represented as a list of values—not unlike a number line. In fact, this analogy from graphs gives us a way to represent 2D arrays: as two axes make a grid, two dimensions of an array can be visualized as a table. Consider, for example, a 2D array called `Marks` which stores the marks of students in a class where everyone studies Computer Science, Further Mathematics and Physics. Each \"row\" then represents one student, and each \"column\" represents one subject. The syntax to access an element is `Marks[i][j]` where `i` is the index of the row and `j` is the index of the column.\n",
    "\n",
    "| Index Number | Subjects |\n",
    "| :-- | :-- |\n",
    "| `[0]` | Computer Science |\n",
    "| `[1]` | Further Mathematics |\n",
    "| `[2]` | Physics |"
   ]
  },
  {
   "cell_type": "markdown",
   "metadata": {
    "tags": [
     "AL9608",
     "AL9618"
    ]
   },
   "source": [
    "Following this section, we are going to spend some time with searching and sorting algorithms. It may help to familiarise yourself with these before going ahead. The videos linked below are quite interesting, and all of the offer simple intuitive explanations.\n",
    "\n",
    "* [\\[Link\\]](https://www.youtube.com/watch?v=WaNLJf8xzC4) A fun and intuitive introduction to different sortingm ethods  from TED-ed.\n",
    "* [\\[Link\\]](https://www.youtube.com/watch?v=RGuJga2Gl_k) Sorting and Big O notion from Tom Scott.\n",
    "* [\\[Link\\]](https://www.youtube.com/watch?v=KXJSjte_OAI) Video from Tom Scott that explains binary search in the context of database indexing.\n",
    "* [\\[Link\\]](https://www.youtube.com/watch?v=tgVSkMA8joQ) Video from mCoding that has an unusual but quite clearly explained perspective on binary searching."
   ]
  },
  {
   "cell_type": "code",
   "execution_count": null,
   "metadata": {
    "tags": [
     "AL9608",
     "AL9618"
    ]
   },
   "outputs": [],
   "source": [
    "### Declare the array\n",
    "Marks = [[]]    # use two nested brackets to indicate two dimensions\n",
    "\n",
    "\n",
    "### Write marks randomly to the array, assuming each subject is scored out of 100\n",
    "from random import randint as randomInteger\n",
    "Marks = [[randomInteger(75, 99) for i in range(3)] for j in range(5)]\n",
    "\n",
    "\n",
    "### Print out the array\n",
    "print (Marks)\n",
    "\n",
    "\n",
    "### Print out the marks more neatly\n",
    "for Student in Marks:\n",
    "    for Subject in Student:\n",
    "        print (Subject, end=' ')\n",
    "    \n",
    "    print (\"\")"
   ]
  },
  {
   "cell_type": "markdown",
   "metadata": {
    "tags": [
     "AL9608",
     "AL9618"
    ]
   },
   "source": [
    "### 2: Generate random numbers\n",
    "We would need to generate lists of random numbers to test our codes for searching and sorting. Here is the function to do that."
   ]
  },
  {
   "cell_type": "code",
   "execution_count": null,
   "metadata": {
    "tags": [
     "AL9608",
     "AL9618"
    ]
   },
   "outputs": [],
   "source": [
    "from random import randint  # Import the function to generate random integers\n",
    "\n",
    "## Subroutine to generate random list of unique integers\n",
    "def generateRandom(n):\n",
    "\n",
    "    arr = []\n",
    "\n",
    "    for i in range(n):\n",
    "        r = randint(0, 10 * n)\n",
    "\n",
    "        while r in arr:\n",
    "            r = randint(0, 10 * n)\n",
    "        \n",
    "        arr.append(r)\n",
    "    \n",
    "    return arr"
   ]
  },
  {
   "cell_type": "markdown",
   "metadata": {
    "tags": [
     "AL9608",
     "AL9618"
    ]
   },
   "source": [
    "### 3: Linear search\n",
    "This is the simplest of the searching algorithms. It would find `element` in an array and return the index at which it is stored. The program traverses an array, going through every element until a match is found. An element `[i]` is checked in the iteration `i`. If element `[i]` matches the required `element`, the programs returns `i` and halts; else it goes to `[i + 1]` until all elements have been searched."
   ]
  },
  {
   "cell_type": "code",
   "execution_count": null,
   "metadata": {
    "tags": [
     "AL9608",
     "AL9618"
    ]
   },
   "outputs": [],
   "source": [
    "def linearSearch(listIn, element):\n",
    "    index = -1\n",
    "    \n",
    "    for i in range(len(listIn)):\n",
    "        if listIn[i] == element:\n",
    "            index = i\n",
    "            break\n",
    "    \n",
    "    return index\n",
    "\n",
    "# Test\n",
    "arr = generateRandom(10)\n",
    "x = arr[5]\n",
    "print (f\"In list {arr} element {x} occurs at position {linearSearch(arr, x)}\")"
   ]
  },
  {
   "cell_type": "markdown",
   "metadata": {
    "tags": [
     "AL9608",
     "AL9618"
    ]
   },
   "source": [
    "### 4: Bubble sort\n",
    "This is the simplest sorting algorithm. After the procedure executes, the elements of the array are sorted in ascending order. The program traverses an array, while comparing the current `[i]` element to the next element `[i + 1]`. If the element `[i + 1]` was greater than the element `[i]`, they are swapped."
   ]
  },
  {
   "cell_type": "code",
   "execution_count": null,
   "metadata": {
    "tags": [
     "AL9608",
     "AL9618"
    ]
   },
   "outputs": [],
   "source": [
    "def bubbleSort(listIn):\n",
    "    key = None\n",
    "    \n",
    "    for i in range (len(listIn)):\n",
    "\n",
    "        for j in range (len(listIn) - 1):\n",
    "\n",
    "            if listIn[j] > listIn[j + 1]:\n",
    "                key = listIn[j]\n",
    "                listIn[j] = listIn[j + 1]\n",
    "                listIn[j + 1] = key\n",
    "\n",
    "# Test\n",
    "arr = generateRandom(10)\n",
    "print(f\"Unsorted array:\\t{arr}\")\n",
    "bubbleSort(arr)\n",
    "print(f\"Sorted array:\\t{arr}\")"
   ]
  },
  {
   "cell_type": "markdown",
   "metadata": {
    "tags": [
     "AL9608",
     "AL9618"
    ]
   },
   "source": [
    "## 2.2.3: Files\n",
    "A computer **file** is a computer resource for recording data discretely in a computer storage device. Just as words can be written to paper, so can information be written to a computer file. Files can be edited and transferred through the internet on that particular computer system. By using computer programs, a person can open, read, change, save, and close a computer file. Computer files may be reopened, modified, and copied an arbitrary number of times. Typically, files are organised in a file system, which keeps track of where the files are located on disk and enables user access."
   ]
  },
  {
   "cell_type": "markdown",
   "metadata": {
    "tags": [
     "AL9608",
     "AL9618"
    ]
   },
   "source": [
    "### 1: Opening files\n",
    "Two types of files will be considered: `.txt` **text files**, and `.dat` **binary files**. A computer can open files in one of the several modes given below, using Python 3. The character `b` can be added after any of the modes below (`wb`, `rb+` etc) to consider a binary file, rather than a text file. The function `open()` creates a file with the given name (at the given path) if it does not exist.\n",
    "\n",
    "| Python Code | Mode | Functionality |\n",
    "| :-- | :-- | :-- |\n",
    "| `r` | `READ` | Allows software to read the contents of the file. It cannot alter (append, delete or modify) them. |\n",
    "| `w` | `WRITE` | Allows the software open a file to write (typically delete or modify; it can append by controlling the pointer) contents only. It cannot read them. |\n",
    "| `a` | `APPEND` | Allows the software to append a file only. It cannot read, modify or delete. |\n",
    "| `w+` `r+` | `READ` and `WRITE` | Allows a software to read and write.\n",
    "| `a+` | `READ` and `APPEND` | Allows a software to read and append. It cannot modify or delete. |"
   ]
  },
  {
   "cell_type": "code",
   "execution_count": null,
   "metadata": {
    "tags": [
     "AL9608",
     "AL9618"
    ]
   },
   "outputs": [],
   "source": [
    "### Open the file and initialize a file object\n",
    "fileObject = open(\"textfile.txt\", \"a+\")\n",
    "\n",
    "### Read the contents of the file\n",
    "contents = fileObject.readlines()\n",
    "print(contents)\n",
    "\n",
    "### Append to the file\n",
    "fileObject.write(\"Hi Earth!\\n\")     # the '\\n' character is called a newline and used to separate lines in a file (or to tidy up a long series of print statements).\n",
    "\n",
    "### Close the file\n",
    "fileObject.close()"
   ]
  },
  {
   "cell_type": "markdown",
   "metadata": {
    "tags": [
     "AL9608",
     "AL9618"
    ]
   },
   "source": [
    "### 2: Read a text file consisting of one line\n",
    "Open the file in `READ` mode `r`, and print out any contents it contains."
   ]
  },
  {
   "cell_type": "code",
   "execution_count": null,
   "metadata": {
    "tags": [
     "AL9608",
     "AL9618"
    ]
   },
   "outputs": [],
   "source": [
    "### Open the file and initialize a file object\n",
    "fileObject = open(\"textfile.txt\", 'r')\n",
    "\n",
    "### Read the contents of the file\n",
    "contents = fileObject.read()\n",
    "\n",
    "### Check whether file contained anything\n",
    "if len(contents) > 0:\n",
    "    print (contents)\n",
    "\n",
    "else:\n",
    "    print (\"The selected file was empty.\")\n",
    "\n",
    "### Close the file\n",
    "fileObject.close()"
   ]
  },
  {
   "cell_type": "markdown",
   "metadata": {
    "tags": [
     "AL9608",
     "AL9618"
    ]
   },
   "source": [
    "### 3: Read a text file consisting of multiple lines\n",
    "Open a file in `READ` mode `r`, and print out its contents."
   ]
  },
  {
   "cell_type": "code",
   "execution_count": null,
   "metadata": {
    "tags": [
     "AL9608",
     "AL9618"
    ]
   },
   "outputs": [],
   "source": [
    "### Open the file and initialize a file object\n",
    "fileObject = open(\"textfile.txt\", 'r')\n",
    "\n",
    "### Read the contents of the file\n",
    "contents = fileObject.readlines()   # automatically place each line into an index in an array\n",
    "\n",
    "### Print out each line one-by-one\n",
    "for counter in range(len(contents)):\n",
    "    print(f\"line {str(counter + 1)}: {contents[counter]}\")\n",
    "\n",
    "### Close the file\n",
    "fileObject.close()"
   ]
  },
  {
   "cell_type": "markdown",
   "metadata": {
    "tags": [
     "AL9608",
     "AL9618"
    ]
   },
   "source": [
    "### 4: Write a single line to a text file\n",
    "Open a file in `WRITE` mode `w`, and write a single line to it. This would delete any contents it previously held."
   ]
  },
  {
   "cell_type": "code",
   "execution_count": null,
   "metadata": {
    "tags": [
     "AL9608",
     "AL9618"
    ]
   },
   "outputs": [],
   "source": [
    "### Open the file and initialize a file object\n",
    "fileObject = open(\"textfile.txt\", 'w')\n",
    "\n",
    "### Read the contents of the file\n",
    "contents = fileObject.write(\"Hello World!\\n\")\n",
    "\n",
    "### Close the file\n",
    "fileObject.close()"
   ]
  },
  {
   "cell_type": "markdown",
   "metadata": {
    "tags": [
     "AL9608",
     "AL9618"
    ]
   },
   "source": [
    "### 5: Append multiple lines to a text file\n",
    "Open a file in `APPEND` mode `a`, and append random numbers to it."
   ]
  },
  {
   "cell_type": "code",
   "execution_count": null,
   "metadata": {
    "tags": [
     "AL9608",
     "AL9618"
    ]
   },
   "outputs": [],
   "source": [
    "### Open the file and initialize a file object\n",
    "fileObject = open(\"textfile.txt\", 'a')\n",
    "\n",
    "### Write the random numbers\n",
    "import random\n",
    "\n",
    "numberOfEntries = random.randint(10, 20)\n",
    "print (f\"{numberOfEntries} new lines will be appended.\\n\")\n",
    "\n",
    "for count in range(numberOfEntries):\n",
    "    number = random.random()\n",
    "    print(f\"Writing {number} to the file...\")\n",
    "    fileObject.write(f\"{number}\\n\")\n",
    "\n",
    "### Close the file\n",
    "fileObject.close()"
   ]
  }
 ],
 "metadata": {
  "celltoolbar": "Tags",
  "kernelspec": {
   "display_name": "Python 3",
   "language": "python",
   "name": "python3"
  },
  "language_info": {
   "codemirror_mode": {
    "name": "ipython",
    "version": 3
   },
   "file_extension": ".py",
   "mimetype": "text/x-python",
   "name": "python",
   "nbconvert_exporter": "python",
   "pygments_lexer": "ipython3",
   "version": "3.8.8"
  },
  "metadata": {
   "interpreter": {
    "hash": "f4c28fa8f5722cf028809cd2948e812853f425d5427ac6e7746038839e0ae36f"
   }
  }
 },
 "nbformat": 4,
 "nbformat_minor": 4
}
