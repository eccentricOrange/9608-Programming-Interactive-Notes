{
 "cells": [
  {
   "source": [
    "# 2.1: Algorithm design and problem-solving"
   ],
   "cell_type": "markdown",
   "metadata": {}
  },
  {
   "cell_type": "markdown",
   "metadata": {},
   "source": [
    "## 2.1.1 Algorithms"
   ]
  },
  {
   "cell_type": "markdown",
   "metadata": {},
   "source": [
    "### 1: What is an algorithm?\n",
    "An <b>algorithm</b> is a solution to a problem expressed as a sequence of\n",
    "defined steps.\n",
    "\n",
    "An algorithm may be documented using any of the following:\n",
    "* Structured English\n",
    "* Flowcharts\n",
    "* Pseudocode"
   ]
  },
  {
   "cell_type": "markdown",
   "metadata": {},
   "source": [
    "### 2: Identifier tables\n",
    "An <b>identifier table</b> should be used in planning. It should list the idntifier, its datatype and its purpose.\n",
    "\n",
    "| Identifier | Datatype | Purpose |\n",
    "|:---|:---|:---|\n",
    "| `_pi` | `REAL` | constant pi = 3.1415 |\n",
    "| `radius` | `REAL` | variable for user input radius |\n",
    "| `area` | `REAL` | variable for the area of the circle |"
   ]
  },
  {
   "source": [
    "### 3: Basic constructs\n",
    "Many algorithms consist of the four basic constructs ofprogramming.\n",
    "* **Assignment:** storing a value, either a <u>literal</u> value or an <u>expression</u> that returns a value, in a variable.\n",
    "* **Sequence:** program statements may execute consecutively, or parallely alongside eachother. The sequence need not be known ahead of time and can be determined programatically.\n",
    "* **Selection:** programs can determine which statements are to be execute based on conditions (using `IF` and `CASE` structures, for example).\n",
    "* **Repetition:** statements in a program can be repeated either a fixed number of times, or based on a condition.\n",
    "\n",
    "Simple algorithms follow the **input-process-output cycle** at various places, i.e., they take in an input, perform some processing on it, and then return it back. For example, consider an algorithm which takes in the radius `r` of a circle as its input. It then multiplies the value with `2 _pi` (this is the processing). Finally it outputs the product `2 _pi r` which is the length of the circumfrence of the circle."
   ],
   "cell_type": "markdown",
   "metadata": {}
  },
  {
   "source": [
    "### 4: Decomposition, stepwise refinement and pattern recognition\n",
    "**Decomposition** is the process of breaking down a complex process into smaller parts. The process can be broken down repeatedly until the sub-tasks can be performed by small and managable **procedures** or **functions**; this process is called **stepwise refinement**. Throughout this process, **pattern recognition** is used to identify those parts which are similar and could use the same solution."
   ],
   "cell_type": "markdown",
   "metadata": {}
  }
 ],
 "metadata": {
  "kernelspec": {
   "display_name": "Python 3",
   "language": "python",
   "name": "python3"
  },
  "language_info": {
   "codemirror_mode": {
    "name": "ipython",
    "version": 3
   },
   "file_extension": ".py",
   "mimetype": "text/x-python",
   "name": "python",
   "nbconvert_exporter": "python",
   "pygments_lexer": "ipython3",
   "version": "3.8.5"
  }
 },
 "nbformat": 4,
 "nbformat_minor": 4
}