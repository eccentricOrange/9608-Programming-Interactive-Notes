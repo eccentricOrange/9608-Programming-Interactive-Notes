{
 "cells": [
  {
   "cell_type": "markdown",
   "id": "b402a9b0",
   "metadata": {
    "tags": [
     "Meta",
     "No-requirement"
    ]
   },
   "source": [
    "# 0: Introduction\n",
    "Welcome to this course on Programming and Problem-solving! It exists mainly because my own A Level Computer Science textbook turned out to be rather boring. I'm not sure I can solve that problem for most people since I'm a boring guy, but I'll give it a shot.\n",
    "\n",
    "Presumably, we learn software programming to ~~learn about problem-solving, develop logical reason skills, and develop a professionally useful skill-set~~ get a computer to do whatever the heck we want it to. If a computer science course can't achieve that, I'm out; and so should you be if it doesn't meet *your* goals (that applies to this Notebook too, but in that case, please tell how I can improve it).\n",
    "\n",
    "Having said so, there are genuinely interesting things to do here: mysteries to solve, an opportunity for you to use your creativity, and be expressive about your styles and preferences. I hope that you can walk away from this (and your books and teachers and classes) with some curiosity towards and, hopefully, a little love and appreciation about this new set of tools."
   ]
  },
  {
   "cell_type": "markdown",
   "id": "b733c896",
   "metadata": {
    "tags": [
     "Meta",
     "No-requirement"
    ]
   },
   "source": [
    "## 0.1: First, some housekeeping!\n",
    "\n",
    "#### Reading someone else's code is the worst thing in the world\n",
    "This is a running joke among programmers, but it has a grain of truth. When you write something, you have a certain viewpoint on it that makes it all obvious to you. But not to a stranger. To some extent, by having standards and conventions, we alleviate this problem. However, I still find it weirdly difficult to read a piece of code than to write one—the same is true of mathematical proofs and the like.\n",
    "\n",
    "To help you there, I'll do my best to group code into small chunks and provide high-level comments that summarise stuff, but I'll need some intellectual investment from your side too (not a lot, though).\n",
    "\n",
    "#### I'm probably throwing more at you than you need to know\n",
    "I'm not going to shy away from diving to the details of topics as they come along. Some of these details can be really useful in the process of writing code, especially if you decide to do something of your own outside the exam structure. Many of them are just nuances rather than additional topics, which can be invaluable when tracking down a bug (mistake/fault). But you might never be asked to discuss (about 30% of?) these ideas directly, so feel forget the specifics later down the line.\n",
    "\n",
    "#### Attitude and other \"getting started\" advice\n",
    "As it turns out, the folks who manage the [r/learnprogramming](https://www.reddit.com/r/learnprogramming/) subreddit have done a better job than I can do. So take a look at their [FAQ \\(Getting Started\\)](https://www.reddit.com/r/learnprogramming/wiki/faq#wiki_getting_started). If you're feeling up for it, go ahead and read the next few questions too.\n",
    "\n",
    "#### Jupyter\n",
    "The rest of whatever follows in this Notebook is actual content. Oh did I mention [Jupyter Notebooks](https://jupyter.org/) before? They're the environment we're in right now, and it lets me write stuff in English alongside stuff in programming languages. For the most part you don't have to worry about that, and I'll direct you verbosely through anything you need to do. But if you are interested in playing around more with it, I've made another Notebook about Notebooks, which will also direct you to their official resources.\n",
    "\n",
    "&nbsp;\n",
    "\n",
    "Onto the good stuff!"
   ]
  },
  {
   "cell_type": "markdown",
   "id": "ee3ac057",
   "metadata": {},
   "source": [
    "## 0.2: Reading this document\n",
    "* Each topic or idea I discuss is given in one **cell**.\n",
    "* Each cell has a unique ID in the beginning of its title (like `0.2` for this one).\n",
    "  * If that ID is all numbers, this cell describes a concept as you may find it in a textbook, and you'll usually need to know all of it well.\n",
    "  * If the ID includes a letter, it's a \"soft\" concept—something meant to make your journey understanding the rest of the stuff easier. Alternatively, it would be something I'm trying to *talk* to you about rather than *teach* you about.\n",
    "* On top of each cell, a bar would indicate which syllabuses that cell is relevant to, and where you can find the topic in that syllabus.\n",
    "  * Format: `ExamBoard-SubjectCode-PaperCode-Topic`\n",
    "  * Example: `CAIE-9608-2-2.1.3`"
   ]
  },
  {
   "cell_type": "markdown",
   "id": "4db68966",
   "metadata": {},
   "source": [
    "# 1: What?\n",
    "* Introduction to programming\n",
    "* Looking at types of languages and translators"
   ]
  },
  {
   "cell_type": "markdown",
   "id": "b2d413c2",
   "metadata": {},
   "source": [
    "## 1.1: Programming/coding/computer magic\n",
    "\n",
    "Upon [looking it up online](https://www.google.com/search?q=define+programming), I find the following definition for programming:\n",
    "> provide (a computer or other machine) with coded instructions for the automatic performance of a task.\n",
    "\n",
    "Believe it or not, that's accurate. That's what people study complex computer science and software engineering for: they want to figure how best to provide a computer instructions to get it to do something they want.\n",
    "\n",
    "Of course, there are some caveats:\n",
    "* you and the computer need to speak the same language, and it usually won't be English, Chinese, German, or any languages you normally use.\n",
    "* your instructions have to be quite precise.\n",
    "* you need some idea of what a computer does with these instructions.\n",
    "\n",
    "At the end of the day, though, that's all you need to be able to do. And guess what? We (humans) can already do this. You already know how to give instructions to a parent, teacher, sibling, friend etc (admittedly you may not think of it as instructions, they may be cues, subtleties, requests, and whatnot)."
   ]
  },
  {
   "cell_type": "markdown",
   "id": "edffdae0",
   "metadata": {},
   "source": [
    "## 1.2: Types of languages\n",
    "* Machine code\n",
    "* Low-level\n",
    "* High-level\n",
    "* Translators"
   ]
  },
  {
   "cell_type": "markdown",
   "id": "f1036470",
   "metadata": {},
   "source": [
    "### 1.2.1: Machine code\n",
    "Well, it turns out, you and I understand English (and/or French, Hindi, Russian, whatever else you know). A computer doesn't.\n",
    "\n",
    "What it understand probably looks a little like this:\n",
    "```hex\n",
    "55\n",
    "48 89 E5\n",
    "B8 00 00 00 00\n",
    "5D\n",
    "C3\n",
    "66 2E 0F 1F 84 00 00 00 00 00\n",
    "0F 1F 44 00 00\n",
    "```\n",
    "\n",
    "Okay, that's wayyy too cryptic for us! But this how people coded back in the day. This is [machine code](https://simple.wikipedia.org/wiki/Machine_code), and it's expressed here in a number system called [hexademical](https://simple.wikipedia.org/wiki/Hexadecimal) (the Base16 thing, with 0–9 and A–F). This stuff can get really really complex. Not only do you have to know what a particular hexadecimal value means, but you also need a thorough understanding of computer memory and architecture. Today, only some very experienced engineers ever use hexadecimal."
   ]
  },
  {
   "cell_type": "markdown",
   "id": "99ed0ea1",
   "metadata": {},
   "source": [
    "### 1.2.2: Low-level languages\n",
    "As computers improved over the years though, we realised we could alleviate some stress off of humans.\n",
    "\n",
    "So we made this:\n",
    "```x86\n",
    "main:\n",
    "        push    rbp\n",
    "        mov     rbp, rsp\n",
    "        mov     eax, 0\n",
    "        pop     rbp\n",
    "        ret\n",
    "```\n",
    "\n",
    "It's still cryptic. But it's arguably a better cryptic. In general, this is called [assembly language](https://simple.wikipedia.org/wiki/Assembly_language). When the CPU on a computer does something, it follows these instructions. In particular, this is in a \"flavour\" called `x86_64`. This means that it'll run on an Intel 32-bit (x86) or 64-bit (x64) CPU. The resons 32 bits correspond to the number 86 but 64-bit is 64 itself are [pure history and convention](https://stackoverflow.com/a/29974471/10907280), so deal with it. This is still pretty darn complex. Assembly language is sometimes used in places with very tight constraints (on things like me memory and CPU time).\n",
    "\n",
    "I claimed that it's a better cryptic. Why? Well, we see some English-ish words, like `main`, `push`, `pop` etc. So, we might be able to guess what this block does. Do you want to take a shot at it?\n",
    "\n",
    "*\\[For CAIE exams, you don't need to know about different kinds of assembly, like x86_64 or AMD_64, but you do need a general understanding of assembly and some commands for the A Level, as given by the syllabus document. At IGCSE, you just need to know that assembly and hexadecimal are a thing.\\]*"
   ]
  },
  {
   "cell_type": "markdown",
   "id": "cea80f46",
   "metadata": {},
   "source": [
    "### 1.2.3: High-level languages\n",
    "Once again, as computers got better, we realised that we could offload more of the **translation** work to computers. Between 1979, Bjarne Stroustrup created the language [C++](https://www.youtube.com/watch?v=MNeX4EGtR5Y). Our program from the previous cell would look a little like this in C++:\n",
    "\n",
    "```c++\n",
    "int main() {\n",
    "    2 == 3;\n",
    "}\n",
    "```\n",
    "\n",
    "You can probably tell now that it's doing *something* with the numbers 2 and 3, and that's inside *something* called `main`. For now, don't worry about what `int` means, the weird assortment of brackets, or the fact that I've written an equals sign twice (`==`). I *will* tell you that this is doing a **logical operation**, but more on that later.\n",
    "\n",
    "Machine code and assembly are classified as [low-level languages](https://www.bbc.co.uk/bitesize/guides/z4cck2p/revision/2), while languages like C++ are [high-level langauges](https://www.bbc.co.uk/bitesize/guides/z4cck2p/revision/1). In general, the \"lower level\" you go, the closer you are to working with \"bare metal\" (doing physics without abstractions like languages), and the \"higer level\" you go, you're closer to human-readable languages.\n",
    "\n",
    "Today, many popular \"higher\" level languages exist, like Java, JavaScript, C# etc. We'll use one called [Python](https://www.youtube.com/watch?v=x7X9w_GIm1s). It's rather interesting name comes from a comedy show. [From the language's official website](https://docs.python.org/3/faq/general.html#why-is-it-called-python):\n",
    "\n",
    "> When he began implementing Python, Guido van Rossum was also reading the published scripts from “Monty Python’s Flying Circus”, a BBC comedy series from the 1970s. Van Rossum thought he needed a name that was short, unique, and slightly mysterious, so he decided to call the language Python.\n",
    "\n",
    "In Python, our program from above would look like this:\n",
    "\n",
    "```python\n",
    "2 == 3\n",
    "```\n",
    "\n",
    "Neat, isn't it? No funky brackets or semicolons, and no weird words like `int` and `main`.\n",
    "\n",
    "In fact, remember our previous \"program\" that gave us a `SyntaxError` without a space? Well, over there, the computer was expecting a program written in Python, not English. Our one-line program with 2 and 3 is a valid Python program. So I'll make it a Python cell below, and you can execute it! (remember **Ctrl** + **Enter** or **Cmd** + **Return**?)"
   ]
  },
  {
   "cell_type": "code",
   "execution_count": null,
   "id": "4cc21bd3",
   "metadata": {},
   "outputs": [],
   "source": [
    "2 == 3"
   ]
  },
  {
   "cell_type": "markdown",
   "id": "7a406878",
   "metadata": {},
   "source": [
    "### 1.2.A: Analysing the output\n",
    "If all worked okay, you should have seen a new line appear with a single word: `False`\n",
    "\n",
    "Congratulations then, on running your first program! By the way, you can edit that code and try something else on your own too. To do so, click the cell and press **Enter** (or **Return**) once. Once you're done with your edits, run it the way you ran it last time.\n",
    "\n",
    "Can you finally figure out what the program does? It is a **comparision** between 2 and 3. We're essentially asking the question \"is 2 equal to 3?\" and the equality operator `==` represents this comparision. 2 is obviously not equal to 3, and it tells us as much by saying `False`. As for why they're two equals signs...we'll discuss a little later.\n",
    "\n",
    "This is an example of a **logical operator**. Just so that you can convince yourself that this is indeed checking for equality, go ahead and replace the `3` above with a `2`, and then run it again (or just run the one below, with different but identical values)."
   ]
  },
  {
   "cell_type": "code",
   "execution_count": null,
   "id": "cee7b4e4",
   "metadata": {},
   "outputs": [],
   "source": [
    "1023 == 1023"
   ]
  },
  {
   "cell_type": "markdown",
   "id": "82f2742e",
   "metadata": {},
   "source": [
    "### 1.2.B: When would this not work?\n",
    "What do you think would have happened if you ran C++ equivalent instead? Well, I can't do that here for you since this notebook supports only one language at a time (and we're going to use Python). I can, of course, show you code in other languages, but can't run it here. I'll upload all the programs from this notebook into a separate folder with instructions on how to run them.\n",
    "\n",
    "But for the following code, I can just tell you the output.\n",
    "\n",
    "```c++\n",
    "int main() {\n",
    "    2 == 3;\n",
    "}\n",
    "```\n",
    "\n",
    "You'd see nothing. No `False`, no `SyntaxError`—nothing. Why is that, when we saw an output for Python?"
   ]
  },
  {
   "cell_type": "markdown",
   "id": "dc9a0d29",
   "metadata": {},
   "source": [
    "### 1.2.4: Ways to translate a language\n",
    "Part of it has to do with how Python and C++ are \"translated\" into machine code.\n",
    "\n",
    "Code written in Python is usually **interpreted**. This means that the computer looks at a line of code, converts it to machine code, and immedeatly runs it. It looks at the next line after that. In essence, that allows Python to be run in a [Read–eval–print loop (REPL)](https://www.digitalocean.com/community/tutorials/what-is-repl) environment. What does that mean? You can give the computer one instruction at a time (read), let it run (evaluate), see its output (print), and then give the next one (loop)—an \"interactive\" environment.\n",
    "\n",
    "Code written in C++ is usually **compiled**. In this case, the computer would convert the entirety of the program into machine code at once, and give it to you. Such a compiled program is called an **executable** (denoted by `.exe` on Windows). There usually no REPL environments for such languages.\n",
    "\n",
    "The \"cells\" in this Notebook behave like mini, slightly weird, REPL environments. So when we asked it to execute the statement `2 == 3`, the computer ran it and came up with a statement `False`. We describe this using the following terminology: `2 == 3` **returned** `False`. When a piece of code does something, and hands you a value, that action is called returning. We didn't tell the computer what to do with this returned `False` value (such as remembering it for the future), so it went with its default behaviour and just handed it back to us on the screen. With C++, there was no REPL and hence nothing the program would hand the value back to, so it was just blasted into outer space instead of being returned /s.\n",
    "\n",
    "Okay, truth be told, there's more to returning than passing values around, and the above description very incomplete, but it's a good rule of thumb for getting code to actually do something, and I promise to resolve this lie before long.\n",
    "\n",
    "You can [read more about different types of translators here](https://www.bbc.co.uk/bitesize/guides/z4cck2p/revision/3)."
   ]
  },
  {
   "cell_type": "markdown",
   "id": "05bf4dd0",
   "metadata": {
    "tags": [
     "Meta",
     "No-requirement"
    ]
   },
   "source": [
    "## 1.A: Justification for discussing both Python and C++\n",
    "So far, I've mostly been talking about code in two high-level languages. You may wonder why, given that your syllabus requires only one of them (likely Python).\n",
    "\n",
    "I actually have several reasons:\n",
    "* **C++ is lower level than Python.** There is no magic in C++ (or its predecessor C). If you want something done, you'll have to do it yourself. I'm borrowing [this idea](https://www.youtube.com/watch?v=xCOj6vTqMxU) from [Harvard University's CS50x course](https://cs50.harvard.edu/x/), which is taught primarily in C. I think you might have a better handle on programming in general (which *will* help with exams) if you see the gory details of C++. Having said that, you don't *need* to remember it at all—just make sure you get the concept, then you can stick to Python.\n",
    "* **Programming is supposed to be a transferable skill.** The syllabus expects you to understand and appreciate different \"paradigms\" (in paper 4). I think this idea will be refined if you are exposed to different languages—it would allow you to focus on the bigger picture and appreciate the general takeaways. Besides, [recent research suggests that we learn the best when exposed to various perspectives](https://www.youtube.com/watch?v=rhgwIhB58PA).\n",
    "* **Pseudocode appears to follow syntax closer to C++.** On one hand, yes, CAIE Pseudocode is more like Python in that it it does away with the verbose brackets and semicolons. But many of its concepts (for instance: types of loops, file handling, variable declaration etc) seem to resemble C++ more closely, as you'll discover later.\n",
    "\n",
    "So, please forgive me for adding another language for you to deal with."
   ]
  },
  {
   "cell_type": "markdown",
   "id": "e874f8d7",
   "metadata": {},
   "source": [
    "# 2: Output to the user using `print()`\n",
    "* Printing values\n",
    "* C++ vs Python\n",
    "* Printing string literals"
   ]
  },
  {
   "cell_type": "markdown",
   "id": "c93bf0ea",
   "metadata": {},
   "source": [
    "## 2.1: So how do we tell a computer to \"output\" something?\n",
    "Many tutorials start by adressing this topic, and the [convention](https://stackoverflow.com/questions/602237/where-does-hello-world-come-from) is to output the message \"Hello, World!\" or some variation thereof. But we already have our comparision of 2 and 3, so let's try and output that.\n",
    "\n",
    "If we attempt to output the result of `2 == 3`, our programs change like so:\n",
    "\n",
    "#### Python\n",
    "\n",
    "```python\n",
    "print(2 == 3)\n",
    "```\n",
    "\n",
    "#### C++\n",
    "```c++\n",
    "#include <iostream>\n",
    "\n",
    "int main() {\n",
    "    printf(\"%i\", 2 == 3);\n",
    "}\n",
    "```\n",
    "\n",
    "&nbsp;\n",
    "\n",
    "You can run the Python program below and see its output. For the C++ program, I'll just tell you what the output was:\n",
    "\n",
    "```\n",
    "0\n",
    "```"
   ]
  },
  {
   "cell_type": "code",
   "execution_count": null,
   "id": "906aca56",
   "metadata": {},
   "outputs": [],
   "source": [
    "print(2 == 3)"
   ]
  },
  {
   "cell_type": "markdown",
   "id": "7a4c4777",
   "metadata": {
    "tags": [
     "No-requirement"
    ]
   },
   "source": [
    "## 2.1.A: Differences\n",
    "Okay, so that changed our code drastically—especially in C++. In particular:\n",
    "* There is now a new line `#include <iostream>`.\n",
    "* A word called `printf` has entered the chat.\n",
    "* `\"%i\"` is now a thing, whatever that means.\n",
    "* There is some stuff in parenthesis `()` and separated by a comma.\n",
    "\n",
    "In Python, we observe only two changes:\n",
    "* The `2 == 3` is now inside parenthesis.\n",
    "* It is preceeded by a word `print`.\n",
    "\n",
    "## Similarities\n",
    "* The word `print` appears in both cases, though it has an `f` in C++.\n",
    "* `2 == 3` goes inside parenthesis `()` in both cases."
   ]
  },
  {
   "cell_type": "markdown",
   "id": "c81f6d28",
   "metadata": {},
   "source": [
    "## 2.1.B: So, what are we printing out?\n",
    "You didn't see anything on your printer upon running this, right? Turns out, it's called \"print\" (instead of something like \"output\") for historic reasons. Before we could use monitors and screens, computers would literally print on a piece of paper.\n",
    "\n",
    "The term `print` is something called a **function.** A function is like a shortcut to a (usually longer) piece of code that does something for you. The people that made Python and C++ wrote some code that would show something on your screen, and called it `print` and `printf` respectively.\n",
    "\n",
    "So our `2 == 3` statement **returns** the `False` value, and it is **passed** into the `print` or `printf` functions. The function then takes that and outputs it to the screen. We'll discuss functions in more depth later, when we're writing long enough code to warrant use of functions.\n",
    "\n",
    "Adressing the extra `f` in C++: the `f` in `printf` is for \"formatting\", and it is the answer to why we have the weird `\"%i\"` in our program. But to understand it, we'll need to examing a different concept first."
   ]
  },
  {
   "cell_type": "markdown",
   "id": "083674f9",
   "metadata": {
    "tags": [
     "No-requirement"
    ]
   },
   "source": [
    "## 2.1.C: Differring outputs\n",
    "Did you notice that C++ and Python printed out different things (`0` and `False` respectively)?\n",
    "\n",
    "To understand that, let's also take a look at a slight different code, where we're checking identical values. I'll show you the C++ code and its corresponding output here, and you can run the Python equivalent below.\n",
    "\n",
    "#### C++ code\n",
    "\n",
    "```c++\n",
    "#include <iostream>\n",
    "\n",
    "int main() {\n",
    "    printf(\"%i\", 19 == 19);\n",
    "}\n",
    "```\n",
    "\n",
    "#### C++ output\n",
    "```\n",
    "1\n",
    "```"
   ]
  },
  {
   "cell_type": "code",
   "execution_count": null,
   "id": "aa051851",
   "metadata": {},
   "outputs": [],
   "source": [
    "print(19 == 19)"
   ]
  },
  {
   "cell_type": "markdown",
   "id": "b3fb3d17",
   "metadata": {},
   "source": [
    "## 2.2: What if I want to print a message?\n",
    "Remember I told you about \"Hello, World!\" earlier? What if I wanted to print a message like that instead? Here's an attempt at that in C++, using whatever we know so far.\n",
    "\n",
    "#### C++ code attempt\n",
    "\n",
    "```c++\n",
    "#include <iostream>\n",
    "\n",
    "int main() {\n",
    "    printf(\"%i\", Hello, World!);\n",
    "}\n",
    "```\n",
    "\n",
    "Huh! I could not compile that all! It gave me an error:\n",
    "```none\n",
    "exp.cpp: In function ‘int main()’:\n",
    "exp.cpp:4:18: error: ‘Hello’ was not declared in this scope; did you mean ‘ftello’?\n",
    "    4 |     printf(\"%i\", Hello, World!);\n",
    "      |                  ^~~~~\n",
    "      |                  ftello\n",
    "exp.cpp:4:25: error: ‘World’ was not declared in this scope\n",
    "    4 |     printf(\"%i\", Hello, World!);\n",
    "      |                         ^~~~~\n",
    "```\n",
    "\n",
    "Our program seems reasonable. So, just to make sure it's not a weird quirk of C++, let's try it in Python too."
   ]
  },
  {
   "cell_type": "code",
   "execution_count": null,
   "id": "817ea447",
   "metadata": {},
   "outputs": [],
   "source": [
    "print(Hello, World!)"
   ]
  },
  {
   "cell_type": "markdown",
   "id": "aff0ce8d",
   "metadata": {},
   "source": [
    "# 3: Data types\n",
    "* Introduction\n",
    "* Common data types\n",
    "* Returning to printing string literals"
   ]
  },
  {
   "cell_type": "markdown",
   "id": "0f06ed5e",
   "metadata": {},
   "source": [
    "## 3.1: So, what went wrong?\n",
    "Well here's a summary of what happened.\n",
    "\n",
    "| Input to `print` or `printf` | C++ output | Python output |\n",
    "| -- | -- | -- |\n",
    "| `2 == 3` | `0` | `False` |\n",
    "| `19 == 19` | `1` | `True` |\n",
    "| `Hello, World!` | *[error]* | *[error]* |\n",
    "\n",
    "There are two noteworthy things here.\n",
    "1. The difference (C++ us gives a number like `1`, and Python gives us a word like `True`).\n",
    "2. Our program was unable to say \"Hello\" to the world :(\n",
    "\n",
    "Both of these can be explained using the concept of **data types**. It is already obvious to you that computers can remember data. It typically ranges from documents and text, to images and video, to games and apps.\n",
    "\n",
    "Well, in programming too, it turns out there is a special way of doing this same task. You can, of course, store stuff to **files** and retrieve it from there (think of this as typically happening on the \"long-term\" storage device, like hard drives), but you can *also* put stuff onto temporary memory (think of this as the RAM).\n",
    "\n",
    "Just like you can control the type of a file (a filename ending with `.jpg` will conventionally be an image, a filename ending with `.docx` will typically be a Word document et cetera), so can you control the type of this temporary data."
   ]
  },
  {
   "cell_type": "markdown",
   "id": "8100b881",
   "metadata": {},
   "source": [
    "## 3.2: Important data types\n",
    "There are 8 important **primitive** (i.e., they're built into the language) data types, and I'll list them below. I've also included what I'm calling a \"symbol\" for now, but we'll see its utility later.\n",
    "\n",
    "| Name of type | Python symbol | C++ Symbol | Description\n",
    "| :-- | :-- | :-- | :-- |\n",
    "| `INTEGER` | `int` | `int` | An integer (it cannot have precision after the decimal point). |\n",
    "| `REAL` | `float` | `double` or `float` | A real number (it can have precision after the decimal point). |\n",
    "| `CHAR` | *[N/A]* | `char` | A single character. |\n",
    "| `STRING` | `str` | array of `char` | A number of characters. |\n",
    "| `BOOLEAN` | `bool` | `bool` | A Boolean value, storing only `TRUE` or `FALSE`. |\n",
    "| `DATE` | `datetime.date` | *[N/A]* | A date, typically stored along with a time. |\n",
    "| `ARRAY` | `list` | *[N/A]* | A number of values of any other data type. |\n",
    "| `FILE` | file object | `FILE` | An \"object\" referring to a file. |\n",
    "\n",
    "Okay, to be honest with you:\n",
    "* Not all of these are primitives (built into) in Python and/or C++.\n",
    "* Some of them really make sense only after we examine an A Level concept called Object Oriented Programming.\n",
    "\n",
    "You can assume that they are part of valid pseudocode, though. And there are ways to implement all of them in both Python and C++."
   ]
  },
  {
   "cell_type": "markdown",
   "id": "40a7d3a1",
   "metadata": {
    "tags": [
     "No-requirement"
    ]
   },
   "source": [
    "## 3.A: Umm, where were we again?\n",
    "Well, I had pointed out to you that Python and C++ give different outputs (`False` vs `0` for instance).\n",
    "\n",
    "It turns out that our comparison `2 == 3` returned a **Boolean value**, i.e., it can only ever be true or false. The `print` function of Python knows how to read the value and covert it into a string. For example, it reads the value `False`, and understands that it must be printed as the letters 'F', 'a', 'l', 's', and 'e'.\n",
    "\n",
    "In the case of `printf` in C++, it does not automatically know this. We have to tell it what data type want to output manually (no magic, remember?), with a **format code**. In this case, the format code was `%i`.\n",
    "\n",
    "Confused? Look at the diagrams below.\n",
    "\n",
    "![How C++ printf() works](assets/printf.png)\n",
    "\n",
    "![How Python print() works](assets/print.png)\n",
    "\n",
    "However, a Boolean format code defined for `printf` does not happen to exist. So, I told the function to convert this to an integer instead when I specified `\"%i\"`.\n",
    "\n",
    "If you know about binary, you might know that the number 0<sub>10</sub> is written as 0<sub>2</sub>, 1<sub>10</sub> is written as 1<sub>2</sub>, 2<sub>10</sub> is written as 10<sub>2</sub>, and so on. A binary 1 can be represented as a `True` and a binary 0 can be represented as a `False`.\n",
    "\n",
    "So, when we wrote `False`, it got converted to an integer `0`. Likewise, `True` got converted to an integer `1`."
   ]
  },
  {
   "cell_type": "markdown",
   "id": "5d9319c2",
   "metadata": {
    "tags": [
     "No-requirement"
    ]
   },
   "source": [
    "## 3.B: C++ format codes\n",
    "A C++ format code has the format `%x`, where `x` is some character. There are many format codes available, and Mircosoft has a [document with many of them explained](https://docs.microsoft.com/cpp/c-runtime-library/format-specification-syntax-printf-and-wprintf-functions#type-field-characters) if you're interested in learning more about them.\n",
    "\n",
    "However, know that this is here for your information only, and will not be examined on the syllabus (because C++ is not a part of most A Level or [I]GCSE syllabuses)."
   ]
  },
  {
   "cell_type": "markdown",
   "id": "6e3423e7",
   "metadata": {},
   "source": [
    "## 3.3: The trouble with \"Hello, World!\"\n",
    "Okay, so why did this not work? It turns out that computers need a way to distinguish **literals** from **tokens**.\n",
    "\n",
    "According to [Wikipedia](https://en.wikipedia.org/wiki/Literal_(computer_programming)):\n",
    "> In computer science, a literal is a notation for representing a fixed value in source code.\n",
    "\n",
    "A token can be thought of as an element of the programming laguage. It could be a function like `print`, or a symbol like `==`. In contrast, a literal is a special type of a token: some *data* the programmer put in there directly, like a string or a number.\n",
    "\n",
    "Numbers are easy to distinguish, since a tokens whose name is a number is usually not allowed. However, a special character is needed to distinguish a STRING or a CHARACTER. For example, you could have a string literal with the characters 'p', 'r', 'i', 'n', and 't' (the word \"print\").\n",
    "\n",
    "We do this using quation marks. In C++, a single CHARACTER is enclosed in single quotes (like `'a'`) and a STRING is enclosed in double quotes (like `\"Hello, World!\"`). In Python, there is no difference between the two and both use the datatype `str`. In fact, Python does not have a datatype that is equivalent to `char` in C++, and everything is a STRING (though you could always just put one character into a Python STRING)."
   ]
  },
  {
   "cell_type": "markdown",
   "id": "0d391ae6",
   "metadata": {},
   "source": [
    "## 3.4: Trying to print a string\n",
    "So, with our newfound knowledge of quotes and strings, let's try to print strings. As usual, I'll give you the C++ code and output, and leave you to run the Python code below.\n",
    "\n",
    "#### C++ code\n",
    "```c++\n",
    "#include <iostream>\n",
    "\n",
    "int main() {\n",
    "    printf(\"%s\", \"Hello, World!\");\n",
    "}\n",
    "```\n",
    "\n",
    "#### Output\n",
    "```\n",
    "Hello, World!\n",
    "```"
   ]
  },
  {
   "cell_type": "code",
   "execution_count": null,
   "id": "356b0b45",
   "metadata": {},
   "outputs": [],
   "source": [
    "print(\"Hello, World!\")"
   ]
  },
  {
   "cell_type": "markdown",
   "id": "151d90c9",
   "metadata": {},
   "source": [
    "## 3.4.A: Removing redundancies\n",
    "Most programming tutorials would have you up and running with \"Hello, World!\" in matter of seconds. I dragged you all the way here before accomplishing that.\n",
    "\n",
    "However, Do you notice anything odd about our print statement in C++?\n",
    "\n",
    "Well, it appears that the format code (`%i` or `%s`) is also enclosed in double quotes. So is that also a STRING? Well, yes. `printf()` can print STRING and CHARACTER directly, but you need to provide a format code for other values. So if we shorten our program (as below), it would still run the same.\n",
    "\n",
    "```c++\n",
    "#include <iostream>\n",
    "\n",
    "int main() {\n",
    "    printf(\"Hello, World!\");\n",
    "}\n",
    "```\n",
    "\n",
    "In general, it is a bad idea to have **redundancies** in programming. Since computers are soooo good at doing things repeatedly, it's usually considered a bad sign if *you* are manually doing something repeatedly or going through unnecessary steps. That said, programmers are infamous for using workarounds and hacks all the time!"
   ]
  },
  {
   "cell_type": "markdown",
   "id": "e5f3489c",
   "metadata": {},
   "source": [
    "# 4: Simple computer logic using `if` and `else`\n",
    "* The concept of logic\n",
    "* Using `if`\n",
    "* Using `else`"
   ]
  },
  {
   "cell_type": "markdown",
   "id": "0562f177",
   "metadata": {
    "tags": [
     "No-requirement"
    ]
   },
   "source": [
    "## 4.A: Logic?\n",
    "A lot of people think that computer science, science, and math are subjects where you need to use a lot of logic.\n",
    "\n",
    "Upon [looking that up on Google](https://www.google.com/search?q=what+is+logic), I found the following:\n",
    "> 1. reasoning conducted or assessed according to strict principles of validity.\n",
    "> 2. a system or set of principles underlying the arrangements of elements in a computer or electronic device so as to perform a specified task.\n",
    "\n",
    "As far as I can tell, the first definition is good for [logic puzzles](https://youtube.com/playlist?list=PLJicmE8fK0EiFRt1Hm5a_7SJFaikIFW30) and detective-work. We'll be doing a fair bit of that.\n",
    "\n",
    "The second one though...really gets me excited. It really captures the essence of programming (introductory programming anyway). What we're going to do is essentially learn about some of these \"set\\[s\\] of principles\", so that you can \"perform a specified task.\""
   ]
  },
  {
   "cell_type": "markdown",
   "id": "8c234d30",
   "metadata": {
    "tags": [
     "Implicit-requirement"
    ]
   },
   "source": [
    "## 4.B: Yes, logic\n",
    "What about general people, though? What do we usually mean by saying \"something is logical\"? Well, one thing we might agree on is that stuff follows from other, well-established, stuff.\n",
    "\n",
    "Think about the following statements:\n",
    "\n",
    "1. You should eat healthy meals.\n",
    "2. Balanced meals are healthy.\n",
    "\n",
    "So, **logically:**\n",
    "\n",
    "3. You should eat balanced meals.\n",
    "\n",
    "It's an obvious conclusion, right? Statement 3 logically follows from statements 1 and 2."
   ]
  },
  {
   "cell_type": "markdown",
   "id": "2818e4b2",
   "metadata": {},
   "source": [
    "## 4.C: Logic...so what?\n",
    "I claimed that computers are logical devices, but we didn't really go anywhere from that. Usually, we use logical reasoning to **decide** or conclude something. For example, we could use data about meals to conclude what kind of meals we should eat.\n",
    "\n",
    "Actually, we do this all the time:\n",
    "1. You might buy a carton of milk if you've run out of it at home.\n",
    "1. If one brand of pencils is cheaper than another (but they're equivalent otherwise), I'll buy the cheaper one.\n",
    "1. Cars go through an intersection while the light is green.\n",
    "1. A biologist and a physicist might breakup if there is no chemistry between them.\n",
    "1. You should see a doctor if you are unwell.\n",
    "\n",
    "Hold on! Aside from the one about pencils, most of these aren't really using much logic right? I may have to read and think a bit about it, but most of the others are just obvious.\n",
    "\n",
    "Well, let's look at [a narrower definition of a **logical operation**](https://www.computerhope.com/jargon/l/logioper.htm#:~:text=A%20logical%20operation%20is%20a,or%20more%20phrases%20of%20information.&text=In%20computing%2C%20logical%20operations%20are,operations%20are%20called%20boolean%20operations.):\n",
    "> A **logical operation** is a special symbol or word that connects two or more phrases of information.\n",
    "\n",
    "Fundamentally, this is about logic gates. For the most part, when we talk about \"logic\" in any sort of programming, it can be reduced to a (often very complicated) series of logic operations.\n",
    "\n",
    "&nbsp;\n",
    "\n",
    "Specifically, let's try framing the first of these examples as an explicit series of steps.\n",
    "> You might buy a carton of milk if you've run out of it at home.\n",
    "\n",
    "1. Go home.\n",
    "1. Check the amount of milk in stock at the home.\n",
    "1. If the amount is insufficient,\n",
    "    * Go to a store to buy one carton.\n",
    "\n"
   ]
  },
  {
   "cell_type": "markdown",
   "id": "b3f8a4c1",
   "metadata": {},
   "source": [
    "## 4.1: Doing something with a logical comparision\n",
    "That third step is interesting for us, particualrly the word **if**. It turns out that prrogramming languages also have a way to use this idea of doing something **if** some criteria is met.\n",
    "\n",
    "Here's how we might use it in C++, and you can see the output for Python below:\n",
    "\n",
    "```c++\n",
    "#include <iostream>\n",
    "\n",
    "int main() {\n",
    "    if (2 == 3) {\n",
    "        printf(\"My mathematical life is a lie.\");\n",
    "    }\n",
    "}\n",
    "```\n",
    "\n",
    "Predictably, there is no output for both of them, because we know that 2 is not equal to 3, and the statement is false."
   ]
  },
  {
   "cell_type": "code",
   "execution_count": null,
   "id": "416a3249",
   "metadata": {},
   "outputs": [],
   "source": [
    "if 2 == 3:\n",
    "    print(\"My mathematical life is a lie.\")"
   ]
  },
  {
   "cell_type": "markdown",
   "id": "8e83747e",
   "metadata": {},
   "source": [
    "## 4.2: So what does the `if` function do?\n",
    "It isn't a function. The word `if` is a **reserved word** in the two languages. Go ahead and find out what that means, but [use this link](https://www.google.com/search?q=what+is+a+reserved+word+in+programming) only if you're really stuck.\n",
    "\n",
    "The statements above are just saying: if 2 is equal to 3, tell the user that their life is a lie.\n",
    "\n",
    "Actually, we needn't have put a condition in there. Remember that a comparision (like `2 == 3`) returns a Boolean value. So we could have put a Boolean literal or *anything* that returns a Boolean value in there.\n",
    "\n",
    "Here are some more examples to convince you of this.\n",
    "\n",
    "#### C++ Example 1\n",
    "\n",
    " ```c++\n",
    "#include <iostream>\n",
    "\n",
    "int main() {\n",
    "    if (3 == 3) {\n",
    "        printf(\"My mathematical life is a lie.\");\n",
    "    }\n",
    "}\n",
    "```\n",
    "\n",
    "#### Output 1\n",
    "```\n",
    "My mathematical life is a lie.\n",
    "```\n",
    "\n",
    "#### C++ Example 2\n",
    "\n",
    " ```c++\n",
    "#include <iostream>\n",
    "\n",
    "int main() {\n",
    "    if (false) {\n",
    "        printf(\"My mathematical life is a lie.\");\n",
    "    }\n",
    "}\n",
    "```\n",
    "\n",
    "#### Output 2\n",
    "No output.\n",
    "\n",
    "#### C++ Example 3\n",
    "\n",
    " ```c++\n",
    "#include <iostream>\n",
    "\n",
    "int main() {\n",
    "    if (false) {\n",
    "        printf(\"My mathematical life is a lie.\");\n",
    "    }\n",
    "}\n",
    "```\n",
    "\n",
    "#### Output 3\n",
    "```\n",
    "My mathematical life is a lie.\n",
    "```"
   ]
  },
  {
   "cell_type": "code",
   "execution_count": null,
   "id": "5e5d4774",
   "metadata": {},
   "outputs": [],
   "source": [
    "if 3 == 3:\n",
    "    print(\"My mathematical life is a lie.\")"
   ]
  },
  {
   "cell_type": "code",
   "execution_count": null,
   "id": "7e3412cf",
   "metadata": {},
   "outputs": [],
   "source": [
    "if False:\n",
    "    print(\"My mathematical life is a lie.\")"
   ]
  },
  {
   "cell_type": "code",
   "execution_count": null,
   "id": "5fe019d0",
   "metadata": {},
   "outputs": [],
   "source": [
    "if True:\n",
    "    print(\"My mathematical life is a lie.\")"
   ]
  },
  {
   "cell_type": "markdown",
   "id": "9c764597",
   "metadata": {},
   "source": [
    "## 4.3: What if we were more pedantic?\n",
    "Remember our statements about getting milk from earlier?\n",
    "\n",
    "> 1. Go home.\n",
    "> 1. Check the amount of milk in stock at the home.\n",
    "> 1. If the amount is insufficient,\n",
    ">     * Go to a store to buy one carton.\n",
    "\n",
    "What if we were more explicit? Let's consider what to do if in fact there was sufficient milk.\n",
    "\n",
    "1. Go home.\n",
    "1. Check the amount of milk in stock at the home.\n",
    "1. If the amount is insufficient,\n",
    "    * Go to a store to buy one carton.\n",
    "    \n",
    "   Alternatively, if the amount is sufficient,\n",
    "    * Stay home.\n",
    "    \n",
    "Now, how might you say this like a normal human being? _**If** there isn't sufficient milk, go buy some, **otherwise**, stay home._\n",
    "\n",
    "Most programming languages have a very similar way of doing this, but the common word is `else`, rather than \"otherwise\".\n",
    "\n",
    "\n",
    "#### C++ Example\n",
    "\n",
    " ```c++\n",
    "#include <iostream>\n",
    "\n",
    "int main() {\n",
    "    if (2 == 3) {\n",
    "        printf(\"My mathematical life is a lie.\");\n",
    "    }\n",
    "\n",
    "    else {\n",
    "        printf(\"The foundations of mathematics are stable. :)\");\n",
    "    }\n",
    "}\n",
    "```\n",
    "\n",
    "#### Output\n",
    "```\n",
    "The foundations of mathematics are stable. :)\n",
    "```"
   ]
  },
  {
   "cell_type": "code",
   "execution_count": null,
   "id": "0e78c876",
   "metadata": {},
   "outputs": [],
   "source": [
    "if 2 == 3:\n",
    "    print(\"My mathematical life is a lie.\")\n",
    "\n",
    "else:\n",
    "    print(\"The foundations of mathematics are stable. :)\")"
   ]
  },
  {
   "cell_type": "markdown",
   "id": "e83b4ce4",
   "metadata": {},
   "source": [
    "# 5: The opposite of outputing, `input()`\n",
    "* Discuss the static code\n",
    "* Introduce `input()`\n",
    "* Example with **nested** `if`-`else`"
   ]
  },
  {
   "cell_type": "markdown",
   "id": "18f764bb",
   "metadata": {},
   "source": [
    "## 5.A: So far, our programs are kind of useless\n",
    "Think about it. Look at the above example. The only condition it ever checks is `2 == 3`, and that stays the same no matter who runs the program. So we can actually claim the following:\n",
    "\n",
    "> The above code always prints `The foundations of mathematics are stable. :)`.\n",
    "\n",
    "That's more like a constant statement, not a logical and useful software program."
   ]
  },
  {
   "cell_type": "markdown",
   "id": "ea3ab1e7",
   "metadata": {
    "tags": []
   },
   "source": [
    "## 5.B: What is an example of a really common \"logical\" app?\n",
    "A calculator could work. It isn't \"useless\" in the same way, because it lets you take an input.\n",
    "\n",
    "Well turns out we can do the same thing in Python and C++ too! I'll show you the Python program to do so below, and you can try it out before we do anything further. Run the program like you normally do, and you should then see a little box appear below the program. Type something into it, and press **Enter** (or **Return**)."
   ]
  },
  {
   "cell_type": "code",
   "execution_count": null,
   "id": "e59c2d97",
   "metadata": {},
   "outputs": [],
   "source": [
    "print(input())"
   ]
  },
  {
   "cell_type": "markdown",
   "id": "1aab2f6b",
   "metadata": {},
   "source": [
    "## 5.1: So what's `input()` doing?\n",
    "You should have seen your message appear twice. The first time, you're just shown what you typed, and the second one is just because I chose to print it.\n",
    "\n",
    "`input()` is a **function**, just like `print()` in Python. Input returns a STRING (`str`) value, which was then passed into the `print()` statement.\n",
    "\n",
    "So this is great! Using this, we can do a more useful comparision:"
   ]
  },
  {
   "cell_type": "code",
   "execution_count": null,
   "id": "ddcd4991",
   "metadata": {},
   "outputs": [],
   "source": [
    "if input() == \"Hello\":\n",
    "    print(\"Hello, World!\")\n",
    "\n",
    "else:\n",
    "    print(\"You're a rude person. Learn to at least greet!\")"
   ]
  },
  {
   "cell_type": "markdown",
   "id": "7780b24d",
   "metadata": {},
   "source": [
    "## 5.2: Admittedly that isn't so useful\n",
    "But it is! You can now do much better comparisions. For example, you could make some kind of a guessing game. You could ask the user to enter an integer, and see if it is the same as the number in the program. This is a boring game, but it sets the stage for something else I want to show you.\n",
    "\n",
    "In the following example, we'll expect the user to input a number between 1 and 5, and they'll have three tries to guess whether or not it was 2."
   ]
  },
  {
   "cell_type": "code",
   "execution_count": null,
   "id": "8bd21f22",
   "metadata": {},
   "outputs": [],
   "source": [
    "if input() == \"2\":\n",
    "    print(\"Congratulations! You guessed correctly!\")\n",
    "    \n",
    "else:\n",
    "    print(\"Wrong :( Please try again!\")\n",
    "    \n",
    "    if input() == \"2\":\n",
    "        print(\"Congratulations! You guessed correctly!\")\n",
    "\n",
    "    else:\n",
    "        print(\"Wrong :( Please try again!\")\n",
    "        \n",
    "        if input() == \"2\":\n",
    "            print(\"Congratulations! You guessed correctly!\")\n",
    "\n",
    "        else:\n",
    "            print(\"Wrong :( You have lost the game.\")"
   ]
  },
  {
   "cell_type": "markdown",
   "id": "4e47f4fd",
   "metadata": {},
   "source": [
    "# A: Optimisation and a debugging tool—`type()`"
   ]
  },
  {
   "cell_type": "markdown",
   "id": "bd259e0b",
   "metadata": {},
   "source": [
    "## A.1: How to give a programmer an aneurysm\n",
    "Okay, so the above program is quite bad! Mostly because it has lots of redundancy.\n",
    "\n",
    "1. We've repeated the literal `\"Congratulations! You guessed correctly!\"` thrice.\n",
    "1. We've repeated the literal `\"Wrong :( Please try again!\")` twice.\n",
    "1. We've repeated the comparision literal `\"2\"` thrice. If the user had to guess against 4 for instance, you (the programmer) would have to change all the values manually.\n",
    "1. If our guessing game involves a number, then we should be dealing with the INTEGER or REAL `2`, and not the CHARACTER `\"2\"`.\n",
    "1. Our program's structure is also repetitive and—frankly—clunky. The `if` inside an `if` inside an `if` can make for a confusing experience.\n",
    "\n",
    "   > SIDENOTE: Putting something inside something like this is called **nesting.** In general, you can nest any sort of a \"block\" of code inside anything else that \"accepts\" a \"block\" of code, but there are some exceptions to it. You'll need to particularly know about **nested IF statements** for exams.\n",
    "   \n",
    "1. Our user has no idea what they're walking into. When we ask them for a value, we should be **prompting** them by properly asking a question or providing an instruction.\n",
    "\n",
    "Think about what kind of tools or ideas we might need to solve these problems."
   ]
  },
  {
   "cell_type": "markdown",
   "id": "54874ef5",
   "metadata": {},
   "source": [
    "## A.2: Various new ideas\n",
    "While you may have your own solutions, programmers, mathematicians, and computing experts have come up with some tools to help us solve these problems.\n",
    "* We could save our messages (such as `\"Congratulations! You guessed correctly!\"`) somewhere, and tell the program to somehow find and print that message. From the computer's point of view, this is better because it doesn't have to memorize the same thing thrice; it can just memorize it once and re-use that elsewhere.\n",
    "* We need to convert the value `input()` returns from a STRING/CHARACTER to an INTEGER or a REAL.\n",
    "* If there was a way to repeat some lines of code, we could just say:\n",
    "  1. Ask the user for their guess thrice.\n",
    "  1. In any of the guesses, if they're right, congratulate them and stop asking.\n",
    "  1. In any of the guesses (except the last one), if they're wrong, try asking again.\n",
    "  1. If the last guess is wrong, stop and tell them they have lost the game."
   ]
  },
  {
   "cell_type": "markdown",
   "id": "639865f9",
   "metadata": {},
   "source": [
    "## A.3 Converting datatypes\n",
    "Well, we can fix problem number 4 quite easily. Turns out you can convert a datatype using the following syntax in Python.\n",
    "\n",
    "```python\n",
    "new_datatype(value_in_old_datatype) -> value_in_new_datatype\n",
    "```\n",
    "\n",
    "Now this isn't code the way you've seen it before. You can't run the above line, as none of these are actual functions or literals, they're just placeholders for an actual function. In reality you would do something like the cell below if you want to convert (for example) the STRING `\"2\"` to the integer `2`:\n",
    "\n",
    "```python\n",
    "int(\"2\")\n",
    "```"
   ]
  },
  {
   "cell_type": "code",
   "execution_count": null,
   "id": "c6f6d720",
   "metadata": {},
   "outputs": [],
   "source": [
    "print(2)"
   ]
  },
  {
   "cell_type": "code",
   "execution_count": null,
   "id": "5ee2707e",
   "metadata": {},
   "outputs": [],
   "source": [
    "print(\"2\")"
   ]
  },
  {
   "cell_type": "markdown",
   "id": "2b1390e1",
   "metadata": {},
   "source": [
    "## A.4 Checking datatypes\n",
    "If you ran the above examples, you'd realise that there isn't really a difference between a STRING and an INTEGER once printed. So, we need a method to check it. Your syllabus doesn't require knowing it, but it's a helpful tool, especially when **debugging**.\n",
    "\n",
    "The syntax to do so is simply another function:\n",
    "\n",
    "```python\n",
    "type(data) -> data_type\n",
    "```\n",
    "\n",
    "Here it is in action."
   ]
  },
  {
   "cell_type": "code",
   "execution_count": null,
   "id": "792c2b7b",
   "metadata": {},
   "outputs": [],
   "source": [
    "print(type(2))"
   ]
  },
  {
   "cell_type": "code",
   "execution_count": null,
   "id": "47679cbf",
   "metadata": {},
   "outputs": [],
   "source": [
    "print(type(\"2\"))\n",
    "print(type('2'))"
   ]
  },
  {
   "cell_type": "markdown",
   "id": "d39c5c1c",
   "metadata": {},
   "source": [
    "# 6: Variables"
   ]
  },
  {
   "cell_type": "markdown",
   "id": "8cd7698c",
   "metadata": {},
   "source": [
    "## 6.A: Remembering stuff\n",
    "Recall that for problems 1–3 we need a way for our computer to remember stuff.\n",
    "\n",
    "To you it is obvious that computers can remember data: if write something in a document and save it, it's going to be there the next time you open it even if the computer has been restarted. But... think about things like having a window open: the computer doesn't forget where on the screen you put it, until you either tell it to forget by closing it or shut down the computer.\n",
    "\n",
    "As you can probably tell, the former type is permanant **storage** (think of it as a hard disk or SSD), and the latter is temporary **memory** (think of it as RAM). We're going to begin by using the latter, partially because it's much simpler, and partially because it's just more appropriate."
   ]
  },
  {
   "cell_type": "markdown",
   "id": "51823089",
   "metadata": {},
   "source": [
    "## 6.1: Declaring a variable\n",
    "In C++, the syntax to **declare** a **variable** is something like this:\n",
    "\n",
    "```c++\n",
    "int x;\n",
    "```\n",
    "\n",
    "`int`, as we discussed before, is the \"symbol\" for integers. `x` refers to a named memory location. When the computer runs this program, it will allocate some spot in the RAM for me (it would typically be 4 bytes long in this case), and name it `x`. This is called a variable. [Dictionary definition](https://www.google.com/search?q=define+variable#:~:text=a%20data%20item%20that%20may%20take%20on%20more%20than%20one%20value%20during%20the%20runtime%20of%20a%20program.).\n",
    "\n",
    "If you like, you can **assign** a value to it as well: this has the effect of storing it in the allocated location.\n",
    "\n",
    "```c++\n",
    "int x = 5;\n",
    "```"
   ]
  }
 ],
 "metadata": {
  "celltoolbar": "Edit Metadata",
  "kernelspec": {
   "display_name": "Python 3 (ipykernel)",
   "language": "python",
   "name": "python3"
  },
  "language_info": {
   "codemirror_mode": {
    "name": "ipython",
    "version": 3
   },
   "file_extension": ".py",
   "mimetype": "text/x-python",
   "name": "python",
   "nbconvert_exporter": "python",
   "pygments_lexer": "ipython3",
   "version": "3.10.2"
  }
 },
 "nbformat": 4,
 "nbformat_minor": 5
}
